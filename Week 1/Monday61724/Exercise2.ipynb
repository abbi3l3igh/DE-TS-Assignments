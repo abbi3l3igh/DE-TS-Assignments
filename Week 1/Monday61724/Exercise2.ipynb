{
 "cells": [
  {
   "cell_type": "code",
   "execution_count": 5,
   "metadata": {},
   "outputs": [
    {
     "name": "stdout",
     "output_type": "stream",
     "text": [
      "{'Abbie': '98', 'Bill': '87', 'Dave': '65'}\n"
     ]
    }
   ],
   "source": [
    "#1. Create a Dictionary of 3 Students and their grades.\n",
    "students = {\n",
    "    \"Abbie\" : \"98\",\n",
    "    \"Bill\" : \"87\",\n",
    "    \"Dave\" : \"65\"\n",
    "}\n",
    "print(students)"
   ]
  },
  {
   "cell_type": "code",
   "execution_count": 6,
   "metadata": {},
   "outputs": [
    {
     "name": "stdout",
     "output_type": "stream",
     "text": [
      "{'Abbie': '98', 'Bill': '87', 'Dave': '65', 'John': '85'}\n"
     ]
    }
   ],
   "source": [
    "#2. Add a fourth student to the dictionary.\n",
    "students[\"John\"] = \"85\"\n",
    "\n",
    "print(students)"
   ]
  },
  {
   "cell_type": "code",
   "execution_count": 8,
   "metadata": {},
   "outputs": [
    {
     "name": "stdout",
     "output_type": "stream",
     "text": [
      "{'Abbie': {'Science': 'Thermo', 'Math': 'Abstract Alg', 'English': 'Literature', 'Social Studies': 'US History'}, 'Bill': {'Science': 'Chem', 'Math': 'Calc 1', 'English': 'Literature', 'Social Studies': 'WWII History'}, 'Dave': {'Science': 'Bio', 'Math': 'Pre Calc', 'English': 'Public Speaking', 'Social Studies': '20th Century American History'}, 'John': {'Science': 'Physics', 'Math': 'Prob and Stat', 'English': 'Public Speaking', 'Social Studies': 'Latin American History'}}\n"
     ]
    }
   ],
   "source": [
    "#3. Change the value of each student to another dictionary of their classes.\n",
    "students[\"Abbie\"] = {\n",
    "    \"Science\" : \"Thermo\",\n",
    "    \"Math\" : \"Abstract Alg\",\n",
    "    \"English\" : \"Literature\",\n",
    "    \"Social Studies\" : \"US History\" \n",
    "}\n",
    "students[\"Bill\"] = {\n",
    "    \"Science\" : \"Chem\",\n",
    "    \"Math\" : \"Calc 1\",\n",
    "    \"English\" : \"Literature\",\n",
    "    \"Social Studies\" : \"WWII History\" \n",
    "}\n",
    "students[\"Dave\"] = {\n",
    "    \"Science\" : \"Bio\",\n",
    "    \"Math\" : \"Pre Calc\",\n",
    "    \"English\" : \"Public Speaking\",\n",
    "    \"Social Studies\" : \"20th Century American History\" \n",
    "}\n",
    "students[\"John\"] = {\n",
    "    \"Science\" : \"Physics\",\n",
    "    \"Math\" : \"Prob and Stat\",\n",
    "    \"English\" : \"Public Speaking\",\n",
    "    \"Social Studies\" : \"Latin American History\" \n",
    "}\n",
    "\n",
    "print(students)"
   ]
  },
  {
   "cell_type": "code",
   "execution_count": 11,
   "metadata": {},
   "outputs": [
    {
     "name": "stdout",
     "output_type": "stream",
     "text": [
      "{'Bill', 'Abbie', 'Dave', 'John'}\n"
     ]
    }
   ],
   "source": [
    "#4. Add all names of the students to a set. \n",
    "student_names = set() #I had to specify set because when i did {} it was trying to make it a dictionary not a set\n",
    "for student in students.keys():\n",
    "    student_names.add(student)\n",
    "\n",
    "print(student_names)"
   ]
  }
 ],
 "metadata": {
  "kernelspec": {
   "display_name": "Python 3",
   "language": "python",
   "name": "python3"
  },
  "language_info": {
   "codemirror_mode": {
    "name": "ipython",
    "version": 3
   },
   "file_extension": ".py",
   "mimetype": "text/x-python",
   "name": "python",
   "nbconvert_exporter": "python",
   "pygments_lexer": "ipython3",
   "version": "3.12.4"
  }
 },
 "nbformat": 4,
 "nbformat_minor": 2
}
