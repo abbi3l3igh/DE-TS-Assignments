{
 "cells": [
  {
   "cell_type": "code",
   "execution_count": 5,
   "metadata": {},
   "outputs": [
    {
     "name": "stdout",
     "output_type": "stream",
     "text": [
      "[1, 4, 9]\n",
      "[1, 4, 9, 16, 25, 36, 49, 64, 81, 100]\n"
     ]
    }
   ],
   "source": [
    "#1. Use a list comprehension to create a list of squares of integers from 1 to 10. \n",
    "squares_under_ten = [value**2 for value in range(1,4)]\n",
    "print(squares_under_ten)\n",
    "squares_of_values_upto_10 = [value**2 for value in range(1,11)]\n",
    "print(squares_of_values_upto_10)\n"
   ]
  },
  {
   "cell_type": "code",
   "execution_count": 7,
   "metadata": {},
   "outputs": [
    {
     "name": "stdout",
     "output_type": "stream",
     "text": [
      "[4]\n",
      "[4, 16, 36, 64, 100]\n"
     ]
    }
   ],
   "source": [
    "#2. Filter a list to include only even numbers. \n",
    "only_evens_under10 = [num for num in squares_under_ten if num%2==0]\n",
    "print(only_evens_under10)\n",
    "only_evens_upto_10 = [num for num in squares_of_values_upto_10 if num%2==0]\n",
    "print(only_evens_upto_10)"
   ]
  },
  {
   "cell_type": "code",
   "execution_count": null,
   "metadata": {},
   "outputs": [],
   "source": [
    "#3. Use a dictionary comprehension to create a dictionary from two lists. \n",
    "# ** COME BACK IF TIME**"
   ]
  }
 ],
 "metadata": {
  "kernelspec": {
   "display_name": "Python 3",
   "language": "python",
   "name": "python3"
  },
  "language_info": {
   "codemirror_mode": {
    "name": "ipython",
    "version": 3
   },
   "file_extension": ".py",
   "mimetype": "text/x-python",
   "name": "python",
   "nbconvert_exporter": "python",
   "pygments_lexer": "ipython3",
   "version": "3.12.4"
  }
 },
 "nbformat": 4,
 "nbformat_minor": 2
}
