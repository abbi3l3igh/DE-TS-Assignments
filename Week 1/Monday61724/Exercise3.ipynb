{
 "cells": [
  {
   "cell_type": "code",
   "execution_count": 1,
   "metadata": {},
   "outputs": [
    {
     "name": "stdout",
     "output_type": "stream",
     "text": [
      "['This', 'is', 'a', 'full', 'and', 'complete', 'sentance.']\n"
     ]
    }
   ],
   "source": [
    "#1. Split a string into a list of words. \n",
    "string = \"This is a full and complete sentance.\"\n",
    "list_of_words = string.split()\n",
    "print(list_of_words)"
   ]
  },
  {
   "cell_type": "code",
   "execution_count": 3,
   "metadata": {},
   "outputs": [
    {
     "name": "stdout",
     "output_type": "stream",
     "text": [
      "This|is|a|full|and|complete|sentance.\n"
     ]
    }
   ],
   "source": [
    "#2. Join a list of words into a single string with pipes separating them. \n",
    "pipe = \"|\"\n",
    "new_string = pipe.join(list_of_words)\n",
    "print(new_string)"
   ]
  },
  {
   "cell_type": "code",
   "execution_count": 6,
   "metadata": {},
   "outputs": [
    {
     "name": "stdout",
     "output_type": "stream",
     "text": [
      "There were 2 t's in the word 'test\n"
     ]
    }
   ],
   "source": [
    "#3. Count the number of occurrences of a character in a string.\n",
    "diff_string = \"test\"\n",
    "char = \"t\"\n",
    "num_occurances = diff_string.count(char)\n",
    "print(f\"There were {num_occurances} t's in the word 'test\")"
   ]
  }
 ],
 "metadata": {
  "kernelspec": {
   "display_name": "Python 3",
   "language": "python",
   "name": "python3"
  },
  "language_info": {
   "codemirror_mode": {
    "name": "ipython",
    "version": 3
   },
   "file_extension": ".py",
   "mimetype": "text/x-python",
   "name": "python",
   "nbconvert_exporter": "python",
   "pygments_lexer": "ipython3",
   "version": "3.12.4"
  }
 },
 "nbformat": 4,
 "nbformat_minor": 2
}
