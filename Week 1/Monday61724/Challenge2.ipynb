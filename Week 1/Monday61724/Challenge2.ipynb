{
 "cells": [
  {
   "cell_type": "code",
   "execution_count": 4,
   "metadata": {},
   "outputs": [
    {
     "name": "stdout",
     "output_type": "stream",
     "text": [
      "2024-06-17 00:00:00\n"
     ]
    }
   ],
   "source": [
    "# 1. Parse a string into a datetime object. \n",
    "import datetime\n",
    "today = datetime.datetime.strptime(\"2024-06-17\", \"%Y-%m-%d\")\n",
    "print(today)"
   ]
  },
  {
   "cell_type": "code",
   "execution_count": 6,
   "metadata": {},
   "outputs": [
    {
     "name": "stdout",
     "output_type": "stream",
     "text": [
      "-49\n"
     ]
    }
   ],
   "source": [
    "#2. Create a function that takes two dates and returns the \n",
    "# number of weekdays between them. \n",
    "birthday = datetime.datetime.strptime(\"2024-08-05\", \"%Y-%m-%d\")\n",
    "\n",
    "def days_between (day1, day2):\n",
    "    return (day1-day2).days\n",
    "\n",
    "print(days_between(today, birthday))"
   ]
  },
  {
   "cell_type": "code",
   "execution_count": null,
   "metadata": {},
   "outputs": [],
   "source": [
    "#3. Create a function that accepts a start date, end date, \n",
    "# meeting datetime, and interval and returns all occurrences \n",
    "# of the event within that timeframe."
   ]
  }
 ],
 "metadata": {
  "kernelspec": {
   "display_name": "Python 3",
   "language": "python",
   "name": "python3"
  },
  "language_info": {
   "codemirror_mode": {
    "name": "ipython",
    "version": 3
   },
   "file_extension": ".py",
   "mimetype": "text/x-python",
   "name": "python",
   "nbconvert_exporter": "python",
   "pygments_lexer": "ipython3",
   "version": "3.12.4"
  }
 },
 "nbformat": 4,
 "nbformat_minor": 2
}
