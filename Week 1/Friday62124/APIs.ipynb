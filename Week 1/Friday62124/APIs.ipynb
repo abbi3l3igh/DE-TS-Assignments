{
 "cells": [
  {
   "cell_type": "code",
   "execution_count": 7,
   "metadata": {},
   "outputs": [
    {
     "name": "stdout",
     "output_type": "stream",
     "text": [
      "http://dog-api.kinduff.com/api/facts?number=1\n"
     ]
    }
   ],
   "source": [
    "import json\n",
    "import requests\n",
    "import os\n",
    "#- Connect to a free API \n",
    "    # https://github.com/public-apis/public-apis\n",
    "\n",
    "\n",
    "# When building a URL be consistent with slashes (all at front or all at end)\n",
    "base_url = 'http://dog-api.kinduff.com'\n",
    "dogs_api = '/api'\n",
    "facts_endpoint = \"/facts?number=1\"\n",
    "\n",
    "dog_facts_url = base_url+dogs_api+facts_endpoint\n",
    "print(dog_facts_url)"
   ]
  },
  {
   "cell_type": "code",
   "execution_count": 12,
   "metadata": {},
   "outputs": [
    {
     "name": "stdout",
     "output_type": "stream",
     "text": [
      "<Response [200]>\n"
     ]
    },
    {
     "data": {
      "text/plain": [
       "{'facts': ['Humans generally see better than dogs, but dogs see much better when there is low-light.'],\n",
       " 'success': True}"
      ]
     },
     "execution_count": 12,
     "metadata": {},
     "output_type": "execute_result"
    }
   ],
   "source": [
    "# Try 3 different APIs \n",
    "    # No Auth \n",
    "response = requests.get(dog_facts_url)\n",
    "print(response)\n",
    "data = response.json()\n",
    "data"
   ]
  },
  {
   "cell_type": "code",
   "execution_count": 15,
   "metadata": {},
   "outputs": [
    {
     "name": "stdout",
     "output_type": "stream",
     "text": [
      "https://api.thedogapi.com/v1/images/search?size=med&mime_types=jpg&format=json&has_breeds=true&order=RANDOM&page=0&limit=1?api_key=live_hr25Z4VycHJ9dtnWgCKJX93nLrQ4K7DtaT1wGEYZNXtcv1EvFbLHpBMlRpljSOFd\n",
      "<Response [200]>\n"
     ]
    },
    {
     "data": {
      "text/plain": [
       "[{'id': 't4pZFktBB',\n",
       "  'url': 'https://cdn2.thedogapi.com/images/t4pZFktBB.jpg',\n",
       "  'width': 1024,\n",
       "  'height': 768}]"
      ]
     },
     "execution_count": 15,
     "metadata": {},
     "output_type": "execute_result"
    }
   ],
   "source": [
    "    # API Key \n",
    "url = \"https://api.thedogapi.com/v1/images/search?size=med&mime_types=jpg&format=json&has_breeds=true&order=RANDOM&page=0&limit=1\"\n",
    "from dotenv import load_dotenv\n",
    "\n",
    "# put .env in the .gitignore\n",
    "load_dotenv()\n",
    "api_key = os.environ['dog_api_key']\n",
    "\n",
    "url_api_key = url + '?api_key='+api_key\n",
    "print(url_api_key)\n",
    "response = requests.get(url)\n",
    "print(response)\n",
    "data = response.json()\n",
    "data"
   ]
  },
  {
   "cell_type": "code",
   "execution_count": 17,
   "metadata": {},
   "outputs": [
    {
     "ename": "IndentationError",
     "evalue": "expected an indented block after function definition on line 12 (410078979.py, line 13)",
     "output_type": "error",
     "traceback": [
      "\u001b[1;36m  Cell \u001b[1;32mIn[17], line 13\u001b[1;36m\u001b[0m\n\u001b[1;33m    \"\"\"\u001b[0m\n\u001b[1;37m    ^\u001b[0m\n\u001b[1;31mIndentationError\u001b[0m\u001b[1;31m:\u001b[0m expected an indented block after function definition on line 12\n"
     ]
    }
   ],
   "source": [
    "    # OAuth \n",
    "    # TODO: no idea\n",
    "\n",
    "load_dotenv()\n",
    "client_id = os.environ['CLIENT_ID']\n",
    "client_secret = os.environ['CLIENT_SECRET']\n",
    "#git_hub_endpoint = f'/repos/abbi3l3igh/Stewardle/issues'\n",
    "#method = \"Path\"\n",
    "#header = \n"
   ]
  }
 ],
 "metadata": {
  "kernelspec": {
   "display_name": ".venv",
   "language": "python",
   "name": "python3"
  },
  "language_info": {
   "codemirror_mode": {
    "name": "ipython",
    "version": 3
   },
   "file_extension": ".py",
   "mimetype": "text/x-python",
   "name": "python",
   "nbconvert_exporter": "python",
   "pygments_lexer": "ipython3",
   "version": "3.12.4"
  }
 },
 "nbformat": 4,
 "nbformat_minor": 2
}
