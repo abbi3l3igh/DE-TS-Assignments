{
 "cells": [
  {
   "cell_type": "markdown",
   "metadata": {},
   "source": [
    "1. Basic Computer Components \n",
    "\n",
    "    - Create a base class named `ComputerComponent` which will act as a superclass for different computer parts. \n",
    "    - Define common attributes (like `manufacturer`, `model`, `serial_number`) in the `ComputerComponent` class. \n",
    "    - Implement a method in `ComputerComponent` to display details about the component. "
   ]
  },
  {
   "cell_type": "code",
   "execution_count": 1,
   "metadata": {},
   "outputs": [],
   "source": [
    "# Basic Computer Components \n",
    "    # Create a base class named `ComputerComponent` which will act as a superclass for different computer parts. \n",
    "class ComputerComponent :\n",
    "    def __init__(self, manufacturer, model, serial_number) -> None:\n",
    "        # Define common attributes (like `manufacturer`, `model`, `serial_number`) in the `ComputerComponent` class. \n",
    "        self.manufacturer = manufacturer\n",
    "        self.model = model\n",
    "        self.serial_number = serial_number\n",
    "\n",
    "    # Implement a method in `ComputerComponent` to display details about the component. \n",
    "    def display_details(self):\n",
    "        return f'Manufacturer: {self.manufacturer}\\nModel: {self.model}\\nSerial Number: {self.serial_number}'\n"
   ]
  },
  {
   "cell_type": "code",
   "execution_count": 3,
   "metadata": {},
   "outputs": [
    {
     "name": "stdout",
     "output_type": "stream",
     "text": [
      "Manufacturer: TestMan\n",
      "Model: TestMod\n",
      "Serial Number: TestSN\n"
     ]
    }
   ],
   "source": [
    "test_component = ComputerComponent(\"TestMan\", \"TestMod\", \"TestSN\")\n",
    "print(test_component.display_details())"
   ]
  },
  {
   "cell_type": "code",
   "execution_count": 18,
   "metadata": {},
   "outputs": [],
   "source": [
    "# Specific Component Classes \n",
    "    # Create subclasses of `ComputerComponent` for different components: `CPU`, `Memory`, `Storage`. \n",
    "    # Each subclass should have specific attributes relevant to the component type.\n",
    "\n",
    "# `CPU`might have `cores` and `clock_speed`` \n",
    "class CPU(ComputerComponent):\n",
    "    def __init__(self, manufacturer, model, serial_number, cores, clock_speed) -> None:\n",
    "        super().__init__(manufacturer, model, serial_number)\n",
    "        self.cores = cores\n",
    "        self.clock_speed = clock_speed\n",
    "    \n",
    "    def display_details(self):\n",
    "        print(super().display_details() + f\"\\nCores: {self.cores}\\nClock Speed: {self.clock_speed}\")\n",
    "\n",
    "# `Memory` could have `capacity`\n",
    "class Memory(ComputerComponent):\n",
    "    def __init__(self, manufacturer, model, serial_number, capacity) -> None:\n",
    "        super().__init__(manufacturer, model, serial_number)\n",
    "        self.capacity = capacity\n",
    "\n",
    "    def display_details(self):\n",
    "        print(super().display_details() + f\"\\nCapacity: {self.capacity}\")\n",
    "\n",
    "# `Storage` might include `storage_type` and `size`.\n",
    "class Storage(ComputerComponent):\n",
    "    def __init__(self, manufacturer, model, serial_number, storage_type, size) -> None:\n",
    "        super().__init__(manufacturer, model, serial_number)\n",
    "        self.storage_type = storage_type\n",
    "        self.size = size\n",
    "    \n",
    "    def display_details(self):\n",
    "        print(super().display_details() + f\"\\nStorage Type: {self.storage_type}\\nSize: {self.size}\")"
   ]
  },
  {
   "cell_type": "code",
   "execution_count": 20,
   "metadata": {},
   "outputs": [
    {
     "name": "stdout",
     "output_type": "stream",
     "text": [
      "Manufacturer: CPU\n",
      "Model: CPU\n",
      "Serial Number: CPU\n",
      "Cores: CPU\n",
      "Clock Speed: CPU\n",
      "\n",
      "Manufacturer: Mem\n",
      "Model: Mem\n",
      "Serial Number: Mem\n",
      "Capacity: Mem\n",
      "\n",
      "Manufacturer: Stor\n",
      "Model: Stor\n",
      "Serial Number: Stor\n",
      "Storage Type: Stor\n",
      "Size: Stor\n"
     ]
    }
   ],
   "source": [
    "test_CPU = CPU(\"CPU\", \"CPU\", \"CPU\", \"CPU\", \"CPU\")\n",
    "test_CPU.display_details()\n",
    "print(\"\")\n",
    "\n",
    "test_memory = Memory(\"Mem\", \"Mem\", \"Mem\", \"Mem\")\n",
    "test_memory.display_details()\n",
    "print(\"\")\n",
    "\n",
    "test_storage = Storage(\"Stor\", \"Stor\", \"Stor\", \"Stor\", \"Stor\")\n",
    "test_storage.display_details()"
   ]
  },
  {
   "cell_type": "code",
   "execution_count": 30,
   "metadata": {},
   "outputs": [
    {
     "name": "stdout",
     "output_type": "stream",
     "text": [
      "<class '__main__.CPU'>\n",
      "<class '__main__.Memory'>\n",
      "<class '__main__.Storage'>\n"
     ]
    }
   ],
   "source": [
    "print(type(test_CPU))\n",
    "print(type(test_memory))\n",
    "print(type(test_storage))"
   ]
  },
  {
   "cell_type": "code",
   "execution_count": 33,
   "metadata": {},
   "outputs": [],
   "source": [
    "# Computer Class \n",
    "    # Create a `Computer` class that uses these components.\n",
    "class Computer():\n",
    "    def __init__(self, cpu, memory, storage) -> None:\n",
    "        if(isinstance(cpu, ComputerComponent)) and (isinstance(memory, ComputerComponent)) and (isinstance(storage, ComputerComponent)):\n",
    "            self.cpu = cpu\n",
    "            self.memory = memory\n",
    "            self.storage = storage\n",
    "        else:\n",
    "            raise TypeError\n",
    "    # The `Computer` class should have attributes to hold instances of `CPU`, `Memory`, and `Storage`. \n",
    "\n",
    "    def replace_component(self, new_component):\n",
    "        if(isinstance(new_component, CPU)):\n",
    "            self.cpu = new_component\n",
    "        elif (isinstance(new_component, Memory)):\n",
    "            self.memory = new_component\n",
    "        elif (isinstance(new_component, Storage)):\n",
    "            self.storage = new_component\n",
    "\n",
    "    def display_computer_info(self) -> None:\n",
    "    # Implement a method in the `Computer` class to display information about the entire computer, including its components.\n",
    "        self.cpu.display_details()\n",
    "        self.memory.display_details() \n",
    "        self.storage.display_details()"
   ]
  },
  {
   "cell_type": "code",
   "execution_count": 32,
   "metadata": {},
   "outputs": [
    {
     "name": "stdout",
     "output_type": "stream",
     "text": [
      "Manufacturer: CPU\n",
      "Model: CPU\n",
      "Serial Number: CPU\n",
      "Cores: CPU\n",
      "Clock Speed: CPU\n",
      "Manufacturer: Mem\n",
      "Model: Mem\n",
      "Serial Number: Mem\n",
      "Capacity: Mem\n",
      "Manufacturer: Stor\n",
      "Model: Stor\n",
      "Serial Number: Stor\n",
      "Storage Type: Stor\n",
      "Size: Stor\n"
     ]
    }
   ],
   "source": [
    "test_computer = Computer(test_CPU, test_memory, test_storage)\n",
    "test_computer.display_computer_info()"
   ]
  },
  {
   "cell_type": "code",
   "execution_count": 41,
   "metadata": {},
   "outputs": [
    {
     "name": "stdout",
     "output_type": "stream",
     "text": [
      "Manufacturer: New\n",
      "Model: New\n",
      "Serial Number: New\n",
      "Cores: New\n",
      "Clock Speed: New\n",
      "Manufacturer: New\n",
      "Model: New\n",
      "Serial Number: New\n",
      "Capacity: New\n",
      "Manufacturer: New\n",
      "Model: New\n",
      "Serial Number: New\n",
      "Storage Type: New\n",
      "Size: New\n"
     ]
    }
   ],
   "source": [
    "# Advanced Features \n",
    "    # Implement error checking in the `Computer` class to ensure that only appropriate components\n",
    "    # (instances of `ComputerComponent` subclasses) are associated with the computer. \n",
    "        # Done\n",
    "#test_computer_2 = Computer(test_CPU, test_memory, \"test_storage\") # Raises an error when ran due to an incorrect type\n",
    "    # Implement a method that allows a user to replace a component with a different one of the same type. \n",
    "        # DONE\n",
    "new_CPU = CPU(\"New\", \"New\", \"New\", \"New\", \"New\")\n",
    "new_memory = Memory(\"New\", \"New\", \"New\", \"New\")\n",
    "new_storage = Storage(\"New\", \"New\", \"New\", \"New\", \"New\")\n",
    "test_computer.replace_component(new_CPU)\n",
    "test_computer.replace_component(new_memory)\n",
    "test_computer.replace_component(new_storage)\n",
    "test_computer.display_computer_info()\n",
    "    # Use polymorphism to allow different types of CPUs, Memories, and Storages to be used interchangeably\n",
    "    # in the `Computer` class. \n",
    "        #TODO"
   ]
  }
 ],
 "metadata": {
  "kernelspec": {
   "display_name": ".venv",
   "language": "python",
   "name": "python3"
  },
  "language_info": {
   "codemirror_mode": {
    "name": "ipython",
    "version": 3
   },
   "file_extension": ".py",
   "mimetype": "text/x-python",
   "name": "python",
   "nbconvert_exporter": "python",
   "pygments_lexer": "ipython3",
   "version": "3.12.4"
  }
 },
 "nbformat": 4,
 "nbformat_minor": 2
}
