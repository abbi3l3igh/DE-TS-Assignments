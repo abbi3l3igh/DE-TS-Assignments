{
 "cells": [
  {
   "cell_type": "code",
   "execution_count": 2,
   "metadata": {},
   "outputs": [
    {
     "name": "stdout",
     "output_type": "stream",
     "text": [
      "3\n",
      "4\n"
     ]
    }
   ],
   "source": [
    "#Write a function two take in n words and returns a single integer of their combined score.\n",
    "def Word_Score(*args):\n",
    "    current_score = 0\n",
    "    for arg in args:\n",
    "        num_vowels = 0\n",
    "        for char in arg:\n",
    "            if char in 'aeiouyAEIOUY':\n",
    "                num_vowels = num_vowels + 1\n",
    "        # A word is worth 1 point if it has an odd number of vowels\n",
    "        # A word is worth 2 points if it has an even number of vowels\n",
    "        if num_vowels%2==0:\n",
    "            #current_score = current_score + 2\n",
    "            current_score += 2\n",
    "        else:\n",
    "            current_score = current_score + 1\n",
    "    # Output should be the summed total of all scores of the words\n",
    "    print(current_score)\n",
    "    # For the purposes of this excercise vowels will consist of [a,e,i,o,u,y]\n",
    "\n",
    "Word_Score(\"excercise\", \"purposes\")\n",
    "Word_Score(\"programming\", \"is\", \"awesome\")"
   ]
  }
 ],
 "metadata": {
  "kernelspec": {
   "display_name": "Python 3",
   "language": "python",
   "name": "python3"
  },
  "language_info": {
   "codemirror_mode": {
    "name": "ipython",
    "version": 3
   },
   "file_extension": ".py",
   "mimetype": "text/x-python",
   "name": "python",
   "nbconvert_exporter": "python",
   "pygments_lexer": "ipython3",
   "version": "3.12.4"
  }
 },
 "nbformat": 4,
 "nbformat_minor": 2
}
