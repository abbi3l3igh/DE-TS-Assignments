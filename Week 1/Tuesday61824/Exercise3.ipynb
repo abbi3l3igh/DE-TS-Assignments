{
 "cells": [
  {
   "cell_type": "code",
   "execution_count": 50,
   "metadata": {},
   "outputs": [
    {
     "name": "stdout",
     "output_type": "stream",
     "text": [
      "Pride and Prejudice is 194676 words long.\n"
     ]
    }
   ],
   "source": [
    "#Get an accurate word count of the Pride and Prejudice text starting from the first word of Chapter 1.\n",
    "path = \"Pride_and_Prejudice.txt\"\n",
    "\n",
    "with open(path, mode = 'rt', encoding = \"utf-8\") as f:\n",
    "    f.seek(1991) #first letter of first word in chap 1\n",
    "    lines = f.readlines()\n",
    "#print(lines[1])\n",
    "formatted_lines = []\n",
    "words = []\n",
    "for line in lines:\n",
    "    if not line.isspace() and line.find(\"Chapter \") == -1:\n",
    "        formatted_lines.append(line)\n",
    "        words.extend(line.split(\" \"))\n",
    "#print(formatted_lines[0])\n",
    "#print(words[1])\n",
    "print(f\"Pride and Prejudice is {len(words)} words long.\")\n",
    "\n"
   ]
  }
 ],
 "metadata": {
  "kernelspec": {
   "display_name": "Python 3",
   "language": "python",
   "name": "python3"
  },
  "language_info": {
   "codemirror_mode": {
    "name": "ipython",
    "version": 3
   },
   "file_extension": ".py",
   "mimetype": "text/x-python",
   "name": "python",
   "nbconvert_exporter": "python",
   "pygments_lexer": "ipython3",
   "version": "3.12.4"
  }
 },
 "nbformat": 4,
 "nbformat_minor": 2
}
