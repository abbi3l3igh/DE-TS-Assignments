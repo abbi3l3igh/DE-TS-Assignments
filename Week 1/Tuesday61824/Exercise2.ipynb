{
 "cells": [
  {
   "cell_type": "code",
   "execution_count": 6,
   "metadata": {},
   "outputs": [
    {
     "name": "stdout",
     "output_type": "stream",
     "text": [
      "<re.Match object; span=(0, 9), match='According'>\n"
     ]
    }
   ],
   "source": [
    "#Build regular expressions that matches patterns with the following constraints:\n",
    "import re\n",
    "# Any word at the begging of a string\n",
    "string = \"According to all known laws of aviation, there is no way a bee should be able to fly.\"\n",
    "match = re.search(r\"^\\w+\\b\", string)\n",
    "print(match)"
   ]
  },
  {
   "cell_type": "code",
   "execution_count": 14,
   "metadata": {},
   "outputs": [
    {
     "name": "stdout",
     "output_type": "stream",
     "text": [
      "None\n",
      "[' 1']\n"
     ]
    }
   ],
   "source": [
    "# Any time that the character after a whitespace is a digit\n",
    "string = \"Its wings are too small to get its fat little body off the ground.\"\n",
    "match = re.search(r\"\\s\\d\", string)\n",
    "print(match)\n",
    "\n",
    "string = \"There are 163 days until Thanksgiving\"\n",
    "match = re.findall(r\"\\s\\d\", string)\n",
    "print(match)"
   ]
  },
  {
   "cell_type": "code",
   "execution_count": 15,
   "metadata": {},
   "outputs": [
    {
     "name": "stdout",
     "output_type": "stream",
     "text": [
      "['.']\n"
     ]
    }
   ],
   "source": [
    "# any word with punctuation at the end of a string\n",
    "string = \"The bee, of course, flies anyway because bees don't care what humans think is impossible.\"\n",
    "match = re.findall(r\"[.!?]$\", string)\n",
    "print(match)"
   ]
  },
  {
   "cell_type": "code",
   "execution_count": 26,
   "metadata": {},
   "outputs": [
    {
     "name": "stdout",
     "output_type": "stream",
     "text": [
      "['1423']\n"
     ]
    }
   ],
   "source": [
    "# any occurances of consecutive digits 1,2, or 3\n",
    "string = \"1423\"\n",
    "match = re.findall(r\".*[1-3][1-3]+.*\", string)\n",
    "print(match)"
   ]
  },
  {
   "cell_type": "code",
   "execution_count": 61,
   "metadata": {},
   "outputs": [
    {
     "name": "stdout",
     "output_type": "stream",
     "text": [
      "[('', 'letter', ''), ('', 'filler', ''), ('', 'skill', ''), ('', 'parrot', '')]\n"
     ]
    }
   ],
   "source": [
    "# any word with double letters (i.e. letter, filler, skill, parrot)\n",
    "#string = \"Yellow, black. Yellow, black. Ooh, black and Yellow!\"\n",
    "string = \"letter, filler, skill, parrot\"\n",
    "match = re.findall(r\"([a-zA-Z]*)([a-zA-Z]+)\\1([a-zA-Z]*)\", string)\n",
    "print(match)"
   ]
  }
 ],
 "metadata": {
  "kernelspec": {
   "display_name": "Python 3",
   "language": "python",
   "name": "python3"
  },
  "language_info": {
   "codemirror_mode": {
    "name": "ipython",
    "version": 3
   },
   "file_extension": ".py",
   "mimetype": "text/x-python",
   "name": "python",
   "nbconvert_exporter": "python",
   "pygments_lexer": "ipython3",
   "version": "3.12.4"
  }
 },
 "nbformat": 4,
 "nbformat_minor": 2
}
