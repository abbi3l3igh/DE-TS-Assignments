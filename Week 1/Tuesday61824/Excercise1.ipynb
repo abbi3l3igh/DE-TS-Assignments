{
 "cells": [
  {
   "cell_type": "code",
   "execution_count": 4,
   "metadata": {},
   "outputs": [
    {
     "name": "stdout",
     "output_type": "stream",
     "text": [
      "test:\n",
      "True\n",
      "True\n",
      "False\n",
      "True\n",
      "False\n",
      " \n",
      "TEST1:\n",
      "True\n",
      "True\n",
      "True\n",
      "False\n",
      "True\n"
     ]
    }
   ],
   "source": [
    "def string_valid(string):\n",
    "    #On the first line, print True if  has any alphanumeric characters. Otherwise, print False.\n",
    "    is_alphanum = False\n",
    "    for char in string:\n",
    "        if(char.isalnum()):\n",
    "            is_alphanum = True\n",
    "    if(is_alphanum):\n",
    "        print(\"True\")\n",
    "    else:\n",
    "        print(\"False\")\n",
    "        \n",
    "    #On the second line, print True if  has any alphabetical characters. Otherwise, print False.\n",
    "    is_alpha = False\n",
    "    for char in string:\n",
    "        if(char.isalpha()):\n",
    "            is_alpha = True\n",
    "    if(is_alpha):\n",
    "        print(\"True\")\n",
    "    else:\n",
    "        print(\"False\")\n",
    "\n",
    "    #On the third line, print True if  has any digits. Otherwise, print False.\n",
    "    is_digit = False\n",
    "    for char in string:\n",
    "        if(char.isdigit()):\n",
    "            is_digit = True\n",
    "    if(is_digit):\n",
    "        print(\"True\")\n",
    "    else:\n",
    "        print(\"False\")\n",
    "\n",
    "    #On the fourth line, print True if  has any lowercase characters. Otherwise, print False.\n",
    "    is_lower = False\n",
    "    for char in string:\n",
    "        if(char.islower()):\n",
    "            is_lower = True\n",
    "    if(is_lower):\n",
    "        print(\"True\")\n",
    "    else:\n",
    "        print(\"False\")\n",
    "    \n",
    "    #On the fifth line, print True if  has any uppercase characters. Otherwise, print False.\n",
    "    is_upper = False\n",
    "    for char in string:\n",
    "        if(char.isupper()):\n",
    "            is_upper = True\n",
    "    if(is_upper):\n",
    "        print(\"True\")\n",
    "    else:\n",
    "        print(\"False\")\n",
    "\n",
    "user_input = input(\"Enter a phrase: \")\n",
    "print(user_input)\n",
    "string_valid(user_input)"
   ]
  },
  {
   "cell_type": "code",
   "execution_count": 2,
   "metadata": {},
   "outputs": [
    {
     "name": "stdout",
     "output_type": "stream",
     "text": [
      "TEST1\n",
      "True\n",
      "True\n",
      "True\n",
      "False\n",
      "True\n"
     ]
    }
   ],
   "source": [
    "#USING REGEX\n",
    "#Write a function that takes in an input from the user and runs a string validation check on it. The output should be as follows.\n",
    "import re\n",
    "\n",
    "def string_valid(string):\n",
    "    #On the first line, print True if  has any alphanumeric characters. Otherwise, print False.\n",
    "    if(re.search(r\"[0-9a-zA-z]+\", string)):\n",
    "        print(\"True\")\n",
    "    else:\n",
    "        print(\"False\")\n",
    "    \n",
    "    #On the second line, print True if  has any alphabetical characters. Otherwise, print False.\n",
    "    if(re.search(r\"[a-zA-z]+\", string)):\n",
    "        print(\"True\")\n",
    "    else:\n",
    "        print(\"False\")\n",
    "    #On the third line, print True if  has any digits. Otherwise, print False.\n",
    "    if(re.search(r\"[0-9]+\", string)):\n",
    "        print(\"True\")\n",
    "    else:\n",
    "        print(\"False\")\n",
    "    #On the fourth line, print True if  has any lowercase characters. Otherwise, print False.\n",
    "    if(re.search(r\"[a-z]+\", string)):\n",
    "        print(\"True\")\n",
    "    else:\n",
    "        print(\"False\")\n",
    "    #On the fifth line, print True if  has any uppercase characters. Otherwise, print False.\n",
    "    if(re.search(r\"[A-Z]+\", string)):\n",
    "        print(\"True\")\n",
    "    else:\n",
    "        print(\"False\")\n",
    "\n",
    "user_input = input(\"Enter a phrase: \")\n",
    "print(user_input)\n",
    "string_valid(user_input)"
   ]
  }
 ],
 "metadata": {
  "kernelspec": {
   "display_name": "Python 3",
   "language": "python",
   "name": "python3"
  },
  "language_info": {
   "codemirror_mode": {
    "name": "ipython",
    "version": 3
   },
   "file_extension": ".py",
   "mimetype": "text/x-python",
   "name": "python",
   "nbconvert_exporter": "python",
   "pygments_lexer": "ipython3",
   "version": "3.12.4"
  }
 },
 "nbformat": 4,
 "nbformat_minor": 2
}
