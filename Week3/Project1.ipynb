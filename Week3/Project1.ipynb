{
 "cells": [
  {
   "cell_type": "code",
   "execution_count": 157,
   "metadata": {},
   "outputs": [],
   "source": [
    "import requests\n",
    "import os\n",
    "\n",
    "from dotenv import load_dotenv\n",
    "\n",
    "# put .env in the .gitignore\n",
    "load_dotenv()\n",
    "api_key = os.environ['polygenio_key']\n"
   ]
  },
  {
   "cell_type": "markdown",
   "metadata": {},
   "source": [
    "# First I retreived the first year of data (1/1/2023 - 1/1/2024)"
   ]
  },
  {
   "cell_type": "markdown",
   "metadata": {},
   "source": [
    "## Getting the Stocks data for Apple\n",
    "I picked Apple because they are known for being a fairly 'safe' stock"
   ]
  },
  {
   "cell_type": "code",
   "execution_count": 15,
   "metadata": {},
   "outputs": [
    {
     "name": "stdout",
     "output_type": "stream",
     "text": [
      "https://api.polygon.io/v2/aggs/ticker/AAPL/range/1/day/2023-01-01/2024-07-07?adjusted=true&sort=asc&apiKey=TBTtUMKY5QJR0s4wkB2GvyyT0dPe90eH\n"
     ]
    }
   ],
   "source": [
    "apple_stocks_url = 'https://api.polygon.io/v2/aggs/ticker/AAPL/range/1/day/2023-01-01/2024-07-07?adjusted=true&sort=asc&apiKey=' + api_key\n",
    "\n",
    "print(apple_stocks_url)"
   ]
  },
  {
   "cell_type": "code",
   "execution_count": 16,
   "metadata": {},
   "outputs": [
    {
     "data": {
      "text/plain": [
       "<Response [200]>"
      ]
     },
     "execution_count": 16,
     "metadata": {},
     "output_type": "execute_result"
    }
   ],
   "source": [
    "apple_response = requests.get(apple_stocks_url)\n",
    "# Should be 200 if the request worked\n",
    "apple_response"
   ]
  },
  {
   "cell_type": "code",
   "execution_count": 17,
   "metadata": {},
   "outputs": [],
   "source": [
    "apple_data = apple_response.json()\n",
    "apple_data\n",
    "apple = apple_data['results']"
   ]
  },
  {
   "cell_type": "markdown",
   "metadata": {},
   "source": [
    "## Getting the Stocks data for Luxurban Hotels\n",
    "I just thought their company sounded cool. They lease entire hotels on a long-term basis \n",
    "and rent out hotel rooms in the property it leases\n"
   ]
  },
  {
   "cell_type": "code",
   "execution_count": 18,
   "metadata": {},
   "outputs": [],
   "source": [
    "luxh_stocks_url = 'https://api.polygon.io/v2/aggs/ticker/LUXH/range/1/day/2023-01-01/2024-07-07?adjusted=true&sort=asc&apiKey=' + api_key\n",
    "luxh_response = requests.get(luxh_stocks_url)\n",
    "luxh_data = luxh_response.json()\n",
    "luxh = luxh_data['results']"
   ]
  },
  {
   "cell_type": "markdown",
   "metadata": {},
   "source": [
    "## Getting the Stocks data for GameStop\n",
    "A few of my friends owned/bought GameStop Stocks a few years ago when the stock blew up, so I thought it would be fun to see how this stock preforms"
   ]
  },
  {
   "cell_type": "code",
   "execution_count": 19,
   "metadata": {},
   "outputs": [],
   "source": [
    "gme_stocks_url = 'https://api.polygon.io/v2/aggs/ticker/GME/range/1/day/2023-01-01/2024-07-07?adjusted=true&sort=asc&apiKey=' + api_key\n",
    "gme_response = requests.get(gme_stocks_url)\n",
    "gme_data = gme_response.json()\n",
    "gme = gme_data['results']"
   ]
  },
  {
   "cell_type": "markdown",
   "metadata": {},
   "source": [
    "## Getting the Stocks data for Lululemon\n",
    "I like working out and lululemon has quickly become a top athletic brand in both mens and womens clothing\n"
   ]
  },
  {
   "cell_type": "code",
   "execution_count": 20,
   "metadata": {},
   "outputs": [],
   "source": [
    "lulu_stocks_url = 'https://api.polygon.io/v2/aggs/ticker/LULU/range/1/day/2023-01-01/2024-07-07?adjusted=true&sort=asc&apiKey=' + api_key\n",
    "lulu_response = requests.get(lulu_stocks_url)\n",
    "lulu_data = lulu_response.json()\n",
    "lulu = lulu_data['results']"
   ]
  },
  {
   "cell_type": "markdown",
   "metadata": {},
   "source": [
    "## Getting the Foreign Exchange between the Euro and the USD"
   ]
  },
  {
   "cell_type": "code",
   "execution_count": 21,
   "metadata": {},
   "outputs": [],
   "source": [
    "eurusd_forex_url = 'https://api.polygon.io/v2/aggs/ticker/C:EURUSD/range/1/day/2023-01-01/2024-07-07?adjusted=true&sort=asc&apiKey=' + api_key\n",
    "eurusd_response = requests.get(eurusd_forex_url)\n",
    "eurusd_data = eurusd_response.json()\n",
    "eurusd = eurusd_data['results']"
   ]
  },
  {
   "cell_type": "markdown",
   "metadata": {},
   "source": [
    "## Getting an ETF\n",
    "I chose DFSI because it sounds interesting"
   ]
  },
  {
   "cell_type": "code",
   "execution_count": 22,
   "metadata": {},
   "outputs": [],
   "source": [
    "dfsi_forex_url = 'https://api.polygon.io/v2/aggs/ticker/DFSI/range/1/day/2023-01-01/2024-07-07?adjusted=true&sort=asc&apiKey=' + api_key\n",
    "dfsi_response = requests.get(dfsi_forex_url)\n",
    "dfsi_data = dfsi_response.json()\n",
    "dfsi = dfsi_data['results']"
   ]
  },
  {
   "cell_type": "markdown",
   "metadata": {},
   "source": [
    "## Getting an Index\n",
    "I pick Nasdaq-100 because it was suggested in our chat"
   ]
  },
  {
   "cell_type": "code",
   "execution_count": 23,
   "metadata": {},
   "outputs": [],
   "source": [
    "ndx_forex_url = 'https://api.polygon.io/v2/aggs/ticker/I:NDX/range/1/day/2023-01-01/2024-07-07?sort=asc&apiKey=' + api_key\n",
    "ndx_response = requests.get(ndx_forex_url)\n",
    "ndx_data = ndx_response.json()\n",
    "ndx = ndx_data['results']"
   ]
  },
  {
   "cell_type": "code",
   "execution_count": 24,
   "metadata": {},
   "outputs": [],
   "source": [
    "ndxt_forex_url = 'https://api.polygon.io/v2/aggs/ticker/I:NDXT/range/1/day/2023-01-01/2024-07-07?sort=asc&apiKey=' + api_key\n",
    "ndxt_response = requests.get(ndxt_forex_url)\n",
    "ndxt_data = ndxt_response.json()\n",
    "ndxt_data\n",
    "ndxt = ndxt_data['results']"
   ]
  },
  {
   "cell_type": "markdown",
   "metadata": {},
   "source": [
    "# Now I will take these dictonary variables and Create Data Frames from them and Clean these Data Frames"
   ]
  },
  {
   "cell_type": "markdown",
   "metadata": {},
   "source": [
    "## Creating all of the Data Frames"
   ]
  },
  {
   "cell_type": "code",
   "execution_count": 25,
   "metadata": {},
   "outputs": [],
   "source": [
    "import pandas as pd\n",
    "\n",
    "# First I am going to create a Data Frame for each of my dictionaries\n",
    "\n",
    "df_dfsi = pd.json_normalize(dfsi)\n",
    "df_eurusd = pd.json_normalize(eurusd)\n",
    "df_lulu = pd.json_normalize(lulu)\n",
    "df_gme = pd.json_normalize(gme)\n",
    "df_luxh = pd.json_normalize(luxh)\n",
    "df_aapl = pd.json_normalize(apple)\n",
    "df_ndx = pd.json_normalize(ndx)"
   ]
  },
  {
   "cell_type": "code",
   "execution_count": 26,
   "metadata": {},
   "outputs": [],
   "source": [
    "import pandas as pd\n",
    "df_ndxt = pd.json_normalize(ndxt)"
   ]
  },
  {
   "cell_type": "markdown",
   "metadata": {},
   "source": [
    "## Cleaning the DFSI data frame"
   ]
  },
  {
   "cell_type": "code",
   "execution_count": 27,
   "metadata": {},
   "outputs": [
    {
     "name": "stdout",
     "output_type": "stream",
     "text": [
      "<class 'pandas.core.frame.DataFrame'>\n",
      "RangeIndex: 378 entries, 0 to 377\n",
      "Data columns (total 8 columns):\n",
      " #   Column  Non-Null Count  Dtype  \n",
      "---  ------  --------------  -----  \n",
      " 0   v       378 non-null    int64  \n",
      " 1   vw      378 non-null    float64\n",
      " 2   o       378 non-null    float64\n",
      " 3   c       378 non-null    float64\n",
      " 4   h       378 non-null    float64\n",
      " 5   l       378 non-null    float64\n",
      " 6   t       378 non-null    int64  \n",
      " 7   n       378 non-null    int64  \n",
      "dtypes: float64(5), int64(3)\n",
      "memory usage: 23.8 KB\n"
     ]
    }
   ],
   "source": [
    "# Running to make sure there are no nulls\n",
    "df_dfsi.info()"
   ]
  },
  {
   "cell_type": "code",
   "execution_count": 28,
   "metadata": {},
   "outputs": [
    {
     "data": {
      "text/html": [
       "<div>\n",
       "<style scoped>\n",
       "    .dataframe tbody tr th:only-of-type {\n",
       "        vertical-align: middle;\n",
       "    }\n",
       "\n",
       "    .dataframe tbody tr th {\n",
       "        vertical-align: top;\n",
       "    }\n",
       "\n",
       "    .dataframe thead th {\n",
       "        text-align: right;\n",
       "    }\n",
       "</style>\n",
       "<table border=\"1\" class=\"dataframe\">\n",
       "  <thead>\n",
       "    <tr style=\"text-align: right;\">\n",
       "      <th></th>\n",
       "      <th>v</th>\n",
       "      <th>vw</th>\n",
       "      <th>o</th>\n",
       "      <th>c</th>\n",
       "      <th>h</th>\n",
       "      <th>l</th>\n",
       "      <th>t</th>\n",
       "      <th>n</th>\n",
       "    </tr>\n",
       "  </thead>\n",
       "  <tbody>\n",
       "    <tr>\n",
       "      <th>0</th>\n",
       "      <td>45269</td>\n",
       "      <td>27.9990</td>\n",
       "      <td>28.06</td>\n",
       "      <td>27.9396</td>\n",
       "      <td>28.1200</td>\n",
       "      <td>27.8529</td>\n",
       "      <td>1672722000000</td>\n",
       "      <td>318</td>\n",
       "    </tr>\n",
       "    <tr>\n",
       "      <th>1</th>\n",
       "      <td>46752</td>\n",
       "      <td>28.3877</td>\n",
       "      <td>28.37</td>\n",
       "      <td>28.3884</td>\n",
       "      <td>28.4500</td>\n",
       "      <td>28.2600</td>\n",
       "      <td>1672808400000</td>\n",
       "      <td>306</td>\n",
       "    </tr>\n",
       "    <tr>\n",
       "      <th>2</th>\n",
       "      <td>56250</td>\n",
       "      <td>28.1570</td>\n",
       "      <td>28.25</td>\n",
       "      <td>28.1000</td>\n",
       "      <td>28.2500</td>\n",
       "      <td>28.0400</td>\n",
       "      <td>1672894800000</td>\n",
       "      <td>177</td>\n",
       "    </tr>\n",
       "    <tr>\n",
       "      <th>3</th>\n",
       "      <td>17249</td>\n",
       "      <td>28.6801</td>\n",
       "      <td>28.14</td>\n",
       "      <td>28.7764</td>\n",
       "      <td>28.8113</td>\n",
       "      <td>28.1400</td>\n",
       "      <td>1672981200000</td>\n",
       "      <td>82</td>\n",
       "    </tr>\n",
       "    <tr>\n",
       "      <th>4</th>\n",
       "      <td>45205</td>\n",
       "      <td>29.0706</td>\n",
       "      <td>28.99</td>\n",
       "      <td>28.9100</td>\n",
       "      <td>29.1940</td>\n",
       "      <td>28.9100</td>\n",
       "      <td>1673240400000</td>\n",
       "      <td>278</td>\n",
       "    </tr>\n",
       "    <tr>\n",
       "      <th>...</th>\n",
       "      <td>...</td>\n",
       "      <td>...</td>\n",
       "      <td>...</td>\n",
       "      <td>...</td>\n",
       "      <td>...</td>\n",
       "      <td>...</td>\n",
       "      <td>...</td>\n",
       "      <td>...</td>\n",
       "    </tr>\n",
       "    <tr>\n",
       "      <th>373</th>\n",
       "      <td>33737</td>\n",
       "      <td>32.9980</td>\n",
       "      <td>33.02</td>\n",
       "      <td>32.9400</td>\n",
       "      <td>33.1100</td>\n",
       "      <td>32.8800</td>\n",
       "      <td>1719547200000</td>\n",
       "      <td>194</td>\n",
       "    </tr>\n",
       "    <tr>\n",
       "      <th>374</th>\n",
       "      <td>69021</td>\n",
       "      <td>33.0579</td>\n",
       "      <td>33.24</td>\n",
       "      <td>33.0000</td>\n",
       "      <td>35.5000</td>\n",
       "      <td>32.9601</td>\n",
       "      <td>1719806400000</td>\n",
       "      <td>358</td>\n",
       "    </tr>\n",
       "    <tr>\n",
       "      <th>375</th>\n",
       "      <td>75985</td>\n",
       "      <td>33.0324</td>\n",
       "      <td>32.89</td>\n",
       "      <td>33.0400</td>\n",
       "      <td>33.2500</td>\n",
       "      <td>32.8100</td>\n",
       "      <td>1719892800000</td>\n",
       "      <td>175</td>\n",
       "    </tr>\n",
       "    <tr>\n",
       "      <th>376</th>\n",
       "      <td>26252</td>\n",
       "      <td>33.4232</td>\n",
       "      <td>33.31</td>\n",
       "      <td>33.3900</td>\n",
       "      <td>33.4900</td>\n",
       "      <td>33.3100</td>\n",
       "      <td>1719979200000</td>\n",
       "      <td>108</td>\n",
       "    </tr>\n",
       "    <tr>\n",
       "      <th>377</th>\n",
       "      <td>44299</td>\n",
       "      <td>33.5833</td>\n",
       "      <td>33.71</td>\n",
       "      <td>33.6213</td>\n",
       "      <td>33.7100</td>\n",
       "      <td>33.3700</td>\n",
       "      <td>1720152000000</td>\n",
       "      <td>218</td>\n",
       "    </tr>\n",
       "  </tbody>\n",
       "</table>\n",
       "<p>378 rows × 8 columns</p>\n",
       "</div>"
      ],
      "text/plain": [
       "         v       vw      o        c        h        l              t    n\n",
       "0    45269  27.9990  28.06  27.9396  28.1200  27.8529  1672722000000  318\n",
       "1    46752  28.3877  28.37  28.3884  28.4500  28.2600  1672808400000  306\n",
       "2    56250  28.1570  28.25  28.1000  28.2500  28.0400  1672894800000  177\n",
       "3    17249  28.6801  28.14  28.7764  28.8113  28.1400  1672981200000   82\n",
       "4    45205  29.0706  28.99  28.9100  29.1940  28.9100  1673240400000  278\n",
       "..     ...      ...    ...      ...      ...      ...            ...  ...\n",
       "373  33737  32.9980  33.02  32.9400  33.1100  32.8800  1719547200000  194\n",
       "374  69021  33.0579  33.24  33.0000  35.5000  32.9601  1719806400000  358\n",
       "375  75985  33.0324  32.89  33.0400  33.2500  32.8100  1719892800000  175\n",
       "376  26252  33.4232  33.31  33.3900  33.4900  33.3100  1719979200000  108\n",
       "377  44299  33.5833  33.71  33.6213  33.7100  33.3700  1720152000000  218\n",
       "\n",
       "[378 rows x 8 columns]"
      ]
     },
     "execution_count": 28,
     "metadata": {},
     "output_type": "execute_result"
    }
   ],
   "source": [
    "# We should rename all the cols so they are readable\n",
    "df_dfsi"
   ]
  },
  {
   "cell_type": "code",
   "execution_count": 29,
   "metadata": {},
   "outputs": [
    {
     "data": {
      "text/html": [
       "<div>\n",
       "<style scoped>\n",
       "    .dataframe tbody tr th:only-of-type {\n",
       "        vertical-align: middle;\n",
       "    }\n",
       "\n",
       "    .dataframe tbody tr th {\n",
       "        vertical-align: top;\n",
       "    }\n",
       "\n",
       "    .dataframe thead th {\n",
       "        text-align: right;\n",
       "    }\n",
       "</style>\n",
       "<table border=\"1\" class=\"dataframe\">\n",
       "  <thead>\n",
       "    <tr style=\"text-align: right;\">\n",
       "      <th></th>\n",
       "      <th>Trading_Volume</th>\n",
       "      <th>Volume_weighted_avg</th>\n",
       "      <th>Open_Price</th>\n",
       "      <th>Close_Price</th>\n",
       "      <th>Highest_Price</th>\n",
       "      <th>Lowest_Price</th>\n",
       "      <th>Timestamp_Unix_Msec</th>\n",
       "      <th>Number_Transactions</th>\n",
       "    </tr>\n",
       "  </thead>\n",
       "  <tbody>\n",
       "    <tr>\n",
       "      <th>0</th>\n",
       "      <td>45269</td>\n",
       "      <td>27.9990</td>\n",
       "      <td>28.06</td>\n",
       "      <td>27.9396</td>\n",
       "      <td>28.1200</td>\n",
       "      <td>27.8529</td>\n",
       "      <td>1672722000000</td>\n",
       "      <td>318</td>\n",
       "    </tr>\n",
       "    <tr>\n",
       "      <th>1</th>\n",
       "      <td>46752</td>\n",
       "      <td>28.3877</td>\n",
       "      <td>28.37</td>\n",
       "      <td>28.3884</td>\n",
       "      <td>28.4500</td>\n",
       "      <td>28.2600</td>\n",
       "      <td>1672808400000</td>\n",
       "      <td>306</td>\n",
       "    </tr>\n",
       "    <tr>\n",
       "      <th>2</th>\n",
       "      <td>56250</td>\n",
       "      <td>28.1570</td>\n",
       "      <td>28.25</td>\n",
       "      <td>28.1000</td>\n",
       "      <td>28.2500</td>\n",
       "      <td>28.0400</td>\n",
       "      <td>1672894800000</td>\n",
       "      <td>177</td>\n",
       "    </tr>\n",
       "    <tr>\n",
       "      <th>3</th>\n",
       "      <td>17249</td>\n",
       "      <td>28.6801</td>\n",
       "      <td>28.14</td>\n",
       "      <td>28.7764</td>\n",
       "      <td>28.8113</td>\n",
       "      <td>28.1400</td>\n",
       "      <td>1672981200000</td>\n",
       "      <td>82</td>\n",
       "    </tr>\n",
       "    <tr>\n",
       "      <th>4</th>\n",
       "      <td>45205</td>\n",
       "      <td>29.0706</td>\n",
       "      <td>28.99</td>\n",
       "      <td>28.9100</td>\n",
       "      <td>29.1940</td>\n",
       "      <td>28.9100</td>\n",
       "      <td>1673240400000</td>\n",
       "      <td>278</td>\n",
       "    </tr>\n",
       "  </tbody>\n",
       "</table>\n",
       "</div>"
      ],
      "text/plain": [
       "   Trading_Volume  Volume_weighted_avg  Open_Price  Close_Price  \\\n",
       "0           45269              27.9990       28.06      27.9396   \n",
       "1           46752              28.3877       28.37      28.3884   \n",
       "2           56250              28.1570       28.25      28.1000   \n",
       "3           17249              28.6801       28.14      28.7764   \n",
       "4           45205              29.0706       28.99      28.9100   \n",
       "\n",
       "   Highest_Price  Lowest_Price  Timestamp_Unix_Msec  Number_Transactions  \n",
       "0        28.1200       27.8529        1672722000000                  318  \n",
       "1        28.4500       28.2600        1672808400000                  306  \n",
       "2        28.2500       28.0400        1672894800000                  177  \n",
       "3        28.8113       28.1400        1672981200000                   82  \n",
       "4        29.1940       28.9100        1673240400000                  278  "
      ]
     },
     "execution_count": 29,
     "metadata": {},
     "output_type": "execute_result"
    }
   ],
   "source": [
    "# Renaming the above cols\n",
    "df_dfsi.rename(columns={'v':'Trading_Volume', 'vw':'Volume_weighted_avg', 'o':'Open_Price', \n",
    "                        'c':'Close_Price', 'h':'Highest_Price', 'l':'Lowest_Price', \n",
    "                        't':'Timestamp_Unix_Msec', 'n': 'Number_Transactions'}, inplace=True)\n",
    "df_dfsi.head()"
   ]
  },
  {
   "cell_type": "code",
   "execution_count": 158,
   "metadata": {},
   "outputs": [
    {
     "data": {
      "text/html": [
       "<div>\n",
       "<style scoped>\n",
       "    .dataframe tbody tr th:only-of-type {\n",
       "        vertical-align: middle;\n",
       "    }\n",
       "\n",
       "    .dataframe tbody tr th {\n",
       "        vertical-align: top;\n",
       "    }\n",
       "\n",
       "    .dataframe thead th {\n",
       "        text-align: right;\n",
       "    }\n",
       "</style>\n",
       "<table border=\"1\" class=\"dataframe\">\n",
       "  <thead>\n",
       "    <tr style=\"text-align: right;\">\n",
       "      <th></th>\n",
       "      <th>Trading_Volume</th>\n",
       "      <th>Volume_weighted_avg</th>\n",
       "      <th>Open_Price</th>\n",
       "      <th>Close_Price</th>\n",
       "      <th>Highest_Price</th>\n",
       "      <th>Lowest_Price</th>\n",
       "      <th>Timestamp_Unix_Msec</th>\n",
       "      <th>Number_Transactions</th>\n",
       "      <th>shares</th>\n",
       "      <th>ticker</th>\n",
       "    </tr>\n",
       "  </thead>\n",
       "  <tbody>\n",
       "    <tr>\n",
       "      <th>0</th>\n",
       "      <td>45269</td>\n",
       "      <td>27.9990</td>\n",
       "      <td>28.06</td>\n",
       "      <td>27.9396</td>\n",
       "      <td>28.1200</td>\n",
       "      <td>27.8529</td>\n",
       "      <td>2023-01-03 05:00:00</td>\n",
       "      <td>318</td>\n",
       "      <td>593</td>\n",
       "      <td>dfsi</td>\n",
       "    </tr>\n",
       "    <tr>\n",
       "      <th>1</th>\n",
       "      <td>46752</td>\n",
       "      <td>28.3877</td>\n",
       "      <td>28.37</td>\n",
       "      <td>28.3884</td>\n",
       "      <td>28.4500</td>\n",
       "      <td>28.2600</td>\n",
       "      <td>2023-01-04 05:00:00</td>\n",
       "      <td>306</td>\n",
       "      <td>593</td>\n",
       "      <td>dfsi</td>\n",
       "    </tr>\n",
       "    <tr>\n",
       "      <th>2</th>\n",
       "      <td>56250</td>\n",
       "      <td>28.1570</td>\n",
       "      <td>28.25</td>\n",
       "      <td>28.1000</td>\n",
       "      <td>28.2500</td>\n",
       "      <td>28.0400</td>\n",
       "      <td>2023-01-05 05:00:00</td>\n",
       "      <td>177</td>\n",
       "      <td>593</td>\n",
       "      <td>dfsi</td>\n",
       "    </tr>\n",
       "    <tr>\n",
       "      <th>3</th>\n",
       "      <td>17249</td>\n",
       "      <td>28.6801</td>\n",
       "      <td>28.14</td>\n",
       "      <td>28.7764</td>\n",
       "      <td>28.8113</td>\n",
       "      <td>28.1400</td>\n",
       "      <td>2023-01-06 05:00:00</td>\n",
       "      <td>82</td>\n",
       "      <td>593</td>\n",
       "      <td>dfsi</td>\n",
       "    </tr>\n",
       "    <tr>\n",
       "      <th>4</th>\n",
       "      <td>45205</td>\n",
       "      <td>29.0706</td>\n",
       "      <td>28.99</td>\n",
       "      <td>28.9100</td>\n",
       "      <td>29.1940</td>\n",
       "      <td>28.9100</td>\n",
       "      <td>2023-01-09 05:00:00</td>\n",
       "      <td>278</td>\n",
       "      <td>593</td>\n",
       "      <td>dfsi</td>\n",
       "    </tr>\n",
       "    <tr>\n",
       "      <th>...</th>\n",
       "      <td>...</td>\n",
       "      <td>...</td>\n",
       "      <td>...</td>\n",
       "      <td>...</td>\n",
       "      <td>...</td>\n",
       "      <td>...</td>\n",
       "      <td>...</td>\n",
       "      <td>...</td>\n",
       "      <td>...</td>\n",
       "      <td>...</td>\n",
       "    </tr>\n",
       "    <tr>\n",
       "      <th>373</th>\n",
       "      <td>33737</td>\n",
       "      <td>32.9980</td>\n",
       "      <td>33.02</td>\n",
       "      <td>32.9400</td>\n",
       "      <td>33.1100</td>\n",
       "      <td>32.8800</td>\n",
       "      <td>2024-06-28 04:00:00</td>\n",
       "      <td>194</td>\n",
       "      <td>593</td>\n",
       "      <td>dfsi</td>\n",
       "    </tr>\n",
       "    <tr>\n",
       "      <th>374</th>\n",
       "      <td>69021</td>\n",
       "      <td>33.0579</td>\n",
       "      <td>33.24</td>\n",
       "      <td>33.0000</td>\n",
       "      <td>35.5000</td>\n",
       "      <td>32.9601</td>\n",
       "      <td>2024-07-01 04:00:00</td>\n",
       "      <td>358</td>\n",
       "      <td>593</td>\n",
       "      <td>dfsi</td>\n",
       "    </tr>\n",
       "    <tr>\n",
       "      <th>375</th>\n",
       "      <td>75985</td>\n",
       "      <td>33.0324</td>\n",
       "      <td>32.89</td>\n",
       "      <td>33.0400</td>\n",
       "      <td>33.2500</td>\n",
       "      <td>32.8100</td>\n",
       "      <td>2024-07-02 04:00:00</td>\n",
       "      <td>175</td>\n",
       "      <td>593</td>\n",
       "      <td>dfsi</td>\n",
       "    </tr>\n",
       "    <tr>\n",
       "      <th>376</th>\n",
       "      <td>26252</td>\n",
       "      <td>33.4232</td>\n",
       "      <td>33.31</td>\n",
       "      <td>33.3900</td>\n",
       "      <td>33.4900</td>\n",
       "      <td>33.3100</td>\n",
       "      <td>2024-07-03 04:00:00</td>\n",
       "      <td>108</td>\n",
       "      <td>593</td>\n",
       "      <td>dfsi</td>\n",
       "    </tr>\n",
       "    <tr>\n",
       "      <th>377</th>\n",
       "      <td>44299</td>\n",
       "      <td>33.5833</td>\n",
       "      <td>33.71</td>\n",
       "      <td>33.6213</td>\n",
       "      <td>33.7100</td>\n",
       "      <td>33.3700</td>\n",
       "      <td>2024-07-05 04:00:00</td>\n",
       "      <td>218</td>\n",
       "      <td>593</td>\n",
       "      <td>dfsi</td>\n",
       "    </tr>\n",
       "  </tbody>\n",
       "</table>\n",
       "<p>378 rows × 10 columns</p>\n",
       "</div>"
      ],
      "text/plain": [
       "     Trading_Volume  Volume_weighted_avg  Open_Price  Close_Price  \\\n",
       "0             45269              27.9990       28.06      27.9396   \n",
       "1             46752              28.3877       28.37      28.3884   \n",
       "2             56250              28.1570       28.25      28.1000   \n",
       "3             17249              28.6801       28.14      28.7764   \n",
       "4             45205              29.0706       28.99      28.9100   \n",
       "..              ...                  ...         ...          ...   \n",
       "373           33737              32.9980       33.02      32.9400   \n",
       "374           69021              33.0579       33.24      33.0000   \n",
       "375           75985              33.0324       32.89      33.0400   \n",
       "376           26252              33.4232       33.31      33.3900   \n",
       "377           44299              33.5833       33.71      33.6213   \n",
       "\n",
       "     Highest_Price  Lowest_Price Timestamp_Unix_Msec  Number_Transactions  \\\n",
       "0          28.1200       27.8529 2023-01-03 05:00:00                  318   \n",
       "1          28.4500       28.2600 2023-01-04 05:00:00                  306   \n",
       "2          28.2500       28.0400 2023-01-05 05:00:00                  177   \n",
       "3          28.8113       28.1400 2023-01-06 05:00:00                   82   \n",
       "4          29.1940       28.9100 2023-01-09 05:00:00                  278   \n",
       "..             ...           ...                 ...                  ...   \n",
       "373        33.1100       32.8800 2024-06-28 04:00:00                  194   \n",
       "374        35.5000       32.9601 2024-07-01 04:00:00                  358   \n",
       "375        33.2500       32.8100 2024-07-02 04:00:00                  175   \n",
       "376        33.4900       33.3100 2024-07-03 04:00:00                  108   \n",
       "377        33.7100       33.3700 2024-07-05 04:00:00                  218   \n",
       "\n",
       "     shares ticker  \n",
       "0       593   dfsi  \n",
       "1       593   dfsi  \n",
       "2       593   dfsi  \n",
       "3       593   dfsi  \n",
       "4       593   dfsi  \n",
       "..      ...    ...  \n",
       "373     593   dfsi  \n",
       "374     593   dfsi  \n",
       "375     593   dfsi  \n",
       "376     593   dfsi  \n",
       "377     593   dfsi  \n",
       "\n",
       "[378 rows x 10 columns]"
      ]
     },
     "execution_count": 158,
     "metadata": {},
     "output_type": "execute_result"
    }
   ],
   "source": [
    "# Dropping all possible nulls\n",
    "df_dfsi.dropna()"
   ]
  },
  {
   "cell_type": "code",
   "execution_count": 31,
   "metadata": {},
   "outputs": [
    {
     "data": {
      "text/html": [
       "<div>\n",
       "<style scoped>\n",
       "    .dataframe tbody tr th:only-of-type {\n",
       "        vertical-align: middle;\n",
       "    }\n",
       "\n",
       "    .dataframe tbody tr th {\n",
       "        vertical-align: top;\n",
       "    }\n",
       "\n",
       "    .dataframe thead th {\n",
       "        text-align: right;\n",
       "    }\n",
       "</style>\n",
       "<table border=\"1\" class=\"dataframe\">\n",
       "  <thead>\n",
       "    <tr style=\"text-align: right;\">\n",
       "      <th></th>\n",
       "      <th>Trading_Volume</th>\n",
       "      <th>Volume_weighted_avg</th>\n",
       "      <th>Open_Price</th>\n",
       "      <th>Close_Price</th>\n",
       "      <th>Highest_Price</th>\n",
       "      <th>Lowest_Price</th>\n",
       "      <th>Timestamp_Unix_Msec</th>\n",
       "      <th>Number_Transactions</th>\n",
       "    </tr>\n",
       "  </thead>\n",
       "  <tbody>\n",
       "  </tbody>\n",
       "</table>\n",
       "</div>"
      ],
      "text/plain": [
       "Empty DataFrame\n",
       "Columns: [Trading_Volume, Volume_weighted_avg, Open_Price, Close_Price, Highest_Price, Lowest_Price, Timestamp_Unix_Msec, Number_Transactions]\n",
       "Index: []"
      ]
     },
     "execution_count": 31,
     "metadata": {},
     "output_type": "execute_result"
    }
   ],
   "source": [
    "# Finding if there are any non positive values\n",
    "df_dfsi[(df_dfsi['Trading_Volume'] < 0) | (df_dfsi['Volume_weighted_avg'] < 0) | \n",
    "        (df_dfsi['Open_Price'] < 0) | (df_dfsi['Close_Price'] < 0) |\n",
    "        (df_dfsi['Highest_Price'] < 0) | (df_dfsi['Lowest_Price'] < 0) |\n",
    "        (df_dfsi['Timestamp_Unix_Msec'] < 0)| (df_dfsi['Number_Transactions'] < 0)].head()"
   ]
  },
  {
   "cell_type": "code",
   "execution_count": 156,
   "metadata": {},
   "outputs": [
    {
     "data": {
      "text/html": [
       "<div>\n",
       "<style scoped>\n",
       "    .dataframe tbody tr th:only-of-type {\n",
       "        vertical-align: middle;\n",
       "    }\n",
       "\n",
       "    .dataframe tbody tr th {\n",
       "        vertical-align: top;\n",
       "    }\n",
       "\n",
       "    .dataframe thead th {\n",
       "        text-align: right;\n",
       "    }\n",
       "</style>\n",
       "<table border=\"1\" class=\"dataframe\">\n",
       "  <thead>\n",
       "    <tr style=\"text-align: right;\">\n",
       "      <th></th>\n",
       "      <th>Trading_Volume</th>\n",
       "      <th>Volume_weighted_avg</th>\n",
       "      <th>Open_Price</th>\n",
       "      <th>Close_Price</th>\n",
       "      <th>Highest_Price</th>\n",
       "      <th>Lowest_Price</th>\n",
       "      <th>Timestamp_Unix_Msec</th>\n",
       "      <th>Number_Transactions</th>\n",
       "      <th>shares</th>\n",
       "      <th>ticker</th>\n",
       "    </tr>\n",
       "  </thead>\n",
       "  <tbody>\n",
       "    <tr>\n",
       "      <th>0</th>\n",
       "      <td>45269</td>\n",
       "      <td>27.9990</td>\n",
       "      <td>28.06</td>\n",
       "      <td>27.9396</td>\n",
       "      <td>28.1200</td>\n",
       "      <td>27.8529</td>\n",
       "      <td>2023-01-03 05:00:00</td>\n",
       "      <td>318</td>\n",
       "      <td>593</td>\n",
       "      <td>dfsi</td>\n",
       "    </tr>\n",
       "    <tr>\n",
       "      <th>1</th>\n",
       "      <td>46752</td>\n",
       "      <td>28.3877</td>\n",
       "      <td>28.37</td>\n",
       "      <td>28.3884</td>\n",
       "      <td>28.4500</td>\n",
       "      <td>28.2600</td>\n",
       "      <td>2023-01-04 05:00:00</td>\n",
       "      <td>306</td>\n",
       "      <td>593</td>\n",
       "      <td>dfsi</td>\n",
       "    </tr>\n",
       "    <tr>\n",
       "      <th>2</th>\n",
       "      <td>56250</td>\n",
       "      <td>28.1570</td>\n",
       "      <td>28.25</td>\n",
       "      <td>28.1000</td>\n",
       "      <td>28.2500</td>\n",
       "      <td>28.0400</td>\n",
       "      <td>2023-01-05 05:00:00</td>\n",
       "      <td>177</td>\n",
       "      <td>593</td>\n",
       "      <td>dfsi</td>\n",
       "    </tr>\n",
       "    <tr>\n",
       "      <th>3</th>\n",
       "      <td>17249</td>\n",
       "      <td>28.6801</td>\n",
       "      <td>28.14</td>\n",
       "      <td>28.7764</td>\n",
       "      <td>28.8113</td>\n",
       "      <td>28.1400</td>\n",
       "      <td>2023-01-06 05:00:00</td>\n",
       "      <td>82</td>\n",
       "      <td>593</td>\n",
       "      <td>dfsi</td>\n",
       "    </tr>\n",
       "    <tr>\n",
       "      <th>4</th>\n",
       "      <td>45205</td>\n",
       "      <td>29.0706</td>\n",
       "      <td>28.99</td>\n",
       "      <td>28.9100</td>\n",
       "      <td>29.1940</td>\n",
       "      <td>28.9100</td>\n",
       "      <td>2023-01-09 05:00:00</td>\n",
       "      <td>278</td>\n",
       "      <td>593</td>\n",
       "      <td>dfsi</td>\n",
       "    </tr>\n",
       "  </tbody>\n",
       "</table>\n",
       "</div>"
      ],
      "text/plain": [
       "   Trading_Volume  Volume_weighted_avg  Open_Price  Close_Price  \\\n",
       "0           45269              27.9990       28.06      27.9396   \n",
       "1           46752              28.3877       28.37      28.3884   \n",
       "2           56250              28.1570       28.25      28.1000   \n",
       "3           17249              28.6801       28.14      28.7764   \n",
       "4           45205              29.0706       28.99      28.9100   \n",
       "\n",
       "   Highest_Price  Lowest_Price Timestamp_Unix_Msec  Number_Transactions  \\\n",
       "0        28.1200       27.8529 2023-01-03 05:00:00                  318   \n",
       "1        28.4500       28.2600 2023-01-04 05:00:00                  306   \n",
       "2        28.2500       28.0400 2023-01-05 05:00:00                  177   \n",
       "3        28.8113       28.1400 2023-01-06 05:00:00                   82   \n",
       "4        29.1940       28.9100 2023-01-09 05:00:00                  278   \n",
       "\n",
       "   shares ticker  \n",
       "0     593   dfsi  \n",
       "1     593   dfsi  \n",
       "2     593   dfsi  \n",
       "3     593   dfsi  \n",
       "4     593   dfsi  "
      ]
     },
     "execution_count": 156,
     "metadata": {},
     "output_type": "execute_result"
    }
   ],
   "source": [
    "# Converting Trading Volume to an Int\n",
    "df_dfsi['Trading_Volume'] = df_dfsi['Trading_Volume'].astype(int)\n",
    "df_dfsi.head()"
   ]
  },
  {
   "cell_type": "markdown",
   "metadata": {},
   "source": [
    "## Cleaning the Euro to USD data frame"
   ]
  },
  {
   "cell_type": "code",
   "execution_count": 32,
   "metadata": {},
   "outputs": [
    {
     "name": "stdout",
     "output_type": "stream",
     "text": [
      "<class 'pandas.core.frame.DataFrame'>\n",
      "RangeIndex: 498 entries, 0 to 497\n",
      "Data columns (total 8 columns):\n",
      " #   Column  Non-Null Count  Dtype  \n",
      "---  ------  --------------  -----  \n",
      " 0   v       498 non-null    int64  \n",
      " 1   vw      498 non-null    float64\n",
      " 2   o       498 non-null    float64\n",
      " 3   c       498 non-null    float64\n",
      " 4   h       498 non-null    float64\n",
      " 5   l       498 non-null    float64\n",
      " 6   t       498 non-null    int64  \n",
      " 7   n       498 non-null    int64  \n",
      "dtypes: float64(5), int64(3)\n",
      "memory usage: 31.3 KB\n"
     ]
    }
   ],
   "source": [
    "# Running to make sure there are no nulls\n",
    "df_eurusd.info()"
   ]
  },
  {
   "cell_type": "code",
   "execution_count": 33,
   "metadata": {},
   "outputs": [
    {
     "data": {
      "text/html": [
       "<div>\n",
       "<style scoped>\n",
       "    .dataframe tbody tr th:only-of-type {\n",
       "        vertical-align: middle;\n",
       "    }\n",
       "\n",
       "    .dataframe tbody tr th {\n",
       "        vertical-align: top;\n",
       "    }\n",
       "\n",
       "    .dataframe thead th {\n",
       "        text-align: right;\n",
       "    }\n",
       "</style>\n",
       "<table border=\"1\" class=\"dataframe\">\n",
       "  <thead>\n",
       "    <tr style=\"text-align: right;\">\n",
       "      <th></th>\n",
       "      <th>Trading_Volume</th>\n",
       "      <th>Volume_weighted_avg</th>\n",
       "      <th>Open_Price</th>\n",
       "      <th>Close_Price</th>\n",
       "      <th>Highest_Price</th>\n",
       "      <th>Lowest_Price</th>\n",
       "      <th>Timestamp_Unix_Msec</th>\n",
       "      <th>Number_Transactions</th>\n",
       "    </tr>\n",
       "  </thead>\n",
       "  <tbody>\n",
       "    <tr>\n",
       "      <th>0</th>\n",
       "      <td>12</td>\n",
       "      <td>1.0691</td>\n",
       "      <td>1.06849</td>\n",
       "      <td>1.07930</td>\n",
       "      <td>1.07930</td>\n",
       "      <td>1.06788</td>\n",
       "      <td>1672531200000</td>\n",
       "      <td>12</td>\n",
       "    </tr>\n",
       "    <tr>\n",
       "      <th>1</th>\n",
       "      <td>74147</td>\n",
       "      <td>1.0676</td>\n",
       "      <td>1.07027</td>\n",
       "      <td>1.06764</td>\n",
       "      <td>1.07100</td>\n",
       "      <td>1.06450</td>\n",
       "      <td>1672617600000</td>\n",
       "      <td>74147</td>\n",
       "    </tr>\n",
       "    <tr>\n",
       "      <th>2</th>\n",
       "      <td>236637</td>\n",
       "      <td>1.0585</td>\n",
       "      <td>1.06765</td>\n",
       "      <td>1.05450</td>\n",
       "      <td>1.06810</td>\n",
       "      <td>1.05180</td>\n",
       "      <td>1672704000000</td>\n",
       "      <td>236637</td>\n",
       "    </tr>\n",
       "    <tr>\n",
       "      <th>3</th>\n",
       "      <td>229494</td>\n",
       "      <td>1.0598</td>\n",
       "      <td>1.05453</td>\n",
       "      <td>1.06050</td>\n",
       "      <td>1.06353</td>\n",
       "      <td>1.05440</td>\n",
       "      <td>1672790400000</td>\n",
       "      <td>229494</td>\n",
       "    </tr>\n",
       "    <tr>\n",
       "      <th>4</th>\n",
       "      <td>210543</td>\n",
       "      <td>1.0574</td>\n",
       "      <td>1.06056</td>\n",
       "      <td>1.05211</td>\n",
       "      <td>1.06320</td>\n",
       "      <td>1.05138</td>\n",
       "      <td>1672876800000</td>\n",
       "      <td>210543</td>\n",
       "    </tr>\n",
       "  </tbody>\n",
       "</table>\n",
       "</div>"
      ],
      "text/plain": [
       "   Trading_Volume  Volume_weighted_avg  Open_Price  Close_Price  \\\n",
       "0              12               1.0691     1.06849      1.07930   \n",
       "1           74147               1.0676     1.07027      1.06764   \n",
       "2          236637               1.0585     1.06765      1.05450   \n",
       "3          229494               1.0598     1.05453      1.06050   \n",
       "4          210543               1.0574     1.06056      1.05211   \n",
       "\n",
       "   Highest_Price  Lowest_Price  Timestamp_Unix_Msec  Number_Transactions  \n",
       "0        1.07930       1.06788        1672531200000                   12  \n",
       "1        1.07100       1.06450        1672617600000                74147  \n",
       "2        1.06810       1.05180        1672704000000               236637  \n",
       "3        1.06353       1.05440        1672790400000               229494  \n",
       "4        1.06320       1.05138        1672876800000               210543  "
      ]
     },
     "execution_count": 33,
     "metadata": {},
     "output_type": "execute_result"
    }
   ],
   "source": [
    "df_eurusd.rename(columns={'v':'Trading_Volume', 'vw':'Volume_weighted_avg', 'o':'Open_Price', \n",
    "                        'c':'Close_Price', 'h':'Highest_Price', 'l':'Lowest_Price', \n",
    "                        't':'Timestamp_Unix_Msec', 'n': 'Number_Transactions'}, inplace=True)\n",
    "df_eurusd.head()"
   ]
  },
  {
   "cell_type": "code",
   "execution_count": 34,
   "metadata": {},
   "outputs": [
    {
     "data": {
      "text/html": [
       "<div>\n",
       "<style scoped>\n",
       "    .dataframe tbody tr th:only-of-type {\n",
       "        vertical-align: middle;\n",
       "    }\n",
       "\n",
       "    .dataframe tbody tr th {\n",
       "        vertical-align: top;\n",
       "    }\n",
       "\n",
       "    .dataframe thead th {\n",
       "        text-align: right;\n",
       "    }\n",
       "</style>\n",
       "<table border=\"1\" class=\"dataframe\">\n",
       "  <thead>\n",
       "    <tr style=\"text-align: right;\">\n",
       "      <th></th>\n",
       "      <th>Trading_Volume</th>\n",
       "      <th>Volume_weighted_avg</th>\n",
       "      <th>Open_Price</th>\n",
       "      <th>Close_Price</th>\n",
       "      <th>Highest_Price</th>\n",
       "      <th>Lowest_Price</th>\n",
       "      <th>Timestamp_Unix_Msec</th>\n",
       "      <th>Number_Transactions</th>\n",
       "    </tr>\n",
       "  </thead>\n",
       "  <tbody>\n",
       "  </tbody>\n",
       "</table>\n",
       "</div>"
      ],
      "text/plain": [
       "Empty DataFrame\n",
       "Columns: [Trading_Volume, Volume_weighted_avg, Open_Price, Close_Price, Highest_Price, Lowest_Price, Timestamp_Unix_Msec, Number_Transactions]\n",
       "Index: []"
      ]
     },
     "execution_count": 34,
     "metadata": {},
     "output_type": "execute_result"
    }
   ],
   "source": [
    "# Dropping all possible negatives\n",
    "df_eurusd.dropna()\n",
    "# Finding if there are any non positive values\n",
    "df_eurusd[(df_eurusd['Trading_Volume'] < 0) | (df_eurusd['Volume_weighted_avg'] < 0) | \n",
    "        (df_eurusd['Open_Price'] < 0) | (df_eurusd['Close_Price'] < 0) |\n",
    "        (df_eurusd['Highest_Price'] < 0) | (df_eurusd['Lowest_Price'] < 0) |\n",
    "        (df_eurusd['Timestamp_Unix_Msec'] < 0)| (df_eurusd['Number_Transactions'] < 0)].head()"
   ]
  },
  {
   "cell_type": "code",
   "execution_count": 155,
   "metadata": {},
   "outputs": [
    {
     "data": {
      "text/html": [
       "<div>\n",
       "<style scoped>\n",
       "    .dataframe tbody tr th:only-of-type {\n",
       "        vertical-align: middle;\n",
       "    }\n",
       "\n",
       "    .dataframe tbody tr th {\n",
       "        vertical-align: top;\n",
       "    }\n",
       "\n",
       "    .dataframe thead th {\n",
       "        text-align: right;\n",
       "    }\n",
       "</style>\n",
       "<table border=\"1\" class=\"dataframe\">\n",
       "  <thead>\n",
       "    <tr style=\"text-align: right;\">\n",
       "      <th></th>\n",
       "      <th>Trading_Volume</th>\n",
       "      <th>Volume_weighted_avg</th>\n",
       "      <th>Open_Price</th>\n",
       "      <th>Close_Price</th>\n",
       "      <th>Highest_Price</th>\n",
       "      <th>Lowest_Price</th>\n",
       "      <th>Timestamp_Unix_Msec</th>\n",
       "      <th>Number_Transactions</th>\n",
       "      <th>ticker</th>\n",
       "    </tr>\n",
       "  </thead>\n",
       "  <tbody>\n",
       "    <tr>\n",
       "      <th>0</th>\n",
       "      <td>12</td>\n",
       "      <td>1.0691</td>\n",
       "      <td>1.06849</td>\n",
       "      <td>1.07930</td>\n",
       "      <td>1.07930</td>\n",
       "      <td>1.06788</td>\n",
       "      <td>2023-01-01</td>\n",
       "      <td>12</td>\n",
       "      <td>eurusd</td>\n",
       "    </tr>\n",
       "    <tr>\n",
       "      <th>1</th>\n",
       "      <td>74147</td>\n",
       "      <td>1.0676</td>\n",
       "      <td>1.07027</td>\n",
       "      <td>1.06764</td>\n",
       "      <td>1.07100</td>\n",
       "      <td>1.06450</td>\n",
       "      <td>2023-01-02</td>\n",
       "      <td>74147</td>\n",
       "      <td>eurusd</td>\n",
       "    </tr>\n",
       "    <tr>\n",
       "      <th>2</th>\n",
       "      <td>236637</td>\n",
       "      <td>1.0585</td>\n",
       "      <td>1.06765</td>\n",
       "      <td>1.05450</td>\n",
       "      <td>1.06810</td>\n",
       "      <td>1.05180</td>\n",
       "      <td>2023-01-03</td>\n",
       "      <td>236637</td>\n",
       "      <td>eurusd</td>\n",
       "    </tr>\n",
       "    <tr>\n",
       "      <th>3</th>\n",
       "      <td>229494</td>\n",
       "      <td>1.0598</td>\n",
       "      <td>1.05453</td>\n",
       "      <td>1.06050</td>\n",
       "      <td>1.06353</td>\n",
       "      <td>1.05440</td>\n",
       "      <td>2023-01-04</td>\n",
       "      <td>229494</td>\n",
       "      <td>eurusd</td>\n",
       "    </tr>\n",
       "    <tr>\n",
       "      <th>4</th>\n",
       "      <td>210543</td>\n",
       "      <td>1.0574</td>\n",
       "      <td>1.06056</td>\n",
       "      <td>1.05211</td>\n",
       "      <td>1.06320</td>\n",
       "      <td>1.05138</td>\n",
       "      <td>2023-01-05</td>\n",
       "      <td>210543</td>\n",
       "      <td>eurusd</td>\n",
       "    </tr>\n",
       "  </tbody>\n",
       "</table>\n",
       "</div>"
      ],
      "text/plain": [
       "   Trading_Volume  Volume_weighted_avg  Open_Price  Close_Price  \\\n",
       "0              12               1.0691     1.06849      1.07930   \n",
       "1           74147               1.0676     1.07027      1.06764   \n",
       "2          236637               1.0585     1.06765      1.05450   \n",
       "3          229494               1.0598     1.05453      1.06050   \n",
       "4          210543               1.0574     1.06056      1.05211   \n",
       "\n",
       "   Highest_Price  Lowest_Price Timestamp_Unix_Msec  Number_Transactions  \\\n",
       "0        1.07930       1.06788          2023-01-01                   12   \n",
       "1        1.07100       1.06450          2023-01-02                74147   \n",
       "2        1.06810       1.05180          2023-01-03               236637   \n",
       "3        1.06353       1.05440          2023-01-04               229494   \n",
       "4        1.06320       1.05138          2023-01-05               210543   \n",
       "\n",
       "   ticker  \n",
       "0  eurusd  \n",
       "1  eurusd  \n",
       "2  eurusd  \n",
       "3  eurusd  \n",
       "4  eurusd  "
      ]
     },
     "execution_count": 155,
     "metadata": {},
     "output_type": "execute_result"
    }
   ],
   "source": [
    "# Converting Trading Volume to an Int\n",
    "df_eurusd['Trading_Volume'] = df_eurusd['Trading_Volume'].astype(int)\n",
    "df_eurusd.head()"
   ]
  },
  {
   "cell_type": "markdown",
   "metadata": {},
   "source": [
    "## Cleaning the Lululemon data frame"
   ]
  },
  {
   "cell_type": "code",
   "execution_count": 35,
   "metadata": {},
   "outputs": [
    {
     "name": "stdout",
     "output_type": "stream",
     "text": [
      "<class 'pandas.core.frame.DataFrame'>\n",
      "RangeIndex: 378 entries, 0 to 377\n",
      "Data columns (total 8 columns):\n",
      " #   Column  Non-Null Count  Dtype  \n",
      "---  ------  --------------  -----  \n",
      " 0   v       378 non-null    float64\n",
      " 1   vw      378 non-null    float64\n",
      " 2   o       378 non-null    float64\n",
      " 3   c       378 non-null    float64\n",
      " 4   h       378 non-null    float64\n",
      " 5   l       378 non-null    float64\n",
      " 6   t       378 non-null    int64  \n",
      " 7   n       378 non-null    int64  \n",
      "dtypes: float64(6), int64(2)\n",
      "memory usage: 23.8 KB\n"
     ]
    }
   ],
   "source": [
    "# Running to make sure there are no nulls\n",
    "df_lulu.info()"
   ]
  },
  {
   "cell_type": "code",
   "execution_count": 36,
   "metadata": {},
   "outputs": [
    {
     "data": {
      "text/html": [
       "<div>\n",
       "<style scoped>\n",
       "    .dataframe tbody tr th:only-of-type {\n",
       "        vertical-align: middle;\n",
       "    }\n",
       "\n",
       "    .dataframe tbody tr th {\n",
       "        vertical-align: top;\n",
       "    }\n",
       "\n",
       "    .dataframe thead th {\n",
       "        text-align: right;\n",
       "    }\n",
       "</style>\n",
       "<table border=\"1\" class=\"dataframe\">\n",
       "  <thead>\n",
       "    <tr style=\"text-align: right;\">\n",
       "      <th></th>\n",
       "      <th>Trading_Volume</th>\n",
       "      <th>Volume_weighted_avg</th>\n",
       "      <th>Open_Price</th>\n",
       "      <th>Close_Price</th>\n",
       "      <th>Highest_Price</th>\n",
       "      <th>Lowest_Price</th>\n",
       "      <th>Timestamp_Unix_Msec</th>\n",
       "      <th>Number_Transactions</th>\n",
       "    </tr>\n",
       "  </thead>\n",
       "  <tbody>\n",
       "    <tr>\n",
       "      <th>0</th>\n",
       "      <td>1304955.0</td>\n",
       "      <td>322.9421</td>\n",
       "      <td>326.88</td>\n",
       "      <td>323.38</td>\n",
       "      <td>327.3400</td>\n",
       "      <td>319.46</td>\n",
       "      <td>1672722000000</td>\n",
       "      <td>35736</td>\n",
       "    </tr>\n",
       "    <tr>\n",
       "      <th>1</th>\n",
       "      <td>1678060.0</td>\n",
       "      <td>321.9114</td>\n",
       "      <td>326.56</td>\n",
       "      <td>320.98</td>\n",
       "      <td>326.7500</td>\n",
       "      <td>317.03</td>\n",
       "      <td>1672808400000</td>\n",
       "      <td>44697</td>\n",
       "    </tr>\n",
       "    <tr>\n",
       "      <th>2</th>\n",
       "      <td>1786957.0</td>\n",
       "      <td>325.0879</td>\n",
       "      <td>320.87</td>\n",
       "      <td>325.93</td>\n",
       "      <td>328.5400</td>\n",
       "      <td>316.50</td>\n",
       "      <td>1672894800000</td>\n",
       "      <td>42005</td>\n",
       "    </tr>\n",
       "    <tr>\n",
       "      <th>3</th>\n",
       "      <td>2298357.0</td>\n",
       "      <td>330.5406</td>\n",
       "      <td>329.50</td>\n",
       "      <td>329.26</td>\n",
       "      <td>334.2299</td>\n",
       "      <td>326.82</td>\n",
       "      <td>1672981200000</td>\n",
       "      <td>49326</td>\n",
       "    </tr>\n",
       "    <tr>\n",
       "      <th>4</th>\n",
       "      <td>8292854.0</td>\n",
       "      <td>298.0153</td>\n",
       "      <td>293.20</td>\n",
       "      <td>298.66</td>\n",
       "      <td>304.4099</td>\n",
       "      <td>289.48</td>\n",
       "      <td>1673240400000</td>\n",
       "      <td>157944</td>\n",
       "    </tr>\n",
       "  </tbody>\n",
       "</table>\n",
       "</div>"
      ],
      "text/plain": [
       "   Trading_Volume  Volume_weighted_avg  Open_Price  Close_Price  \\\n",
       "0       1304955.0             322.9421      326.88       323.38   \n",
       "1       1678060.0             321.9114      326.56       320.98   \n",
       "2       1786957.0             325.0879      320.87       325.93   \n",
       "3       2298357.0             330.5406      329.50       329.26   \n",
       "4       8292854.0             298.0153      293.20       298.66   \n",
       "\n",
       "   Highest_Price  Lowest_Price  Timestamp_Unix_Msec  Number_Transactions  \n",
       "0       327.3400        319.46        1672722000000                35736  \n",
       "1       326.7500        317.03        1672808400000                44697  \n",
       "2       328.5400        316.50        1672894800000                42005  \n",
       "3       334.2299        326.82        1672981200000                49326  \n",
       "4       304.4099        289.48        1673240400000               157944  "
      ]
     },
     "execution_count": 36,
     "metadata": {},
     "output_type": "execute_result"
    }
   ],
   "source": [
    "df_lulu.rename(columns={'v':'Trading_Volume', 'vw':'Volume_weighted_avg', 'o':'Open_Price', \n",
    "                        'c':'Close_Price', 'h':'Highest_Price', 'l':'Lowest_Price', \n",
    "                        't':'Timestamp_Unix_Msec', 'n': 'Number_Transactions'}, inplace=True)\n",
    "df_lulu.head()"
   ]
  },
  {
   "cell_type": "code",
   "execution_count": 37,
   "metadata": {},
   "outputs": [
    {
     "data": {
      "text/html": [
       "<div>\n",
       "<style scoped>\n",
       "    .dataframe tbody tr th:only-of-type {\n",
       "        vertical-align: middle;\n",
       "    }\n",
       "\n",
       "    .dataframe tbody tr th {\n",
       "        vertical-align: top;\n",
       "    }\n",
       "\n",
       "    .dataframe thead th {\n",
       "        text-align: right;\n",
       "    }\n",
       "</style>\n",
       "<table border=\"1\" class=\"dataframe\">\n",
       "  <thead>\n",
       "    <tr style=\"text-align: right;\">\n",
       "      <th></th>\n",
       "      <th>Trading_Volume</th>\n",
       "      <th>Volume_weighted_avg</th>\n",
       "      <th>Open_Price</th>\n",
       "      <th>Close_Price</th>\n",
       "      <th>Highest_Price</th>\n",
       "      <th>Lowest_Price</th>\n",
       "      <th>Timestamp_Unix_Msec</th>\n",
       "      <th>Number_Transactions</th>\n",
       "    </tr>\n",
       "  </thead>\n",
       "  <tbody>\n",
       "    <tr>\n",
       "      <th>0</th>\n",
       "      <td>1304955</td>\n",
       "      <td>322.9421</td>\n",
       "      <td>326.88</td>\n",
       "      <td>323.38</td>\n",
       "      <td>327.3400</td>\n",
       "      <td>319.46</td>\n",
       "      <td>1672722000000</td>\n",
       "      <td>35736</td>\n",
       "    </tr>\n",
       "    <tr>\n",
       "      <th>1</th>\n",
       "      <td>1678060</td>\n",
       "      <td>321.9114</td>\n",
       "      <td>326.56</td>\n",
       "      <td>320.98</td>\n",
       "      <td>326.7500</td>\n",
       "      <td>317.03</td>\n",
       "      <td>1672808400000</td>\n",
       "      <td>44697</td>\n",
       "    </tr>\n",
       "    <tr>\n",
       "      <th>2</th>\n",
       "      <td>1786957</td>\n",
       "      <td>325.0879</td>\n",
       "      <td>320.87</td>\n",
       "      <td>325.93</td>\n",
       "      <td>328.5400</td>\n",
       "      <td>316.50</td>\n",
       "      <td>1672894800000</td>\n",
       "      <td>42005</td>\n",
       "    </tr>\n",
       "    <tr>\n",
       "      <th>3</th>\n",
       "      <td>2298357</td>\n",
       "      <td>330.5406</td>\n",
       "      <td>329.50</td>\n",
       "      <td>329.26</td>\n",
       "      <td>334.2299</td>\n",
       "      <td>326.82</td>\n",
       "      <td>1672981200000</td>\n",
       "      <td>49326</td>\n",
       "    </tr>\n",
       "    <tr>\n",
       "      <th>4</th>\n",
       "      <td>8292854</td>\n",
       "      <td>298.0153</td>\n",
       "      <td>293.20</td>\n",
       "      <td>298.66</td>\n",
       "      <td>304.4099</td>\n",
       "      <td>289.48</td>\n",
       "      <td>1673240400000</td>\n",
       "      <td>157944</td>\n",
       "    </tr>\n",
       "  </tbody>\n",
       "</table>\n",
       "</div>"
      ],
      "text/plain": [
       "   Trading_Volume  Volume_weighted_avg  Open_Price  Close_Price  \\\n",
       "0         1304955             322.9421      326.88       323.38   \n",
       "1         1678060             321.9114      326.56       320.98   \n",
       "2         1786957             325.0879      320.87       325.93   \n",
       "3         2298357             330.5406      329.50       329.26   \n",
       "4         8292854             298.0153      293.20       298.66   \n",
       "\n",
       "   Highest_Price  Lowest_Price  Timestamp_Unix_Msec  Number_Transactions  \n",
       "0       327.3400        319.46        1672722000000                35736  \n",
       "1       326.7500        317.03        1672808400000                44697  \n",
       "2       328.5400        316.50        1672894800000                42005  \n",
       "3       334.2299        326.82        1672981200000                49326  \n",
       "4       304.4099        289.48        1673240400000               157944  "
      ]
     },
     "execution_count": 37,
     "metadata": {},
     "output_type": "execute_result"
    }
   ],
   "source": [
    "# Converting Trading Volume to an Int\n",
    "df_lulu['Trading_Volume'] = df_lulu['Trading_Volume'].astype(int)\n",
    "df_lulu.head()"
   ]
  },
  {
   "cell_type": "code",
   "execution_count": 38,
   "metadata": {},
   "outputs": [
    {
     "data": {
      "text/html": [
       "<div>\n",
       "<style scoped>\n",
       "    .dataframe tbody tr th:only-of-type {\n",
       "        vertical-align: middle;\n",
       "    }\n",
       "\n",
       "    .dataframe tbody tr th {\n",
       "        vertical-align: top;\n",
       "    }\n",
       "\n",
       "    .dataframe thead th {\n",
       "        text-align: right;\n",
       "    }\n",
       "</style>\n",
       "<table border=\"1\" class=\"dataframe\">\n",
       "  <thead>\n",
       "    <tr style=\"text-align: right;\">\n",
       "      <th></th>\n",
       "      <th>Trading_Volume</th>\n",
       "      <th>Volume_weighted_avg</th>\n",
       "      <th>Open_Price</th>\n",
       "      <th>Close_Price</th>\n",
       "      <th>Highest_Price</th>\n",
       "      <th>Lowest_Price</th>\n",
       "      <th>Timestamp_Unix_Msec</th>\n",
       "      <th>Number_Transactions</th>\n",
       "    </tr>\n",
       "  </thead>\n",
       "  <tbody>\n",
       "  </tbody>\n",
       "</table>\n",
       "</div>"
      ],
      "text/plain": [
       "Empty DataFrame\n",
       "Columns: [Trading_Volume, Volume_weighted_avg, Open_Price, Close_Price, Highest_Price, Lowest_Price, Timestamp_Unix_Msec, Number_Transactions]\n",
       "Index: []"
      ]
     },
     "execution_count": 38,
     "metadata": {},
     "output_type": "execute_result"
    }
   ],
   "source": [
    "# Dropping all possible negatives\n",
    "df_lulu.dropna()\n",
    "# Finding if there are any non positive values\n",
    "df_lulu[(df_lulu['Trading_Volume'] < 0) | (df_lulu['Volume_weighted_avg'] < 0) | \n",
    "        (df_lulu['Open_Price'] < 0) | (df_lulu['Close_Price'] < 0) |\n",
    "        (df_lulu['Highest_Price'] < 0) | (df_lulu['Lowest_Price'] < 0) | \n",
    "        (df_lulu['Timestamp_Unix_Msec'] < 0)| (df_lulu['Number_Transactions'] < 0)].head()"
   ]
  },
  {
   "cell_type": "markdown",
   "metadata": {},
   "source": [
    "## Cleaning the Game Stop data frame"
   ]
  },
  {
   "cell_type": "code",
   "execution_count": 39,
   "metadata": {},
   "outputs": [
    {
     "name": "stdout",
     "output_type": "stream",
     "text": [
      "<class 'pandas.core.frame.DataFrame'>\n",
      "RangeIndex: 378 entries, 0 to 377\n",
      "Data columns (total 8 columns):\n",
      " #   Column  Non-Null Count  Dtype  \n",
      "---  ------  --------------  -----  \n",
      " 0   v       378 non-null    float64\n",
      " 1   vw      378 non-null    float64\n",
      " 2   o       378 non-null    float64\n",
      " 3   c       378 non-null    float64\n",
      " 4   h       378 non-null    float64\n",
      " 5   l       378 non-null    float64\n",
      " 6   t       378 non-null    int64  \n",
      " 7   n       378 non-null    int64  \n",
      "dtypes: float64(6), int64(2)\n",
      "memory usage: 23.8 KB\n"
     ]
    }
   ],
   "source": [
    "df_gme.info()"
   ]
  },
  {
   "cell_type": "code",
   "execution_count": 40,
   "metadata": {},
   "outputs": [
    {
     "data": {
      "text/html": [
       "<div>\n",
       "<style scoped>\n",
       "    .dataframe tbody tr th:only-of-type {\n",
       "        vertical-align: middle;\n",
       "    }\n",
       "\n",
       "    .dataframe tbody tr th {\n",
       "        vertical-align: top;\n",
       "    }\n",
       "\n",
       "    .dataframe thead th {\n",
       "        text-align: right;\n",
       "    }\n",
       "</style>\n",
       "<table border=\"1\" class=\"dataframe\">\n",
       "  <thead>\n",
       "    <tr style=\"text-align: right;\">\n",
       "      <th></th>\n",
       "      <th>Trading_Volume</th>\n",
       "      <th>Volume_weighted_avg</th>\n",
       "      <th>Open_Price</th>\n",
       "      <th>Close_Price</th>\n",
       "      <th>Highest_Price</th>\n",
       "      <th>Lowest_Price</th>\n",
       "      <th>Timestamp_Unix_Msec</th>\n",
       "      <th>Number_Transactions</th>\n",
       "    </tr>\n",
       "  </thead>\n",
       "  <tbody>\n",
       "    <tr>\n",
       "      <th>0</th>\n",
       "      <td>5135191.0</td>\n",
       "      <td>17.6612</td>\n",
       "      <td>18.64</td>\n",
       "      <td>17.20</td>\n",
       "      <td>19.26</td>\n",
       "      <td>17.091</td>\n",
       "      <td>1672722000000</td>\n",
       "      <td>55494</td>\n",
       "    </tr>\n",
       "    <tr>\n",
       "      <th>1</th>\n",
       "      <td>3939325.0</td>\n",
       "      <td>17.3826</td>\n",
       "      <td>17.25</td>\n",
       "      <td>17.32</td>\n",
       "      <td>17.93</td>\n",
       "      <td>16.900</td>\n",
       "      <td>1672808400000</td>\n",
       "      <td>43053</td>\n",
       "    </tr>\n",
       "    <tr>\n",
       "      <th>2</th>\n",
       "      <td>6066158.0</td>\n",
       "      <td>16.3163</td>\n",
       "      <td>17.06</td>\n",
       "      <td>16.22</td>\n",
       "      <td>17.26</td>\n",
       "      <td>15.890</td>\n",
       "      <td>1672894800000</td>\n",
       "      <td>78481</td>\n",
       "    </tr>\n",
       "    <tr>\n",
       "      <th>3</th>\n",
       "      <td>4823357.0</td>\n",
       "      <td>16.0221</td>\n",
       "      <td>16.00</td>\n",
       "      <td>16.46</td>\n",
       "      <td>16.57</td>\n",
       "      <td>15.410</td>\n",
       "      <td>1672981200000</td>\n",
       "      <td>54898</td>\n",
       "    </tr>\n",
       "    <tr>\n",
       "      <th>4</th>\n",
       "      <td>3522596.0</td>\n",
       "      <td>16.6868</td>\n",
       "      <td>16.65</td>\n",
       "      <td>16.38</td>\n",
       "      <td>17.13</td>\n",
       "      <td>16.360</td>\n",
       "      <td>1673240400000</td>\n",
       "      <td>43665</td>\n",
       "    </tr>\n",
       "  </tbody>\n",
       "</table>\n",
       "</div>"
      ],
      "text/plain": [
       "   Trading_Volume  Volume_weighted_avg  Open_Price  Close_Price  \\\n",
       "0       5135191.0              17.6612       18.64        17.20   \n",
       "1       3939325.0              17.3826       17.25        17.32   \n",
       "2       6066158.0              16.3163       17.06        16.22   \n",
       "3       4823357.0              16.0221       16.00        16.46   \n",
       "4       3522596.0              16.6868       16.65        16.38   \n",
       "\n",
       "   Highest_Price  Lowest_Price  Timestamp_Unix_Msec  Number_Transactions  \n",
       "0          19.26        17.091        1672722000000                55494  \n",
       "1          17.93        16.900        1672808400000                43053  \n",
       "2          17.26        15.890        1672894800000                78481  \n",
       "3          16.57        15.410        1672981200000                54898  \n",
       "4          17.13        16.360        1673240400000                43665  "
      ]
     },
     "execution_count": 40,
     "metadata": {},
     "output_type": "execute_result"
    }
   ],
   "source": [
    "df_gme.rename(columns={'v':'Trading_Volume', 'vw':'Volume_weighted_avg', 'o':'Open_Price', \n",
    "                        'c':'Close_Price', 'h':'Highest_Price', 'l':'Lowest_Price', \n",
    "                        't':'Timestamp_Unix_Msec', 'n': 'Number_Transactions'}, inplace=True)\n",
    "df_gme.head()"
   ]
  },
  {
   "cell_type": "code",
   "execution_count": 41,
   "metadata": {},
   "outputs": [
    {
     "data": {
      "text/html": [
       "<div>\n",
       "<style scoped>\n",
       "    .dataframe tbody tr th:only-of-type {\n",
       "        vertical-align: middle;\n",
       "    }\n",
       "\n",
       "    .dataframe tbody tr th {\n",
       "        vertical-align: top;\n",
       "    }\n",
       "\n",
       "    .dataframe thead th {\n",
       "        text-align: right;\n",
       "    }\n",
       "</style>\n",
       "<table border=\"1\" class=\"dataframe\">\n",
       "  <thead>\n",
       "    <tr style=\"text-align: right;\">\n",
       "      <th></th>\n",
       "      <th>Trading_Volume</th>\n",
       "      <th>Volume_weighted_avg</th>\n",
       "      <th>Open_Price</th>\n",
       "      <th>Close_Price</th>\n",
       "      <th>Highest_Price</th>\n",
       "      <th>Lowest_Price</th>\n",
       "      <th>Timestamp_Unix_Msec</th>\n",
       "      <th>Number_Transactions</th>\n",
       "    </tr>\n",
       "  </thead>\n",
       "  <tbody>\n",
       "    <tr>\n",
       "      <th>0</th>\n",
       "      <td>5135191</td>\n",
       "      <td>17.6612</td>\n",
       "      <td>18.64</td>\n",
       "      <td>17.20</td>\n",
       "      <td>19.26</td>\n",
       "      <td>17.091</td>\n",
       "      <td>1672722000000</td>\n",
       "      <td>55494</td>\n",
       "    </tr>\n",
       "    <tr>\n",
       "      <th>1</th>\n",
       "      <td>3939325</td>\n",
       "      <td>17.3826</td>\n",
       "      <td>17.25</td>\n",
       "      <td>17.32</td>\n",
       "      <td>17.93</td>\n",
       "      <td>16.900</td>\n",
       "      <td>1672808400000</td>\n",
       "      <td>43053</td>\n",
       "    </tr>\n",
       "    <tr>\n",
       "      <th>2</th>\n",
       "      <td>6066158</td>\n",
       "      <td>16.3163</td>\n",
       "      <td>17.06</td>\n",
       "      <td>16.22</td>\n",
       "      <td>17.26</td>\n",
       "      <td>15.890</td>\n",
       "      <td>1672894800000</td>\n",
       "      <td>78481</td>\n",
       "    </tr>\n",
       "    <tr>\n",
       "      <th>3</th>\n",
       "      <td>4823357</td>\n",
       "      <td>16.0221</td>\n",
       "      <td>16.00</td>\n",
       "      <td>16.46</td>\n",
       "      <td>16.57</td>\n",
       "      <td>15.410</td>\n",
       "      <td>1672981200000</td>\n",
       "      <td>54898</td>\n",
       "    </tr>\n",
       "    <tr>\n",
       "      <th>4</th>\n",
       "      <td>3522596</td>\n",
       "      <td>16.6868</td>\n",
       "      <td>16.65</td>\n",
       "      <td>16.38</td>\n",
       "      <td>17.13</td>\n",
       "      <td>16.360</td>\n",
       "      <td>1673240400000</td>\n",
       "      <td>43665</td>\n",
       "    </tr>\n",
       "  </tbody>\n",
       "</table>\n",
       "</div>"
      ],
      "text/plain": [
       "   Trading_Volume  Volume_weighted_avg  Open_Price  Close_Price  \\\n",
       "0         5135191              17.6612       18.64        17.20   \n",
       "1         3939325              17.3826       17.25        17.32   \n",
       "2         6066158              16.3163       17.06        16.22   \n",
       "3         4823357              16.0221       16.00        16.46   \n",
       "4         3522596              16.6868       16.65        16.38   \n",
       "\n",
       "   Highest_Price  Lowest_Price  Timestamp_Unix_Msec  Number_Transactions  \n",
       "0          19.26        17.091        1672722000000                55494  \n",
       "1          17.93        16.900        1672808400000                43053  \n",
       "2          17.26        15.890        1672894800000                78481  \n",
       "3          16.57        15.410        1672981200000                54898  \n",
       "4          17.13        16.360        1673240400000                43665  "
      ]
     },
     "execution_count": 41,
     "metadata": {},
     "output_type": "execute_result"
    }
   ],
   "source": [
    "# Converting Trading Volume to an Int\n",
    "df_gme['Trading_Volume'] = df_gme['Trading_Volume'].astype(int)\n",
    "df_gme.head()"
   ]
  },
  {
   "cell_type": "code",
   "execution_count": 42,
   "metadata": {},
   "outputs": [
    {
     "data": {
      "text/html": [
       "<div>\n",
       "<style scoped>\n",
       "    .dataframe tbody tr th:only-of-type {\n",
       "        vertical-align: middle;\n",
       "    }\n",
       "\n",
       "    .dataframe tbody tr th {\n",
       "        vertical-align: top;\n",
       "    }\n",
       "\n",
       "    .dataframe thead th {\n",
       "        text-align: right;\n",
       "    }\n",
       "</style>\n",
       "<table border=\"1\" class=\"dataframe\">\n",
       "  <thead>\n",
       "    <tr style=\"text-align: right;\">\n",
       "      <th></th>\n",
       "      <th>Trading_Volume</th>\n",
       "      <th>Volume_weighted_avg</th>\n",
       "      <th>Open_Price</th>\n",
       "      <th>Close_Price</th>\n",
       "      <th>Highest_Price</th>\n",
       "      <th>Lowest_Price</th>\n",
       "      <th>Timestamp_Unix_Msec</th>\n",
       "      <th>Number_Transactions</th>\n",
       "    </tr>\n",
       "  </thead>\n",
       "  <tbody>\n",
       "  </tbody>\n",
       "</table>\n",
       "</div>"
      ],
      "text/plain": [
       "Empty DataFrame\n",
       "Columns: [Trading_Volume, Volume_weighted_avg, Open_Price, Close_Price, Highest_Price, Lowest_Price, Timestamp_Unix_Msec, Number_Transactions]\n",
       "Index: []"
      ]
     },
     "execution_count": 42,
     "metadata": {},
     "output_type": "execute_result"
    }
   ],
   "source": [
    "# Dropping all possible negatives\n",
    "df_gme.dropna()\n",
    "# Finding if there are any non positive values\n",
    "df_gme[(df_gme['Trading_Volume'] < 0) | (df_gme['Volume_weighted_avg'] < 0) | \n",
    "        (df_gme['Open_Price'] < 0) | (df_gme['Close_Price'] < 0) | \n",
    "        (df_gme['Highest_Price'] < 0) | (df_gme['Lowest_Price'] < 0) | \n",
    "        (df_gme['Timestamp_Unix_Msec'] < 0)| (df_gme['Number_Transactions'] < 0)].head()"
   ]
  },
  {
   "cell_type": "markdown",
   "metadata": {},
   "source": [
    "## Cleaning the Apple data frame"
   ]
  },
  {
   "cell_type": "code",
   "execution_count": 43,
   "metadata": {},
   "outputs": [
    {
     "name": "stdout",
     "output_type": "stream",
     "text": [
      "<class 'pandas.core.frame.DataFrame'>\n",
      "RangeIndex: 378 entries, 0 to 377\n",
      "Data columns (total 8 columns):\n",
      " #   Column  Non-Null Count  Dtype  \n",
      "---  ------  --------------  -----  \n",
      " 0   v       378 non-null    float64\n",
      " 1   vw      378 non-null    float64\n",
      " 2   o       378 non-null    float64\n",
      " 3   c       378 non-null    float64\n",
      " 4   h       378 non-null    float64\n",
      " 5   l       378 non-null    float64\n",
      " 6   t       378 non-null    int64  \n",
      " 7   n       378 non-null    int64  \n",
      "dtypes: float64(6), int64(2)\n",
      "memory usage: 23.8 KB\n"
     ]
    }
   ],
   "source": [
    "df_aapl.info()"
   ]
  },
  {
   "cell_type": "code",
   "execution_count": 44,
   "metadata": {},
   "outputs": [
    {
     "data": {
      "text/html": [
       "<div>\n",
       "<style scoped>\n",
       "    .dataframe tbody tr th:only-of-type {\n",
       "        vertical-align: middle;\n",
       "    }\n",
       "\n",
       "    .dataframe tbody tr th {\n",
       "        vertical-align: top;\n",
       "    }\n",
       "\n",
       "    .dataframe thead th {\n",
       "        text-align: right;\n",
       "    }\n",
       "</style>\n",
       "<table border=\"1\" class=\"dataframe\">\n",
       "  <thead>\n",
       "    <tr style=\"text-align: right;\">\n",
       "      <th></th>\n",
       "      <th>Trading_Volume</th>\n",
       "      <th>Volume_weighted_avg</th>\n",
       "      <th>Open_Price</th>\n",
       "      <th>Close_Price</th>\n",
       "      <th>Highest_Price</th>\n",
       "      <th>Lowest_Price</th>\n",
       "      <th>Timestamp_Unix_Msec</th>\n",
       "      <th>Number_Transactions</th>\n",
       "    </tr>\n",
       "  </thead>\n",
       "  <tbody>\n",
       "    <tr>\n",
       "      <th>0</th>\n",
       "      <td>112117471.0</td>\n",
       "      <td>125.7250</td>\n",
       "      <td>130.280</td>\n",
       "      <td>125.07</td>\n",
       "      <td>130.9000</td>\n",
       "      <td>124.17</td>\n",
       "      <td>1672722000000</td>\n",
       "      <td>1021065</td>\n",
       "    </tr>\n",
       "    <tr>\n",
       "      <th>1</th>\n",
       "      <td>89100633.0</td>\n",
       "      <td>126.6464</td>\n",
       "      <td>126.890</td>\n",
       "      <td>126.36</td>\n",
       "      <td>128.6557</td>\n",
       "      <td>125.08</td>\n",
       "      <td>1672808400000</td>\n",
       "      <td>770042</td>\n",
       "    </tr>\n",
       "    <tr>\n",
       "      <th>2</th>\n",
       "      <td>80716808.0</td>\n",
       "      <td>126.0883</td>\n",
       "      <td>127.130</td>\n",
       "      <td>125.02</td>\n",
       "      <td>127.7700</td>\n",
       "      <td>124.76</td>\n",
       "      <td>1672894800000</td>\n",
       "      <td>665458</td>\n",
       "    </tr>\n",
       "    <tr>\n",
       "      <th>3</th>\n",
       "      <td>87754715.0</td>\n",
       "      <td>128.1982</td>\n",
       "      <td>126.010</td>\n",
       "      <td>129.62</td>\n",
       "      <td>130.2900</td>\n",
       "      <td>124.89</td>\n",
       "      <td>1672981200000</td>\n",
       "      <td>711520</td>\n",
       "    </tr>\n",
       "    <tr>\n",
       "      <th>4</th>\n",
       "      <td>70790813.0</td>\n",
       "      <td>131.6292</td>\n",
       "      <td>130.465</td>\n",
       "      <td>130.15</td>\n",
       "      <td>133.4100</td>\n",
       "      <td>129.89</td>\n",
       "      <td>1673240400000</td>\n",
       "      <td>645365</td>\n",
       "    </tr>\n",
       "  </tbody>\n",
       "</table>\n",
       "</div>"
      ],
      "text/plain": [
       "   Trading_Volume  Volume_weighted_avg  Open_Price  Close_Price  \\\n",
       "0     112117471.0             125.7250     130.280       125.07   \n",
       "1      89100633.0             126.6464     126.890       126.36   \n",
       "2      80716808.0             126.0883     127.130       125.02   \n",
       "3      87754715.0             128.1982     126.010       129.62   \n",
       "4      70790813.0             131.6292     130.465       130.15   \n",
       "\n",
       "   Highest_Price  Lowest_Price  Timestamp_Unix_Msec  Number_Transactions  \n",
       "0       130.9000        124.17        1672722000000              1021065  \n",
       "1       128.6557        125.08        1672808400000               770042  \n",
       "2       127.7700        124.76        1672894800000               665458  \n",
       "3       130.2900        124.89        1672981200000               711520  \n",
       "4       133.4100        129.89        1673240400000               645365  "
      ]
     },
     "execution_count": 44,
     "metadata": {},
     "output_type": "execute_result"
    }
   ],
   "source": [
    "df_aapl.rename(columns={'v':'Trading_Volume', 'vw':'Volume_weighted_avg', 'o':'Open_Price', \n",
    "                        'c':'Close_Price', 'h':'Highest_Price', 'l':'Lowest_Price', \n",
    "                        't':'Timestamp_Unix_Msec', 'n': 'Number_Transactions'}, inplace=True)\n",
    "df_aapl.head()"
   ]
  },
  {
   "cell_type": "code",
   "execution_count": 45,
   "metadata": {},
   "outputs": [
    {
     "data": {
      "text/html": [
       "<div>\n",
       "<style scoped>\n",
       "    .dataframe tbody tr th:only-of-type {\n",
       "        vertical-align: middle;\n",
       "    }\n",
       "\n",
       "    .dataframe tbody tr th {\n",
       "        vertical-align: top;\n",
       "    }\n",
       "\n",
       "    .dataframe thead th {\n",
       "        text-align: right;\n",
       "    }\n",
       "</style>\n",
       "<table border=\"1\" class=\"dataframe\">\n",
       "  <thead>\n",
       "    <tr style=\"text-align: right;\">\n",
       "      <th></th>\n",
       "      <th>Trading_Volume</th>\n",
       "      <th>Volume_weighted_avg</th>\n",
       "      <th>Open_Price</th>\n",
       "      <th>Close_Price</th>\n",
       "      <th>Highest_Price</th>\n",
       "      <th>Lowest_Price</th>\n",
       "      <th>Timestamp_Unix_Msec</th>\n",
       "      <th>Number_Transactions</th>\n",
       "    </tr>\n",
       "  </thead>\n",
       "  <tbody>\n",
       "    <tr>\n",
       "      <th>0</th>\n",
       "      <td>112117471</td>\n",
       "      <td>125.7250</td>\n",
       "      <td>130.280</td>\n",
       "      <td>125.07</td>\n",
       "      <td>130.9000</td>\n",
       "      <td>124.17</td>\n",
       "      <td>1672722000000</td>\n",
       "      <td>1021065</td>\n",
       "    </tr>\n",
       "    <tr>\n",
       "      <th>1</th>\n",
       "      <td>89100633</td>\n",
       "      <td>126.6464</td>\n",
       "      <td>126.890</td>\n",
       "      <td>126.36</td>\n",
       "      <td>128.6557</td>\n",
       "      <td>125.08</td>\n",
       "      <td>1672808400000</td>\n",
       "      <td>770042</td>\n",
       "    </tr>\n",
       "    <tr>\n",
       "      <th>2</th>\n",
       "      <td>80716808</td>\n",
       "      <td>126.0883</td>\n",
       "      <td>127.130</td>\n",
       "      <td>125.02</td>\n",
       "      <td>127.7700</td>\n",
       "      <td>124.76</td>\n",
       "      <td>1672894800000</td>\n",
       "      <td>665458</td>\n",
       "    </tr>\n",
       "    <tr>\n",
       "      <th>3</th>\n",
       "      <td>87754715</td>\n",
       "      <td>128.1982</td>\n",
       "      <td>126.010</td>\n",
       "      <td>129.62</td>\n",
       "      <td>130.2900</td>\n",
       "      <td>124.89</td>\n",
       "      <td>1672981200000</td>\n",
       "      <td>711520</td>\n",
       "    </tr>\n",
       "    <tr>\n",
       "      <th>4</th>\n",
       "      <td>70790813</td>\n",
       "      <td>131.6292</td>\n",
       "      <td>130.465</td>\n",
       "      <td>130.15</td>\n",
       "      <td>133.4100</td>\n",
       "      <td>129.89</td>\n",
       "      <td>1673240400000</td>\n",
       "      <td>645365</td>\n",
       "    </tr>\n",
       "  </tbody>\n",
       "</table>\n",
       "</div>"
      ],
      "text/plain": [
       "   Trading_Volume  Volume_weighted_avg  Open_Price  Close_Price  \\\n",
       "0       112117471             125.7250     130.280       125.07   \n",
       "1        89100633             126.6464     126.890       126.36   \n",
       "2        80716808             126.0883     127.130       125.02   \n",
       "3        87754715             128.1982     126.010       129.62   \n",
       "4        70790813             131.6292     130.465       130.15   \n",
       "\n",
       "   Highest_Price  Lowest_Price  Timestamp_Unix_Msec  Number_Transactions  \n",
       "0       130.9000        124.17        1672722000000              1021065  \n",
       "1       128.6557        125.08        1672808400000               770042  \n",
       "2       127.7700        124.76        1672894800000               665458  \n",
       "3       130.2900        124.89        1672981200000               711520  \n",
       "4       133.4100        129.89        1673240400000               645365  "
      ]
     },
     "execution_count": 45,
     "metadata": {},
     "output_type": "execute_result"
    }
   ],
   "source": [
    "# Converting Trading Volume to an Int\n",
    "df_aapl['Trading_Volume'] = df_aapl['Trading_Volume'].astype(int)\n",
    "df_aapl.head()"
   ]
  },
  {
   "cell_type": "code",
   "execution_count": 46,
   "metadata": {},
   "outputs": [
    {
     "data": {
      "text/html": [
       "<div>\n",
       "<style scoped>\n",
       "    .dataframe tbody tr th:only-of-type {\n",
       "        vertical-align: middle;\n",
       "    }\n",
       "\n",
       "    .dataframe tbody tr th {\n",
       "        vertical-align: top;\n",
       "    }\n",
       "\n",
       "    .dataframe thead th {\n",
       "        text-align: right;\n",
       "    }\n",
       "</style>\n",
       "<table border=\"1\" class=\"dataframe\">\n",
       "  <thead>\n",
       "    <tr style=\"text-align: right;\">\n",
       "      <th></th>\n",
       "      <th>Trading_Volume</th>\n",
       "      <th>Volume_weighted_avg</th>\n",
       "      <th>Open_Price</th>\n",
       "      <th>Close_Price</th>\n",
       "      <th>Highest_Price</th>\n",
       "      <th>Lowest_Price</th>\n",
       "      <th>Timestamp_Unix_Msec</th>\n",
       "      <th>Number_Transactions</th>\n",
       "    </tr>\n",
       "  </thead>\n",
       "  <tbody>\n",
       "  </tbody>\n",
       "</table>\n",
       "</div>"
      ],
      "text/plain": [
       "Empty DataFrame\n",
       "Columns: [Trading_Volume, Volume_weighted_avg, Open_Price, Close_Price, Highest_Price, Lowest_Price, Timestamp_Unix_Msec, Number_Transactions]\n",
       "Index: []"
      ]
     },
     "execution_count": 46,
     "metadata": {},
     "output_type": "execute_result"
    }
   ],
   "source": [
    "# Dropping all possible negatives\n",
    "df_aapl.dropna()\n",
    "# Finding if there are any non positive values\n",
    "df_aapl[(df_aapl['Trading_Volume'] < 0) | (df_aapl['Volume_weighted_avg'] < 0) | \n",
    "        (df_aapl['Open_Price'] < 0) | (df_aapl['Close_Price'] < 0) |\n",
    "        (df_aapl['Highest_Price'] < 0) | (df_aapl['Lowest_Price'] < 0) |\n",
    "        (df_aapl['Timestamp_Unix_Msec'] < 0)| (df_aapl['Number_Transactions'] < 0)].head()"
   ]
  },
  {
   "cell_type": "markdown",
   "metadata": {},
   "source": [
    "## Cleaning the Lux Hotels Data Frame"
   ]
  },
  {
   "cell_type": "code",
   "execution_count": 47,
   "metadata": {},
   "outputs": [
    {
     "name": "stdout",
     "output_type": "stream",
     "text": [
      "<class 'pandas.core.frame.DataFrame'>\n",
      "RangeIndex: 378 entries, 0 to 377\n",
      "Data columns (total 8 columns):\n",
      " #   Column  Non-Null Count  Dtype  \n",
      "---  ------  --------------  -----  \n",
      " 0   v       378 non-null    float64\n",
      " 1   vw      378 non-null    float64\n",
      " 2   o       378 non-null    float64\n",
      " 3   c       378 non-null    float64\n",
      " 4   h       378 non-null    float64\n",
      " 5   l       378 non-null    float64\n",
      " 6   t       378 non-null    int64  \n",
      " 7   n       378 non-null    int64  \n",
      "dtypes: float64(6), int64(2)\n",
      "memory usage: 23.8 KB\n"
     ]
    }
   ],
   "source": [
    "df_luxh.info()"
   ]
  },
  {
   "cell_type": "code",
   "execution_count": 48,
   "metadata": {},
   "outputs": [
    {
     "data": {
      "text/html": [
       "<div>\n",
       "<style scoped>\n",
       "    .dataframe tbody tr th:only-of-type {\n",
       "        vertical-align: middle;\n",
       "    }\n",
       "\n",
       "    .dataframe tbody tr th {\n",
       "        vertical-align: top;\n",
       "    }\n",
       "\n",
       "    .dataframe thead th {\n",
       "        text-align: right;\n",
       "    }\n",
       "</style>\n",
       "<table border=\"1\" class=\"dataframe\">\n",
       "  <thead>\n",
       "    <tr style=\"text-align: right;\">\n",
       "      <th></th>\n",
       "      <th>Trading_Volume</th>\n",
       "      <th>Volume_weighted_avg</th>\n",
       "      <th>Open_Price</th>\n",
       "      <th>Close_Price</th>\n",
       "      <th>Highest_Price</th>\n",
       "      <th>Lowest_Price</th>\n",
       "      <th>Timestamp_Unix_Msec</th>\n",
       "      <th>Number_Transactions</th>\n",
       "    </tr>\n",
       "  </thead>\n",
       "  <tbody>\n",
       "    <tr>\n",
       "      <th>0</th>\n",
       "      <td>20788.0</td>\n",
       "      <td>1.6414</td>\n",
       "      <td>1.650</td>\n",
       "      <td>1.659</td>\n",
       "      <td>1.7050</td>\n",
       "      <td>1.62</td>\n",
       "      <td>1672722000000</td>\n",
       "      <td>82</td>\n",
       "    </tr>\n",
       "    <tr>\n",
       "      <th>1</th>\n",
       "      <td>17689.0</td>\n",
       "      <td>1.6717</td>\n",
       "      <td>1.620</td>\n",
       "      <td>1.760</td>\n",
       "      <td>1.7947</td>\n",
       "      <td>1.62</td>\n",
       "      <td>1672808400000</td>\n",
       "      <td>70</td>\n",
       "    </tr>\n",
       "    <tr>\n",
       "      <th>2</th>\n",
       "      <td>29338.0</td>\n",
       "      <td>1.6910</td>\n",
       "      <td>1.745</td>\n",
       "      <td>1.700</td>\n",
       "      <td>1.8069</td>\n",
       "      <td>1.66</td>\n",
       "      <td>1672894800000</td>\n",
       "      <td>245</td>\n",
       "    </tr>\n",
       "    <tr>\n",
       "      <th>3</th>\n",
       "      <td>27178.0</td>\n",
       "      <td>1.6956</td>\n",
       "      <td>1.680</td>\n",
       "      <td>1.710</td>\n",
       "      <td>1.8300</td>\n",
       "      <td>1.66</td>\n",
       "      <td>1672981200000</td>\n",
       "      <td>91</td>\n",
       "    </tr>\n",
       "    <tr>\n",
       "      <th>4</th>\n",
       "      <td>26349.0</td>\n",
       "      <td>1.6952</td>\n",
       "      <td>1.800</td>\n",
       "      <td>1.757</td>\n",
       "      <td>1.8000</td>\n",
       "      <td>1.68</td>\n",
       "      <td>1673240400000</td>\n",
       "      <td>62</td>\n",
       "    </tr>\n",
       "  </tbody>\n",
       "</table>\n",
       "</div>"
      ],
      "text/plain": [
       "   Trading_Volume  Volume_weighted_avg  Open_Price  Close_Price  \\\n",
       "0         20788.0               1.6414       1.650        1.659   \n",
       "1         17689.0               1.6717       1.620        1.760   \n",
       "2         29338.0               1.6910       1.745        1.700   \n",
       "3         27178.0               1.6956       1.680        1.710   \n",
       "4         26349.0               1.6952       1.800        1.757   \n",
       "\n",
       "   Highest_Price  Lowest_Price  Timestamp_Unix_Msec  Number_Transactions  \n",
       "0         1.7050          1.62        1672722000000                   82  \n",
       "1         1.7947          1.62        1672808400000                   70  \n",
       "2         1.8069          1.66        1672894800000                  245  \n",
       "3         1.8300          1.66        1672981200000                   91  \n",
       "4         1.8000          1.68        1673240400000                   62  "
      ]
     },
     "execution_count": 48,
     "metadata": {},
     "output_type": "execute_result"
    }
   ],
   "source": [
    "df_luxh.rename(columns={'v':'Trading_Volume', 'vw':'Volume_weighted_avg', 'o':'Open_Price', \n",
    "                        'c':'Close_Price', 'h':'Highest_Price', 'l':'Lowest_Price', \n",
    "                        't':'Timestamp_Unix_Msec', 'n': 'Number_Transactions'}, inplace=True)\n",
    "df_luxh.head()"
   ]
  },
  {
   "cell_type": "code",
   "execution_count": 49,
   "metadata": {},
   "outputs": [
    {
     "data": {
      "text/html": [
       "<div>\n",
       "<style scoped>\n",
       "    .dataframe tbody tr th:only-of-type {\n",
       "        vertical-align: middle;\n",
       "    }\n",
       "\n",
       "    .dataframe tbody tr th {\n",
       "        vertical-align: top;\n",
       "    }\n",
       "\n",
       "    .dataframe thead th {\n",
       "        text-align: right;\n",
       "    }\n",
       "</style>\n",
       "<table border=\"1\" class=\"dataframe\">\n",
       "  <thead>\n",
       "    <tr style=\"text-align: right;\">\n",
       "      <th></th>\n",
       "      <th>Trading_Volume</th>\n",
       "      <th>Volume_weighted_avg</th>\n",
       "      <th>Open_Price</th>\n",
       "      <th>Close_Price</th>\n",
       "      <th>Highest_Price</th>\n",
       "      <th>Lowest_Price</th>\n",
       "      <th>Timestamp_Unix_Msec</th>\n",
       "      <th>Number_Transactions</th>\n",
       "    </tr>\n",
       "  </thead>\n",
       "  <tbody>\n",
       "  </tbody>\n",
       "</table>\n",
       "</div>"
      ],
      "text/plain": [
       "Empty DataFrame\n",
       "Columns: [Trading_Volume, Volume_weighted_avg, Open_Price, Close_Price, Highest_Price, Lowest_Price, Timestamp_Unix_Msec, Number_Transactions]\n",
       "Index: []"
      ]
     },
     "execution_count": 49,
     "metadata": {},
     "output_type": "execute_result"
    }
   ],
   "source": [
    "# Dropping all possible nulls\n",
    "df_luxh.dropna()\n",
    "# Finding if there are any non positive values\n",
    "df_luxh[(df_luxh['Trading_Volume'] < 0) | (df_luxh['Volume_weighted_avg'] < 0) | \n",
    "        (df_luxh['Open_Price'] < 0) | (df_luxh['Close_Price'] < 0) | (df_luxh['Highest_Price'] < 0) |\n",
    "        (df_luxh['Lowest_Price'] < 0) | (df_luxh['Timestamp_Unix_Msec'] < 0)| (df_luxh['Number_Transactions'] < 0)].head()"
   ]
  },
  {
   "cell_type": "code",
   "execution_count": 50,
   "metadata": {},
   "outputs": [
    {
     "data": {
      "text/html": [
       "<div>\n",
       "<style scoped>\n",
       "    .dataframe tbody tr th:only-of-type {\n",
       "        vertical-align: middle;\n",
       "    }\n",
       "\n",
       "    .dataframe tbody tr th {\n",
       "        vertical-align: top;\n",
       "    }\n",
       "\n",
       "    .dataframe thead th {\n",
       "        text-align: right;\n",
       "    }\n",
       "</style>\n",
       "<table border=\"1\" class=\"dataframe\">\n",
       "  <thead>\n",
       "    <tr style=\"text-align: right;\">\n",
       "      <th></th>\n",
       "      <th>Trading_Volume</th>\n",
       "      <th>Volume_weighted_avg</th>\n",
       "      <th>Open_Price</th>\n",
       "      <th>Close_Price</th>\n",
       "      <th>Highest_Price</th>\n",
       "      <th>Lowest_Price</th>\n",
       "      <th>Timestamp_Unix_Msec</th>\n",
       "      <th>Number_Transactions</th>\n",
       "    </tr>\n",
       "  </thead>\n",
       "  <tbody>\n",
       "    <tr>\n",
       "      <th>0</th>\n",
       "      <td>20788</td>\n",
       "      <td>1.6414</td>\n",
       "      <td>1.650</td>\n",
       "      <td>1.659</td>\n",
       "      <td>1.7050</td>\n",
       "      <td>1.62</td>\n",
       "      <td>1672722000000</td>\n",
       "      <td>82</td>\n",
       "    </tr>\n",
       "    <tr>\n",
       "      <th>1</th>\n",
       "      <td>17689</td>\n",
       "      <td>1.6717</td>\n",
       "      <td>1.620</td>\n",
       "      <td>1.760</td>\n",
       "      <td>1.7947</td>\n",
       "      <td>1.62</td>\n",
       "      <td>1672808400000</td>\n",
       "      <td>70</td>\n",
       "    </tr>\n",
       "    <tr>\n",
       "      <th>2</th>\n",
       "      <td>29338</td>\n",
       "      <td>1.6910</td>\n",
       "      <td>1.745</td>\n",
       "      <td>1.700</td>\n",
       "      <td>1.8069</td>\n",
       "      <td>1.66</td>\n",
       "      <td>1672894800000</td>\n",
       "      <td>245</td>\n",
       "    </tr>\n",
       "    <tr>\n",
       "      <th>3</th>\n",
       "      <td>27178</td>\n",
       "      <td>1.6956</td>\n",
       "      <td>1.680</td>\n",
       "      <td>1.710</td>\n",
       "      <td>1.8300</td>\n",
       "      <td>1.66</td>\n",
       "      <td>1672981200000</td>\n",
       "      <td>91</td>\n",
       "    </tr>\n",
       "    <tr>\n",
       "      <th>4</th>\n",
       "      <td>26349</td>\n",
       "      <td>1.6952</td>\n",
       "      <td>1.800</td>\n",
       "      <td>1.757</td>\n",
       "      <td>1.8000</td>\n",
       "      <td>1.68</td>\n",
       "      <td>1673240400000</td>\n",
       "      <td>62</td>\n",
       "    </tr>\n",
       "  </tbody>\n",
       "</table>\n",
       "</div>"
      ],
      "text/plain": [
       "   Trading_Volume  Volume_weighted_avg  Open_Price  Close_Price  \\\n",
       "0           20788               1.6414       1.650        1.659   \n",
       "1           17689               1.6717       1.620        1.760   \n",
       "2           29338               1.6910       1.745        1.700   \n",
       "3           27178               1.6956       1.680        1.710   \n",
       "4           26349               1.6952       1.800        1.757   \n",
       "\n",
       "   Highest_Price  Lowest_Price  Timestamp_Unix_Msec  Number_Transactions  \n",
       "0         1.7050          1.62        1672722000000                   82  \n",
       "1         1.7947          1.62        1672808400000                   70  \n",
       "2         1.8069          1.66        1672894800000                  245  \n",
       "3         1.8300          1.66        1672981200000                   91  \n",
       "4         1.8000          1.68        1673240400000                   62  "
      ]
     },
     "execution_count": 50,
     "metadata": {},
     "output_type": "execute_result"
    }
   ],
   "source": [
    "df_luxh['Trading_Volume'] = df_luxh['Trading_Volume'].astype(int)\n",
    "df_luxh.head()"
   ]
  },
  {
   "cell_type": "markdown",
   "metadata": {},
   "source": [
    "## Cleaning the NDX Data Frame"
   ]
  },
  {
   "cell_type": "code",
   "execution_count": 51,
   "metadata": {},
   "outputs": [
    {
     "name": "stdout",
     "output_type": "stream",
     "text": [
      "<class 'pandas.core.frame.DataFrame'>\n",
      "RangeIndex: 345 entries, 0 to 344\n",
      "Data columns (total 5 columns):\n",
      " #   Column  Non-Null Count  Dtype  \n",
      "---  ------  --------------  -----  \n",
      " 0   o       345 non-null    float64\n",
      " 1   c       345 non-null    float64\n",
      " 2   h       345 non-null    float64\n",
      " 3   l       345 non-null    float64\n",
      " 4   t       345 non-null    int64  \n",
      "dtypes: float64(4), int64(1)\n",
      "memory usage: 13.6 KB\n"
     ]
    }
   ],
   "source": [
    "df_ndx.info()"
   ]
  },
  {
   "cell_type": "code",
   "execution_count": 52,
   "metadata": {},
   "outputs": [
    {
     "data": {
      "text/html": [
       "<div>\n",
       "<style scoped>\n",
       "    .dataframe tbody tr th:only-of-type {\n",
       "        vertical-align: middle;\n",
       "    }\n",
       "\n",
       "    .dataframe tbody tr th {\n",
       "        vertical-align: top;\n",
       "    }\n",
       "\n",
       "    .dataframe thead th {\n",
       "        text-align: right;\n",
       "    }\n",
       "</style>\n",
       "<table border=\"1\" class=\"dataframe\">\n",
       "  <thead>\n",
       "    <tr style=\"text-align: right;\">\n",
       "      <th></th>\n",
       "      <th>Open_Price</th>\n",
       "      <th>Close_Price</th>\n",
       "      <th>Highest_Price</th>\n",
       "      <th>Lowest_Price</th>\n",
       "      <th>Timestamp_Unix_Msec</th>\n",
       "    </tr>\n",
       "  </thead>\n",
       "  <tbody>\n",
       "    <tr>\n",
       "      <th>0</th>\n",
       "      <td>12085.674327</td>\n",
       "      <td>12066.271823</td>\n",
       "      <td>12156.213862</td>\n",
       "      <td>12006.037547</td>\n",
       "      <td>1677045600000</td>\n",
       "    </tr>\n",
       "    <tr>\n",
       "      <th>1</th>\n",
       "      <td>11979.799425</td>\n",
       "      <td>11969.651998</td>\n",
       "      <td>12018.320636</td>\n",
       "      <td>11900.838503</td>\n",
       "      <td>1677218400000</td>\n",
       "    </tr>\n",
       "    <tr>\n",
       "      <th>2</th>\n",
       "      <td>12106.791649</td>\n",
       "      <td>12057.788354</td>\n",
       "      <td>12159.638149</td>\n",
       "      <td>12034.612553</td>\n",
       "      <td>1677477600000</td>\n",
       "    </tr>\n",
       "    <tr>\n",
       "      <th>3</th>\n",
       "      <td>12041.746389</td>\n",
       "      <td>12042.116479</td>\n",
       "      <td>12146.523163</td>\n",
       "      <td>12021.320963</td>\n",
       "      <td>1677564000000</td>\n",
       "    </tr>\n",
       "    <tr>\n",
       "      <th>4</th>\n",
       "      <td>12026.719702</td>\n",
       "      <td>11937.475278</td>\n",
       "      <td>12054.476681</td>\n",
       "      <td>11906.578816</td>\n",
       "      <td>1677650400000</td>\n",
       "    </tr>\n",
       "  </tbody>\n",
       "</table>\n",
       "</div>"
      ],
      "text/plain": [
       "     Open_Price   Close_Price  Highest_Price  Lowest_Price  \\\n",
       "0  12085.674327  12066.271823   12156.213862  12006.037547   \n",
       "1  11979.799425  11969.651998   12018.320636  11900.838503   \n",
       "2  12106.791649  12057.788354   12159.638149  12034.612553   \n",
       "3  12041.746389  12042.116479   12146.523163  12021.320963   \n",
       "4  12026.719702  11937.475278   12054.476681  11906.578816   \n",
       "\n",
       "   Timestamp_Unix_Msec  \n",
       "0        1677045600000  \n",
       "1        1677218400000  \n",
       "2        1677477600000  \n",
       "3        1677564000000  \n",
       "4        1677650400000  "
      ]
     },
     "execution_count": 52,
     "metadata": {},
     "output_type": "execute_result"
    }
   ],
   "source": [
    "df_ndx.rename(columns={'o':'Open_Price', 'c':'Close_Price', 'h':'Highest_Price',\n",
    "                       'l':'Lowest_Price', 't':'Timestamp_Unix_Msec'}, inplace=True)\n",
    "df_ndx.head()"
   ]
  },
  {
   "cell_type": "code",
   "execution_count": 53,
   "metadata": {},
   "outputs": [
    {
     "name": "stdout",
     "output_type": "stream",
     "text": [
      "<class 'pandas.core.frame.DataFrame'>\n",
      "RangeIndex: 345 entries, 0 to 344\n",
      "Data columns (total 5 columns):\n",
      " #   Column  Non-Null Count  Dtype  \n",
      "---  ------  --------------  -----  \n",
      " 0   o       345 non-null    float64\n",
      " 1   c       345 non-null    float64\n",
      " 2   h       345 non-null    float64\n",
      " 3   l       345 non-null    float64\n",
      " 4   t       345 non-null    int64  \n",
      "dtypes: float64(4), int64(1)\n",
      "memory usage: 13.6 KB\n"
     ]
    }
   ],
   "source": [
    "df_ndxt.info()"
   ]
  },
  {
   "cell_type": "code",
   "execution_count": 54,
   "metadata": {},
   "outputs": [
    {
     "data": {
      "text/html": [
       "<div>\n",
       "<style scoped>\n",
       "    .dataframe tbody tr th:only-of-type {\n",
       "        vertical-align: middle;\n",
       "    }\n",
       "\n",
       "    .dataframe tbody tr th {\n",
       "        vertical-align: top;\n",
       "    }\n",
       "\n",
       "    .dataframe thead th {\n",
       "        text-align: right;\n",
       "    }\n",
       "</style>\n",
       "<table border=\"1\" class=\"dataframe\">\n",
       "  <thead>\n",
       "    <tr style=\"text-align: right;\">\n",
       "      <th></th>\n",
       "      <th>Open_Price</th>\n",
       "      <th>Close_Price</th>\n",
       "      <th>Highest_Price</th>\n",
       "      <th>Lowest_Price</th>\n",
       "      <th>Timestamp_Unix_Msec</th>\n",
       "    </tr>\n",
       "  </thead>\n",
       "  <tbody>\n",
       "    <tr>\n",
       "      <th>0</th>\n",
       "      <td>6539.422187</td>\n",
       "      <td>6533.836632</td>\n",
       "      <td>6590.327933</td>\n",
       "      <td>6493.575077</td>\n",
       "      <td>1677045600000</td>\n",
       "    </tr>\n",
       "    <tr>\n",
       "      <th>1</th>\n",
       "      <td>6522.883755</td>\n",
       "      <td>6529.774660</td>\n",
       "      <td>6572.135920</td>\n",
       "      <td>6491.510477</td>\n",
       "      <td>1677218400000</td>\n",
       "    </tr>\n",
       "    <tr>\n",
       "      <th>2</th>\n",
       "      <td>6622.055694</td>\n",
       "      <td>6572.334332</td>\n",
       "      <td>6649.505669</td>\n",
       "      <td>6564.048406</td>\n",
       "      <td>1677477600000</td>\n",
       "    </tr>\n",
       "    <tr>\n",
       "      <th>3</th>\n",
       "      <td>6575.124722</td>\n",
       "      <td>6594.162274</td>\n",
       "      <td>6658.628542</td>\n",
       "      <td>6567.851574</td>\n",
       "      <td>1677564000000</td>\n",
       "    </tr>\n",
       "    <tr>\n",
       "      <th>4</th>\n",
       "      <td>6606.335265</td>\n",
       "      <td>6565.679273</td>\n",
       "      <td>6651.490512</td>\n",
       "      <td>6546.307825</td>\n",
       "      <td>1677650400000</td>\n",
       "    </tr>\n",
       "  </tbody>\n",
       "</table>\n",
       "</div>"
      ],
      "text/plain": [
       "    Open_Price  Close_Price  Highest_Price  Lowest_Price  Timestamp_Unix_Msec\n",
       "0  6539.422187  6533.836632    6590.327933   6493.575077        1677045600000\n",
       "1  6522.883755  6529.774660    6572.135920   6491.510477        1677218400000\n",
       "2  6622.055694  6572.334332    6649.505669   6564.048406        1677477600000\n",
       "3  6575.124722  6594.162274    6658.628542   6567.851574        1677564000000\n",
       "4  6606.335265  6565.679273    6651.490512   6546.307825        1677650400000"
      ]
     },
     "execution_count": 54,
     "metadata": {},
     "output_type": "execute_result"
    }
   ],
   "source": [
    "df_ndxt.rename(columns={'o':'Open_Price', 'c':'Close_Price', 'h':'Highest_Price',\n",
    "                       'l':'Lowest_Price', 't':'Timestamp_Unix_Msec'}, inplace=True)\n",
    "df_ndxt.head()"
   ]
  },
  {
   "cell_type": "markdown",
   "metadata": {},
   "source": [
    "## Now I am going to apply my investment strategy\n",
    "#### I am going to split my investment evenly amongst the 4 Stocks, 1 ETF, and foregin Exchange\n",
    "#### Thus each is going to get approximately 16,666,67"
   ]
  },
  {
   "cell_type": "code",
   "execution_count": 55,
   "metadata": {},
   "outputs": [
    {
     "data": {
      "text/html": [
       "<div>\n",
       "<style scoped>\n",
       "    .dataframe tbody tr th:only-of-type {\n",
       "        vertical-align: middle;\n",
       "    }\n",
       "\n",
       "    .dataframe tbody tr th {\n",
       "        vertical-align: top;\n",
       "    }\n",
       "\n",
       "    .dataframe thead th {\n",
       "        text-align: right;\n",
       "    }\n",
       "</style>\n",
       "<table border=\"1\" class=\"dataframe\">\n",
       "  <thead>\n",
       "    <tr style=\"text-align: right;\">\n",
       "      <th></th>\n",
       "      <th>Trading_Volume</th>\n",
       "      <th>Volume_weighted_avg</th>\n",
       "      <th>Open_Price</th>\n",
       "      <th>Close_Price</th>\n",
       "      <th>Highest_Price</th>\n",
       "      <th>Lowest_Price</th>\n",
       "      <th>Timestamp_Unix_Msec</th>\n",
       "      <th>Number_Transactions</th>\n",
       "    </tr>\n",
       "  </thead>\n",
       "  <tbody>\n",
       "    <tr>\n",
       "      <th>0</th>\n",
       "      <td>112117471</td>\n",
       "      <td>125.725</td>\n",
       "      <td>130.28</td>\n",
       "      <td>125.07</td>\n",
       "      <td>130.9</td>\n",
       "      <td>124.17</td>\n",
       "      <td>1672722000000</td>\n",
       "      <td>1021065</td>\n",
       "    </tr>\n",
       "  </tbody>\n",
       "</table>\n",
       "</div>"
      ],
      "text/plain": [
       "   Trading_Volume  Volume_weighted_avg  Open_Price  Close_Price  \\\n",
       "0       112117471              125.725      130.28       125.07   \n",
       "\n",
       "   Highest_Price  Lowest_Price  Timestamp_Unix_Msec  Number_Transactions  \n",
       "0          130.9        124.17        1672722000000              1021065  "
      ]
     },
     "execution_count": 55,
     "metadata": {},
     "output_type": "execute_result"
    }
   ],
   "source": [
    "df_aapl.head(1)\n",
    "# We are going to get 128 stocks in Apple"
   ]
  },
  {
   "cell_type": "code",
   "execution_count": 56,
   "metadata": {},
   "outputs": [
    {
     "data": {
      "text/html": [
       "<div>\n",
       "<style scoped>\n",
       "    .dataframe tbody tr th:only-of-type {\n",
       "        vertical-align: middle;\n",
       "    }\n",
       "\n",
       "    .dataframe tbody tr th {\n",
       "        vertical-align: top;\n",
       "    }\n",
       "\n",
       "    .dataframe thead th {\n",
       "        text-align: right;\n",
       "    }\n",
       "</style>\n",
       "<table border=\"1\" class=\"dataframe\">\n",
       "  <thead>\n",
       "    <tr style=\"text-align: right;\">\n",
       "      <th></th>\n",
       "      <th>Trading_Volume</th>\n",
       "      <th>Volume_weighted_avg</th>\n",
       "      <th>Open_Price</th>\n",
       "      <th>Close_Price</th>\n",
       "      <th>Highest_Price</th>\n",
       "      <th>Lowest_Price</th>\n",
       "      <th>Timestamp_Unix_Msec</th>\n",
       "      <th>Number_Transactions</th>\n",
       "    </tr>\n",
       "  </thead>\n",
       "  <tbody>\n",
       "    <tr>\n",
       "      <th>0</th>\n",
       "      <td>1304955</td>\n",
       "      <td>322.9421</td>\n",
       "      <td>326.88</td>\n",
       "      <td>323.38</td>\n",
       "      <td>327.34</td>\n",
       "      <td>319.46</td>\n",
       "      <td>1672722000000</td>\n",
       "      <td>35736</td>\n",
       "    </tr>\n",
       "  </tbody>\n",
       "</table>\n",
       "</div>"
      ],
      "text/plain": [
       "   Trading_Volume  Volume_weighted_avg  Open_Price  Close_Price  \\\n",
       "0         1304955             322.9421      326.88       323.38   \n",
       "\n",
       "   Highest_Price  Lowest_Price  Timestamp_Unix_Msec  Number_Transactions  \n",
       "0         327.34        319.46        1672722000000                35736  "
      ]
     },
     "execution_count": 56,
     "metadata": {},
     "output_type": "execute_result"
    }
   ],
   "source": [
    "df_lulu.head(1)\n",
    "# We are going to get 51 Stocks in Lululemon"
   ]
  },
  {
   "cell_type": "code",
   "execution_count": 57,
   "metadata": {},
   "outputs": [
    {
     "data": {
      "text/html": [
       "<div>\n",
       "<style scoped>\n",
       "    .dataframe tbody tr th:only-of-type {\n",
       "        vertical-align: middle;\n",
       "    }\n",
       "\n",
       "    .dataframe tbody tr th {\n",
       "        vertical-align: top;\n",
       "    }\n",
       "\n",
       "    .dataframe thead th {\n",
       "        text-align: right;\n",
       "    }\n",
       "</style>\n",
       "<table border=\"1\" class=\"dataframe\">\n",
       "  <thead>\n",
       "    <tr style=\"text-align: right;\">\n",
       "      <th></th>\n",
       "      <th>Trading_Volume</th>\n",
       "      <th>Volume_weighted_avg</th>\n",
       "      <th>Open_Price</th>\n",
       "      <th>Close_Price</th>\n",
       "      <th>Highest_Price</th>\n",
       "      <th>Lowest_Price</th>\n",
       "      <th>Timestamp_Unix_Msec</th>\n",
       "      <th>Number_Transactions</th>\n",
       "    </tr>\n",
       "  </thead>\n",
       "  <tbody>\n",
       "    <tr>\n",
       "      <th>0</th>\n",
       "      <td>45269</td>\n",
       "      <td>27.999</td>\n",
       "      <td>28.06</td>\n",
       "      <td>27.9396</td>\n",
       "      <td>28.12</td>\n",
       "      <td>27.8529</td>\n",
       "      <td>1672722000000</td>\n",
       "      <td>318</td>\n",
       "    </tr>\n",
       "  </tbody>\n",
       "</table>\n",
       "</div>"
      ],
      "text/plain": [
       "   Trading_Volume  Volume_weighted_avg  Open_Price  Close_Price  \\\n",
       "0           45269               27.999       28.06      27.9396   \n",
       "\n",
       "   Highest_Price  Lowest_Price  Timestamp_Unix_Msec  Number_Transactions  \n",
       "0          28.12       27.8529        1672722000000                  318  "
      ]
     },
     "execution_count": 57,
     "metadata": {},
     "output_type": "execute_result"
    }
   ],
   "source": [
    "df_dfsi.head(1)\n",
    "# We are going to get 593 stocks in DFSI"
   ]
  },
  {
   "cell_type": "code",
   "execution_count": 58,
   "metadata": {},
   "outputs": [
    {
     "data": {
      "text/html": [
       "<div>\n",
       "<style scoped>\n",
       "    .dataframe tbody tr th:only-of-type {\n",
       "        vertical-align: middle;\n",
       "    }\n",
       "\n",
       "    .dataframe tbody tr th {\n",
       "        vertical-align: top;\n",
       "    }\n",
       "\n",
       "    .dataframe thead th {\n",
       "        text-align: right;\n",
       "    }\n",
       "</style>\n",
       "<table border=\"1\" class=\"dataframe\">\n",
       "  <thead>\n",
       "    <tr style=\"text-align: right;\">\n",
       "      <th></th>\n",
       "      <th>Trading_Volume</th>\n",
       "      <th>Volume_weighted_avg</th>\n",
       "      <th>Open_Price</th>\n",
       "      <th>Close_Price</th>\n",
       "      <th>Highest_Price</th>\n",
       "      <th>Lowest_Price</th>\n",
       "      <th>Timestamp_Unix_Msec</th>\n",
       "      <th>Number_Transactions</th>\n",
       "    </tr>\n",
       "  </thead>\n",
       "  <tbody>\n",
       "    <tr>\n",
       "      <th>0</th>\n",
       "      <td>5135191</td>\n",
       "      <td>17.6612</td>\n",
       "      <td>18.64</td>\n",
       "      <td>17.2</td>\n",
       "      <td>19.26</td>\n",
       "      <td>17.091</td>\n",
       "      <td>1672722000000</td>\n",
       "      <td>55494</td>\n",
       "    </tr>\n",
       "  </tbody>\n",
       "</table>\n",
       "</div>"
      ],
      "text/plain": [
       "   Trading_Volume  Volume_weighted_avg  Open_Price  Close_Price  \\\n",
       "0         5135191              17.6612       18.64         17.2   \n",
       "\n",
       "   Highest_Price  Lowest_Price  Timestamp_Unix_Msec  Number_Transactions  \n",
       "0          19.26        17.091        1672722000000                55494  "
      ]
     },
     "execution_count": 58,
     "metadata": {},
     "output_type": "execute_result"
    }
   ],
   "source": [
    "df_gme.head(1)\n",
    "# We are going to get 894 shares of the game stop stock"
   ]
  },
  {
   "cell_type": "code",
   "execution_count": 59,
   "metadata": {},
   "outputs": [
    {
     "data": {
      "text/html": [
       "<div>\n",
       "<style scoped>\n",
       "    .dataframe tbody tr th:only-of-type {\n",
       "        vertical-align: middle;\n",
       "    }\n",
       "\n",
       "    .dataframe tbody tr th {\n",
       "        vertical-align: top;\n",
       "    }\n",
       "\n",
       "    .dataframe thead th {\n",
       "        text-align: right;\n",
       "    }\n",
       "</style>\n",
       "<table border=\"1\" class=\"dataframe\">\n",
       "  <thead>\n",
       "    <tr style=\"text-align: right;\">\n",
       "      <th></th>\n",
       "      <th>Trading_Volume</th>\n",
       "      <th>Volume_weighted_avg</th>\n",
       "      <th>Open_Price</th>\n",
       "      <th>Close_Price</th>\n",
       "      <th>Highest_Price</th>\n",
       "      <th>Lowest_Price</th>\n",
       "      <th>Timestamp_Unix_Msec</th>\n",
       "      <th>Number_Transactions</th>\n",
       "    </tr>\n",
       "  </thead>\n",
       "  <tbody>\n",
       "    <tr>\n",
       "      <th>0</th>\n",
       "      <td>20788</td>\n",
       "      <td>1.6414</td>\n",
       "      <td>1.65</td>\n",
       "      <td>1.659</td>\n",
       "      <td>1.705</td>\n",
       "      <td>1.62</td>\n",
       "      <td>1672722000000</td>\n",
       "      <td>82</td>\n",
       "    </tr>\n",
       "  </tbody>\n",
       "</table>\n",
       "</div>"
      ],
      "text/plain": [
       "   Trading_Volume  Volume_weighted_avg  Open_Price  Close_Price  \\\n",
       "0           20788               1.6414        1.65        1.659   \n",
       "\n",
       "   Highest_Price  Lowest_Price  Timestamp_Unix_Msec  Number_Transactions  \n",
       "0          1.705          1.62        1672722000000                   82  "
      ]
     },
     "execution_count": 59,
     "metadata": {},
     "output_type": "execute_result"
    }
   ],
   "source": [
    "df_luxh.head(1)\n",
    "# We are going to get 10101 Shares of luxh"
   ]
  },
  {
   "cell_type": "code",
   "execution_count": 154,
   "metadata": {},
   "outputs": [
    {
     "data": {
      "text/html": [
       "<div>\n",
       "<style scoped>\n",
       "    .dataframe tbody tr th:only-of-type {\n",
       "        vertical-align: middle;\n",
       "    }\n",
       "\n",
       "    .dataframe tbody tr th {\n",
       "        vertical-align: top;\n",
       "    }\n",
       "\n",
       "    .dataframe thead th {\n",
       "        text-align: right;\n",
       "    }\n",
       "</style>\n",
       "<table border=\"1\" class=\"dataframe\">\n",
       "  <thead>\n",
       "    <tr style=\"text-align: right;\">\n",
       "      <th></th>\n",
       "      <th>Trading_Volume</th>\n",
       "      <th>Volume_weighted_avg</th>\n",
       "      <th>Open_Price</th>\n",
       "      <th>Close_Price</th>\n",
       "      <th>Highest_Price</th>\n",
       "      <th>Lowest_Price</th>\n",
       "      <th>Timestamp_Unix_Msec</th>\n",
       "      <th>Number_Transactions</th>\n",
       "      <th>ticker</th>\n",
       "    </tr>\n",
       "  </thead>\n",
       "  <tbody>\n",
       "    <tr>\n",
       "      <th>0</th>\n",
       "      <td>12</td>\n",
       "      <td>1.0691</td>\n",
       "      <td>1.06849</td>\n",
       "      <td>1.0793</td>\n",
       "      <td>1.0793</td>\n",
       "      <td>1.06788</td>\n",
       "      <td>2023-01-01</td>\n",
       "      <td>12</td>\n",
       "      <td>eurusd</td>\n",
       "    </tr>\n",
       "  </tbody>\n",
       "</table>\n",
       "</div>"
      ],
      "text/plain": [
       "   Trading_Volume  Volume_weighted_avg  Open_Price  Close_Price  \\\n",
       "0              12               1.0691     1.06849       1.0793   \n",
       "\n",
       "   Highest_Price  Lowest_Price Timestamp_Unix_Msec  Number_Transactions  \\\n",
       "0         1.0793       1.06788          2023-01-01                   12   \n",
       "\n",
       "   ticker  \n",
       "0  eurusd  "
      ]
     },
     "execution_count": 154,
     "metadata": {},
     "output_type": "execute_result"
    }
   ],
   "source": [
    "df_eurusd.head(1)\n",
    "# We are going to buy 15,576 shares"
   ]
  },
  {
   "cell_type": "markdown",
   "metadata": {},
   "source": [
    "## Adding our number of shares to each stock"
   ]
  },
  {
   "cell_type": "code",
   "execution_count": 60,
   "metadata": {},
   "outputs": [],
   "source": [
    "df_aapl['shares'] = 128\n",
    "df_luxh['shares'] = 10101\n",
    "df_dfsi['shares'] = 593\n",
    "df_gme['shares'] = 894\n",
    "df_lulu['shares'] = 51"
   ]
  },
  {
   "cell_type": "markdown",
   "metadata": {},
   "source": [
    "# Translating Time into date time"
   ]
  },
  {
   "cell_type": "code",
   "execution_count": 61,
   "metadata": {},
   "outputs": [
    {
     "name": "stdout",
     "output_type": "stream",
     "text": [
      "<class 'pandas.core.frame.DataFrame'>\n",
      "RangeIndex: 498 entries, 0 to 497\n",
      "Data columns (total 8 columns):\n",
      " #   Column               Non-Null Count  Dtype  \n",
      "---  ------               --------------  -----  \n",
      " 0   Trading_Volume       498 non-null    int64  \n",
      " 1   Volume_weighted_avg  498 non-null    float64\n",
      " 2   Open_Price           498 non-null    float64\n",
      " 3   Close_Price          498 non-null    float64\n",
      " 4   Highest_Price        498 non-null    float64\n",
      " 5   Lowest_Price         498 non-null    float64\n",
      " 6   Timestamp_Unix_Msec  498 non-null    int64  \n",
      " 7   Number_Transactions  498 non-null    int64  \n",
      "dtypes: float64(5), int64(3)\n",
      "memory usage: 31.3 KB\n"
     ]
    }
   ],
   "source": [
    "df_eurusd.info()"
   ]
  },
  {
   "cell_type": "code",
   "execution_count": 62,
   "metadata": {},
   "outputs": [
    {
     "data": {
      "text/html": [
       "<div>\n",
       "<style scoped>\n",
       "    .dataframe tbody tr th:only-of-type {\n",
       "        vertical-align: middle;\n",
       "    }\n",
       "\n",
       "    .dataframe tbody tr th {\n",
       "        vertical-align: top;\n",
       "    }\n",
       "\n",
       "    .dataframe thead th {\n",
       "        text-align: right;\n",
       "    }\n",
       "</style>\n",
       "<table border=\"1\" class=\"dataframe\">\n",
       "  <thead>\n",
       "    <tr style=\"text-align: right;\">\n",
       "      <th></th>\n",
       "      <th>Trading_Volume</th>\n",
       "      <th>Volume_weighted_avg</th>\n",
       "      <th>Open_Price</th>\n",
       "      <th>Close_Price</th>\n",
       "      <th>Highest_Price</th>\n",
       "      <th>Lowest_Price</th>\n",
       "      <th>Timestamp_Unix_Msec</th>\n",
       "      <th>Number_Transactions</th>\n",
       "      <th>shares</th>\n",
       "    </tr>\n",
       "  </thead>\n",
       "  <tbody>\n",
       "    <tr>\n",
       "      <th>0</th>\n",
       "      <td>1304955</td>\n",
       "      <td>322.9421</td>\n",
       "      <td>326.88</td>\n",
       "      <td>323.38</td>\n",
       "      <td>327.3400</td>\n",
       "      <td>319.46</td>\n",
       "      <td>2023-01-03 05:00:00</td>\n",
       "      <td>35736</td>\n",
       "      <td>51</td>\n",
       "    </tr>\n",
       "    <tr>\n",
       "      <th>1</th>\n",
       "      <td>1678060</td>\n",
       "      <td>321.9114</td>\n",
       "      <td>326.56</td>\n",
       "      <td>320.98</td>\n",
       "      <td>326.7500</td>\n",
       "      <td>317.03</td>\n",
       "      <td>2023-01-04 05:00:00</td>\n",
       "      <td>44697</td>\n",
       "      <td>51</td>\n",
       "    </tr>\n",
       "    <tr>\n",
       "      <th>2</th>\n",
       "      <td>1786957</td>\n",
       "      <td>325.0879</td>\n",
       "      <td>320.87</td>\n",
       "      <td>325.93</td>\n",
       "      <td>328.5400</td>\n",
       "      <td>316.50</td>\n",
       "      <td>2023-01-05 05:00:00</td>\n",
       "      <td>42005</td>\n",
       "      <td>51</td>\n",
       "    </tr>\n",
       "    <tr>\n",
       "      <th>3</th>\n",
       "      <td>2298357</td>\n",
       "      <td>330.5406</td>\n",
       "      <td>329.50</td>\n",
       "      <td>329.26</td>\n",
       "      <td>334.2299</td>\n",
       "      <td>326.82</td>\n",
       "      <td>2023-01-06 05:00:00</td>\n",
       "      <td>49326</td>\n",
       "      <td>51</td>\n",
       "    </tr>\n",
       "    <tr>\n",
       "      <th>4</th>\n",
       "      <td>8292854</td>\n",
       "      <td>298.0153</td>\n",
       "      <td>293.20</td>\n",
       "      <td>298.66</td>\n",
       "      <td>304.4099</td>\n",
       "      <td>289.48</td>\n",
       "      <td>2023-01-09 05:00:00</td>\n",
       "      <td>157944</td>\n",
       "      <td>51</td>\n",
       "    </tr>\n",
       "  </tbody>\n",
       "</table>\n",
       "</div>"
      ],
      "text/plain": [
       "   Trading_Volume  Volume_weighted_avg  Open_Price  Close_Price  \\\n",
       "0         1304955             322.9421      326.88       323.38   \n",
       "1         1678060             321.9114      326.56       320.98   \n",
       "2         1786957             325.0879      320.87       325.93   \n",
       "3         2298357             330.5406      329.50       329.26   \n",
       "4         8292854             298.0153      293.20       298.66   \n",
       "\n",
       "   Highest_Price  Lowest_Price Timestamp_Unix_Msec  Number_Transactions  \\\n",
       "0       327.3400        319.46 2023-01-03 05:00:00                35736   \n",
       "1       326.7500        317.03 2023-01-04 05:00:00                44697   \n",
       "2       328.5400        316.50 2023-01-05 05:00:00                42005   \n",
       "3       334.2299        326.82 2023-01-06 05:00:00                49326   \n",
       "4       304.4099        289.48 2023-01-09 05:00:00               157944   \n",
       "\n",
       "   shares  \n",
       "0      51  \n",
       "1      51  \n",
       "2      51  \n",
       "3      51  \n",
       "4      51  "
      ]
     },
     "execution_count": 62,
     "metadata": {},
     "output_type": "execute_result"
    }
   ],
   "source": [
    "df_luxh['Timestamp_Unix_Msec'] = pd.to_datetime(df_luxh['Timestamp_Unix_Msec'], unit='ms')\n",
    "df_luxh.head()\n",
    "\n",
    "df_aapl['Timestamp_Unix_Msec'] = pd.to_datetime(df_aapl['Timestamp_Unix_Msec'], unit='ms')\n",
    "df_aapl.head()\n",
    "\n",
    "df_dfsi['Timestamp_Unix_Msec'] = pd.to_datetime(df_dfsi['Timestamp_Unix_Msec'], unit='ms')\n",
    "df_dfsi.head()\n",
    "\n",
    "df_gme['Timestamp_Unix_Msec'] = pd.to_datetime(df_gme['Timestamp_Unix_Msec'], unit='ms')\n",
    "df_gme.head()\n",
    "\n",
    "df_ndx['Timestamp_Unix_Msec'] = pd.to_datetime(df_ndx['Timestamp_Unix_Msec'], unit='ms')\n",
    "df_ndx.head()\n",
    "\n",
    "df_ndxt['Timestamp_Unix_Msec'] = pd.to_datetime(df_ndxt['Timestamp_Unix_Msec'], unit='ms')\n",
    "df_ndxt.head()\n",
    "\n",
    "df_lulu['Timestamp_Unix_Msec'] = pd.to_datetime(df_lulu['Timestamp_Unix_Msec'], unit='ms')\n",
    "df_lulu.head()"
   ]
  },
  {
   "cell_type": "code",
   "execution_count": 64,
   "metadata": {},
   "outputs": [
    {
     "data": {
      "text/html": [
       "<div>\n",
       "<style scoped>\n",
       "    .dataframe tbody tr th:only-of-type {\n",
       "        vertical-align: middle;\n",
       "    }\n",
       "\n",
       "    .dataframe tbody tr th {\n",
       "        vertical-align: top;\n",
       "    }\n",
       "\n",
       "    .dataframe thead th {\n",
       "        text-align: right;\n",
       "    }\n",
       "</style>\n",
       "<table border=\"1\" class=\"dataframe\">\n",
       "  <thead>\n",
       "    <tr style=\"text-align: right;\">\n",
       "      <th></th>\n",
       "      <th>Trading_Volume</th>\n",
       "      <th>Volume_weighted_avg</th>\n",
       "      <th>Open_Price</th>\n",
       "      <th>Close_Price</th>\n",
       "      <th>Highest_Price</th>\n",
       "      <th>Lowest_Price</th>\n",
       "      <th>Timestamp_Unix_Msec</th>\n",
       "      <th>Number_Transactions</th>\n",
       "    </tr>\n",
       "  </thead>\n",
       "  <tbody>\n",
       "    <tr>\n",
       "      <th>0</th>\n",
       "      <td>12</td>\n",
       "      <td>1.0691</td>\n",
       "      <td>1.06849</td>\n",
       "      <td>1.07930</td>\n",
       "      <td>1.07930</td>\n",
       "      <td>1.06788</td>\n",
       "      <td>2023-01-01</td>\n",
       "      <td>12</td>\n",
       "    </tr>\n",
       "    <tr>\n",
       "      <th>1</th>\n",
       "      <td>74147</td>\n",
       "      <td>1.0676</td>\n",
       "      <td>1.07027</td>\n",
       "      <td>1.06764</td>\n",
       "      <td>1.07100</td>\n",
       "      <td>1.06450</td>\n",
       "      <td>2023-01-02</td>\n",
       "      <td>74147</td>\n",
       "    </tr>\n",
       "    <tr>\n",
       "      <th>2</th>\n",
       "      <td>236637</td>\n",
       "      <td>1.0585</td>\n",
       "      <td>1.06765</td>\n",
       "      <td>1.05450</td>\n",
       "      <td>1.06810</td>\n",
       "      <td>1.05180</td>\n",
       "      <td>2023-01-03</td>\n",
       "      <td>236637</td>\n",
       "    </tr>\n",
       "    <tr>\n",
       "      <th>3</th>\n",
       "      <td>229494</td>\n",
       "      <td>1.0598</td>\n",
       "      <td>1.05453</td>\n",
       "      <td>1.06050</td>\n",
       "      <td>1.06353</td>\n",
       "      <td>1.05440</td>\n",
       "      <td>2023-01-04</td>\n",
       "      <td>229494</td>\n",
       "    </tr>\n",
       "    <tr>\n",
       "      <th>4</th>\n",
       "      <td>210543</td>\n",
       "      <td>1.0574</td>\n",
       "      <td>1.06056</td>\n",
       "      <td>1.05211</td>\n",
       "      <td>1.06320</td>\n",
       "      <td>1.05138</td>\n",
       "      <td>2023-01-05</td>\n",
       "      <td>210543</td>\n",
       "    </tr>\n",
       "  </tbody>\n",
       "</table>\n",
       "</div>"
      ],
      "text/plain": [
       "   Trading_Volume  Volume_weighted_avg  Open_Price  Close_Price  \\\n",
       "0              12               1.0691     1.06849      1.07930   \n",
       "1           74147               1.0676     1.07027      1.06764   \n",
       "2          236637               1.0585     1.06765      1.05450   \n",
       "3          229494               1.0598     1.05453      1.06050   \n",
       "4          210543               1.0574     1.06056      1.05211   \n",
       "\n",
       "   Highest_Price  Lowest_Price Timestamp_Unix_Msec  Number_Transactions  \n",
       "0        1.07930       1.06788          2023-01-01                   12  \n",
       "1        1.07100       1.06450          2023-01-02                74147  \n",
       "2        1.06810       1.05180          2023-01-03               236637  \n",
       "3        1.06353       1.05440          2023-01-04               229494  \n",
       "4        1.06320       1.05138          2023-01-05               210543  "
      ]
     },
     "execution_count": 64,
     "metadata": {},
     "output_type": "execute_result"
    }
   ],
   "source": [
    "df_eurusd['Timestamp_Unix_Msec'] = pd.to_datetime(df_eurusd['Timestamp_Unix_Msec'], unit='ms')\n",
    "df_eurusd.head()"
   ]
  },
  {
   "cell_type": "markdown",
   "metadata": {},
   "source": [
    "## Adding the tickers in to the data"
   ]
  },
  {
   "cell_type": "code",
   "execution_count": 65,
   "metadata": {},
   "outputs": [],
   "source": [
    "df_eurusd['ticker'] = 'eurusd'\n",
    "df_aapl['ticker'] = 'aapl'\n",
    "df_luxh['ticker'] = 'luxh'\n",
    "df_dfsi['ticker'] = 'dfsi'\n",
    "df_gme['ticker'] = 'gme'\n",
    "df_lulu['ticker'] = 'lulu'\n",
    "df_ndx['ticker'] = 'ndx'"
   ]
  },
  {
   "cell_type": "code",
   "execution_count": 70,
   "metadata": {},
   "outputs": [],
   "source": [
    "df_ndxt['ticker'] = 'ndxt'"
   ]
  },
  {
   "cell_type": "markdown",
   "metadata": {},
   "source": [
    "# Uploading my data into SQL\n",
    "## Creating files from my Data Frames"
   ]
  },
  {
   "cell_type": "code",
   "execution_count": 66,
   "metadata": {},
   "outputs": [],
   "source": [
    "# For now i am just uploading all the data at once until I can figure out what to do"
   ]
  },
  {
   "cell_type": "code",
   "execution_count": 67,
   "metadata": {},
   "outputs": [],
   "source": [
    "df_luxh.to_csv('luxh_dump.csv')\n",
    "df_aapl.to_csv('aapl_dump.csv')\n",
    "df_dfsi.to_csv('dfsi_dump.csv')\n",
    "df_eurusd.to_csv('eurusd_dump.csv')\n",
    "df_gme.to_csv('gme_dump.csv')\n",
    "df_lulu.to_csv('lulu_dump.csv')\n",
    "df_ndx.to_csv('ndx_dump.csv')"
   ]
  },
  {
   "cell_type": "code",
   "execution_count": 71,
   "metadata": {},
   "outputs": [],
   "source": [
    "df_ndxt.to_csv('ndxt_dump.csv')"
   ]
  },
  {
   "cell_type": "markdown",
   "metadata": {},
   "source": [
    "I used .sql commands to create the database and create/insert data into the tables"
   ]
  },
  {
   "cell_type": "markdown",
   "metadata": {},
   "source": [
    "# Analyzing our data"
   ]
  },
  {
   "cell_type": "markdown",
   "metadata": {},
   "source": [
    "### First we need to get our data from mssql"
   ]
  },
  {
   "cell_type": "code",
   "execution_count": 68,
   "metadata": {},
   "outputs": [
    {
     "name": "stderr",
     "output_type": "stream",
     "text": [
      "C:\\Users\\asmit\\AppData\\Local\\Temp\\ipykernel_26088\\3975524174.py:12: UserWarning: pandas only supports SQLAlchemy connectable (engine/connection) or database string URI or sqlite3 DBAPI2 connection. Other DBAPI2 objects are not tested. Please consider using SQLAlchemy.\n",
      "  df = pandas.io.sql.read_sql(SQL_QUERY, con)\n"
     ]
    },
    {
     "data": {
      "text/html": [
       "<div>\n",
       "<style scoped>\n",
       "    .dataframe tbody tr th:only-of-type {\n",
       "        vertical-align: middle;\n",
       "    }\n",
       "\n",
       "    .dataframe tbody tr th {\n",
       "        vertical-align: top;\n",
       "    }\n",
       "\n",
       "    .dataframe thead th {\n",
       "        text-align: right;\n",
       "    }\n",
       "</style>\n",
       "<table border=\"1\" class=\"dataframe\">\n",
       "  <thead>\n",
       "    <tr style=\"text-align: right;\">\n",
       "      <th></th>\n",
       "      <th>stock_ticker</th>\n",
       "      <th>stock_timestamp</th>\n",
       "      <th>total_return</th>\n",
       "      <th>cumulative_return</th>\n",
       "      <th>moving_average_10</th>\n",
       "      <th>moving_average_100</th>\n",
       "      <th>volatility</th>\n",
       "      <th>sharpe_ratio</th>\n",
       "      <th>percent_change</th>\n",
       "      <th>annual_return</th>\n",
       "    </tr>\n",
       "  </thead>\n",
       "  <tbody>\n",
       "    <tr>\n",
       "      <th>0</th>\n",
       "      <td>aapl</td>\n",
       "      <td>2023-01-03 05:00:00</td>\n",
       "      <td>513.503129</td>\n",
       "      <td>4.872852</td>\n",
       "      <td>0.960537</td>\n",
       "      <td>0.960537</td>\n",
       "      <td>129.6</td>\n",
       "      <td>0.826683</td>\n",
       "      <td>NaN</td>\n",
       "      <td>331.294013</td>\n",
       "    </tr>\n",
       "    <tr>\n",
       "      <th>1</th>\n",
       "      <td>aapl</td>\n",
       "      <td>2023-01-04 05:00:00</td>\n",
       "      <td>513.503129</td>\n",
       "      <td>9.831321</td>\n",
       "      <td>0.965491</td>\n",
       "      <td>0.965491</td>\n",
       "      <td>129.6</td>\n",
       "      <td>0.835210</td>\n",
       "      <td>1.031422</td>\n",
       "      <td>331.294013</td>\n",
       "    </tr>\n",
       "    <tr>\n",
       "      <th>2</th>\n",
       "      <td>aapl</td>\n",
       "      <td>2023-01-05 05:00:00</td>\n",
       "      <td>513.503129</td>\n",
       "      <td>14.688960</td>\n",
       "      <td>0.963711</td>\n",
       "      <td>0.963711</td>\n",
       "      <td>129.6</td>\n",
       "      <td>0.826353</td>\n",
       "      <td>-1.060462</td>\n",
       "      <td>331.294013</td>\n",
       "    </tr>\n",
       "    <tr>\n",
       "      <th>3</th>\n",
       "      <td>aapl</td>\n",
       "      <td>2023-01-06 05:00:00</td>\n",
       "      <td>513.503129</td>\n",
       "      <td>19.635246</td>\n",
       "      <td>0.971654</td>\n",
       "      <td>0.971654</td>\n",
       "      <td>129.6</td>\n",
       "      <td>0.856758</td>\n",
       "      <td>3.679411</td>\n",
       "      <td>331.294013</td>\n",
       "    </tr>\n",
       "    <tr>\n",
       "      <th>4</th>\n",
       "      <td>aapl</td>\n",
       "      <td>2023-01-09 05:00:00</td>\n",
       "      <td>513.503129</td>\n",
       "      <td>24.522603</td>\n",
       "      <td>0.977233</td>\n",
       "      <td>0.977233</td>\n",
       "      <td>129.6</td>\n",
       "      <td>0.860261</td>\n",
       "      <td>0.408888</td>\n",
       "      <td>331.294013</td>\n",
       "    </tr>\n",
       "  </tbody>\n",
       "</table>\n",
       "</div>"
      ],
      "text/plain": [
       "  stock_ticker     stock_timestamp  total_return  cumulative_return  \\\n",
       "0         aapl 2023-01-03 05:00:00    513.503129           4.872852   \n",
       "1         aapl 2023-01-04 05:00:00    513.503129           9.831321   \n",
       "2         aapl 2023-01-05 05:00:00    513.503129          14.688960   \n",
       "3         aapl 2023-01-06 05:00:00    513.503129          19.635246   \n",
       "4         aapl 2023-01-09 05:00:00    513.503129          24.522603   \n",
       "\n",
       "   moving_average_10  moving_average_100  volatility  sharpe_ratio  \\\n",
       "0           0.960537            0.960537       129.6      0.826683   \n",
       "1           0.965491            0.965491       129.6      0.835210   \n",
       "2           0.963711            0.963711       129.6      0.826353   \n",
       "3           0.971654            0.971654       129.6      0.856758   \n",
       "4           0.977233            0.977233       129.6      0.860261   \n",
       "\n",
       "   percent_change  annual_return  \n",
       "0             NaN     331.294013  \n",
       "1        1.031422     331.294013  \n",
       "2       -1.060462     331.294013  \n",
       "3        3.679411     331.294013  \n",
       "4        0.408888     331.294013  "
      ]
     },
     "execution_count": 68,
     "metadata": {},
     "output_type": "execute_result"
    }
   ],
   "source": [
    "import pymssql\n",
    "import pandas.io.sql\n",
    "\n",
    "con = pymssql.connect(server='WINDOWS-7KG9G4T', database='portfolio')\n",
    "cursor = con.cursor()\n",
    "\n",
    "SQL_QUERY = \"\"\"\n",
    "SELECT TOP 10 *\n",
    "FROM StockMetric;\n",
    "\"\"\"\n",
    "\n",
    "df = pandas.io.sql.read_sql(SQL_QUERY, con)\n",
    "df.head()\n"
   ]
  },
  {
   "cell_type": "markdown",
   "metadata": {},
   "source": [
    "# Graphing\n",
    "## Portfolio\n",
    "### First lets graph our Cumulative return to see how our portfolio did over time"
   ]
  },
  {
   "cell_type": "code",
   "execution_count": 72,
   "metadata": {},
   "outputs": [
    {
     "name": "stderr",
     "output_type": "stream",
     "text": [
      "C:\\Users\\asmit\\AppData\\Local\\Temp\\ipykernel_26088\\4175900718.py:11: UserWarning: pandas only supports SQLAlchemy connectable (engine/connection) or database string URI or sqlite3 DBAPI2 connection. Other DBAPI2 objects are not tested. Please consider using SQLAlchemy.\n",
      "  df_cum_over_time = pandas.io.sql.read_sql(cum_over_time, con)\n"
     ]
    },
    {
     "data": {
      "text/plain": [
       "<Axes: xlabel='stock_timestamp', ylabel='cumulative_return'>"
      ]
     },
     "execution_count": 72,
     "metadata": {},
     "output_type": "execute_result"
    },
    {
     "data": {
      "image/png": "[encoded data removed]",
      "text/plain": [
       "<Figure size 640x480 with 1 Axes>"
      ]
     },
     "metadata": {},
     "output_type": "display_data"
    }
   ],
   "source": [
    "import seaborn as sns\n",
    "\n",
    "con = pymssql.connect(server='WINDOWS-7KG9G4T', database='portfolio')\n",
    "cursor = con.cursor()\n",
    "\n",
    "cum_over_time = \"\"\"\n",
    "SELECT stock_timestamp, cumulative_return, total_return\n",
    "FROM StockMetric;\n",
    "\"\"\"\n",
    "\n",
    "df_cum_over_time = pandas.io.sql.read_sql(cum_over_time, con)\n",
    "\n",
    "sns.lineplot(\n",
    "    data =  df_cum_over_time,\n",
    "    x='stock_timestamp',\n",
    "    y='cumulative_return',\n",
    ")"
   ]
  },
  {
   "cell_type": "markdown",
   "metadata": {},
   "source": [
    "We can see from the steepnes of the line that our portfolio has started to do worse in recent days as the line is less steep indicating that the average return has dropped"
   ]
  },
  {
   "cell_type": "markdown",
   "metadata": {},
   "source": [
    "### Next lets graph our Total return vs our anual return to see how our portfolio did each year compared to overall"
   ]
  },
  {
   "cell_type": "code",
   "execution_count": 89,
   "metadata": {},
   "outputs": [
    {
     "name": "stderr",
     "output_type": "stream",
     "text": [
      "C:\\Users\\asmit\\AppData\\Local\\Temp\\ipykernel_26088\\3799223054.py:14: UserWarning: pandas only supports SQLAlchemy connectable (engine/connection) or database string URI or sqlite3 DBAPI2 connection. Other DBAPI2 objects are not tested. Please consider using SQLAlchemy.\n",
      "  df_annual = pandas.io.sql.read_sql(annual_time, con)\n",
      "C:\\Users\\asmit\\AppData\\Local\\Temp\\ipykernel_26088\\3799223054.py:18: UserWarning: pandas only supports SQLAlchemy connectable (engine/connection) or database string URI or sqlite3 DBAPI2 connection. Other DBAPI2 objects are not tested. Please consider using SQLAlchemy.\n",
      "  df_total = pandas.io.sql.read_sql(total_time, con)\n"
     ]
    },
    {
     "data": {
      "image/png": "[encoded data removed]",
      "text/plain": [
       "<Figure size 640x480 with 1 Axes>"
      ]
     },
     "metadata": {},
     "output_type": "display_data"
    }
   ],
   "source": [
    "import matplotlib.pyplot as plt\n",
    "con = pymssql.connect(server='WINDOWS-7KG9G4T', database='portfolio')\n",
    "cursor = con.cursor()\n",
    "\n",
    "annual_time = \"\"\"\n",
    "SELECT annual_return, [year]\n",
    "FROM FormattedPortMetrics;\n",
    "\"\"\"\n",
    "total_time = \"\"\"\n",
    "SELECT DISTINCT total_return\n",
    "FROM FormattedPortMetrics;\n",
    "\"\"\"\n",
    "\n",
    "df_annual = pandas.io.sql.read_sql(annual_time, con)\n",
    "df_annual = df_annual.iloc[1:3]\n",
    "df_annual['return'] = df_annual['annual_return']\n",
    "df_annual.drop(labels='annual_return', inplace=True, axis='columns')\n",
    "df_total = pandas.io.sql.read_sql(total_time, con)\n",
    "df_total['year'] = 'total'\n",
    "df_total['return'] = df_total['total_return']\n",
    "df_total.drop(labels='total_return', inplace=True, axis='columns')\n",
    "df_annual_total = pd.concat([df_annual, df_total], axis=0)\n",
    "\n",
    "sns.barplot(\n",
    "    x='year',\n",
    "    y='return',\n",
    "    data=df_annual_total\n",
    ")\n",
    "plt.show()\n"
   ]
  },
  {
   "cell_type": "markdown",
   "metadata": {},
   "source": [
    "As we can see our two years roughly add up to our total return values. It also appears that we did worse in 2024 than in 2023, but this is not true as 2024 only goes through early July rather than the whole year.\n",
    "Considering we have approximatly half as many data points for 2024 than 2023 it would appear that we are doing about the same if not slightly better in 2024 than in 2023."
   ]
  },
  {
   "cell_type": "markdown",
   "metadata": {},
   "source": [
    "### Now lets graph our our volitility comparied to our market index volitility"
   ]
  },
  {
   "cell_type": "code",
   "execution_count": 150,
   "metadata": {},
   "outputs": [
    {
     "name": "stderr",
     "output_type": "stream",
     "text": [
      "C:\\Users\\asmit\\AppData\\Local\\Temp\\ipykernel_26088\\1919340576.py:9: UserWarning: pandas only supports SQLAlchemy connectable (engine/connection) or database string URI or sqlite3 DBAPI2 connection. Other DBAPI2 objects are not tested. Please consider using SQLAlchemy.\n",
      "  df_port_vol = pandas.io.sql.read_sql(port_vol, con)\n",
      "C:\\Users\\asmit\\AppData\\Local\\Temp\\ipykernel_26088\\1919340576.py:16: UserWarning: pandas only supports SQLAlchemy connectable (engine/connection) or database string URI or sqlite3 DBAPI2 connection. Other DBAPI2 objects are not tested. Please consider using SQLAlchemy.\n",
      "  df_ind_vol = pandas.io.sql.read_sql(ind_vol, con)\n"
     ]
    },
    {
     "data": {
      "text/plain": [
       "<Axes: xlabel='stock_ticker', ylabel='volatility'>"
      ]
     },
     "execution_count": 150,
     "metadata": {},
     "output_type": "execute_result"
    },
    {
     "data": {
      "image/png": "[encoded data removed]",
      "text/plain": [
       "<Figure size 640x480 with 1 Axes>"
      ]
     },
     "metadata": {},
     "output_type": "display_data"
    }
   ],
   "source": [
    "con = pymssql.connect(server='WINDOWS-7KG9G4T', database='portfolio')\n",
    "cursor = con.cursor()\n",
    "\n",
    "port_vol = \"\"\"\n",
    "SELECT DISTINCT volatility\n",
    "FROM FormattedPortMetrics;\n",
    "\"\"\"\n",
    "df_port_vol = pandas.io.sql.read_sql(port_vol, con)\n",
    "df_port_vol['stock_ticker'] = 'port'\n",
    "\n",
    "ind_vol = \"\"\"\n",
    "SELECT DISTINCT volitality\n",
    "FROM IndexMetrics;\n",
    "\"\"\"\n",
    "df_ind_vol = pandas.io.sql.read_sql(ind_vol, con)\n",
    "df_ind_vol['stock_ticker'] = 'ndx'\n",
    "df_ind_vol['volatility'] = df_ind_vol['volitality']\n",
    "df_ind_vol.drop(labels='volitality', inplace=True, axis='columns')\n",
    "\n",
    "df_vol = pd.concat([df_port_vol, df_ind_vol], axis=0)\n",
    "\n",
    "sns.barplot(\n",
    "    x='stock_ticker',\n",
    "    y='volatility',\n",
    "    data=df_vol\n",
    ")\n"
   ]
  },
  {
   "cell_type": "markdown",
   "metadata": {},
   "source": [
    "From this we can see that our portfolio is much less volitile than the overall market which is good because that means we are makeing fairly safe investments."
   ]
  },
  {
   "cell_type": "markdown",
   "metadata": {},
   "source": [
    "### Now lets see what our Portfolio's sharpe ratio is"
   ]
  },
  {
   "cell_type": "code",
   "execution_count": 153,
   "metadata": {},
   "outputs": [
    {
     "name": "stderr",
     "output_type": "stream",
     "text": [
      "C:\\Users\\asmit\\AppData\\Local\\Temp\\ipykernel_26088\\33206420.py:8: UserWarning: pandas only supports SQLAlchemy connectable (engine/connection) or database string URI or sqlite3 DBAPI2 connection. Other DBAPI2 objects are not tested. Please consider using SQLAlchemy.\n",
      "  df_port_shar = pandas.io.sql.read_sql(port_sharpe, con)\n"
     ]
    },
    {
     "data": {
      "text/plain": [
       "<Axes: xlabel='portfolio', ylabel='sharpe_ratio'>"
      ]
     },
     "execution_count": 153,
     "metadata": {},
     "output_type": "execute_result"
    },
    {
     "data": {
      "image/png": "[encoded data removed]",
      "text/plain": [
       "<Figure size 640x480 with 1 Axes>"
      ]
     },
     "metadata": {},
     "output_type": "display_data"
    }
   ],
   "source": [
    "con = pymssql.connect(server='WINDOWS-7KG9G4T', database='portfolio')\n",
    "cursor = con.cursor()\n",
    "\n",
    "port_sharpe = \"\"\"\n",
    "SELECT DISTINCT sharpe_ratio\n",
    "FROM FormattedPortMetrics;\n",
    "\"\"\"\n",
    "df_port_shar = pandas.io.sql.read_sql(port_sharpe, con)\n",
    "df_port_shar['portfolio'] = 'port'\n",
    "\n",
    "sns.barplot(\n",
    "    data=df_port_shar,\n",
    "    x='portfolio',\n",
    "    y='sharpe_ratio'\n",
    ")"
   ]
  },
  {
   "cell_type": "markdown",
   "metadata": {},
   "source": [
    "Knowing that a sharpe ratio of less than 1 is poor, we can see that overall our portfolio is doing poorly."
   ]
  },
  {
   "cell_type": "markdown",
   "metadata": {},
   "source": [
    "## Stocks and ETFs\n",
    "### First lets graph our cumulative return over time to see how our return on Stocks and ETFs was over time."
   ]
  },
  {
   "cell_type": "code",
   "execution_count": 94,
   "metadata": {},
   "outputs": [
    {
     "name": "stderr",
     "output_type": "stream",
     "text": [
      "C:\\Users\\asmit\\AppData\\Local\\Temp\\ipykernel_26088\\666576546.py:9: UserWarning: pandas only supports SQLAlchemy connectable (engine/connection) or database string URI or sqlite3 DBAPI2 connection. Other DBAPI2 objects are not tested. Please consider using SQLAlchemy.\n",
      "  df_cum_over_time = pandas.io.sql.read_sql(cum_over_time, con)\n"
     ]
    },
    {
     "data": {
      "text/plain": [
       "<Axes: xlabel='stock_timestamp', ylabel='cumulative_return'>"
      ]
     },
     "execution_count": 94,
     "metadata": {},
     "output_type": "execute_result"
    },
    {
     "data": {
      "image/png": "[encoded data removed]",
      "text/plain": [
       "<Figure size 640x480 with 1 Axes>"
      ]
     },
     "metadata": {},
     "output_type": "display_data"
    }
   ],
   "source": [
    "con = pymssql.connect(server='WINDOWS-7KG9G4T', database='portfolio')\n",
    "cursor = con.cursor()\n",
    "\n",
    "cum_over_time = \"\"\"\n",
    "SELECT stock_timestamp, cumulative_return\n",
    "FROM StockAndETFMetrics;\n",
    "\"\"\"\n",
    "\n",
    "df_cum_over_time = pandas.io.sql.read_sql(cum_over_time, con)\n",
    "\n",
    "sns.lineplot(\n",
    "    data =  df_cum_over_time,\n",
    "    x='stock_timestamp',\n",
    "    y='cumulative_return',\n",
    ")"
   ]
  },
  {
   "cell_type": "markdown",
   "metadata": {},
   "source": [
    "### Next lets graph our 10 day moving average, 100 day moving average, and our market index did over time to compare our averages to the market standard."
   ]
  },
  {
   "cell_type": "code",
   "execution_count": 128,
   "metadata": {},
   "outputs": [
    {
     "name": "stderr",
     "output_type": "stream",
     "text": [
      "C:\\Users\\asmit\\AppData\\Local\\Temp\\ipykernel_26088\\1682400989.py:15: UserWarning: pandas only supports SQLAlchemy connectable (engine/connection) or database string URI or sqlite3 DBAPI2 connection. Other DBAPI2 objects are not tested. Please consider using SQLAlchemy.\n",
      "  df_moving = pandas.io.sql.read_sql(moving_avg, con)\n",
      "C:\\Users\\asmit\\AppData\\Local\\Temp\\ipykernel_26088\\1682400989.py:16: UserWarning: pandas only supports SQLAlchemy connectable (engine/connection) or database string URI or sqlite3 DBAPI2 connection. Other DBAPI2 objects are not tested. Please consider using SQLAlchemy.\n",
      "  df_market = pandas.io.sql.read_sql(market_idx, con)\n"
     ]
    },
    {
     "data": {
      "text/plain": [
       "<Axes: xlabel='stock_timestamp', ylabel='moving_average_10'>"
      ]
     },
     "execution_count": 128,
     "metadata": {},
     "output_type": "execute_result"
    },
    {
     "data": {
      "image/png": "[encoded data removed]",
      "text/plain": [
       "<Figure size 640x480 with 1 Axes>"
      ]
     },
     "metadata": {},
     "output_type": "display_data"
    }
   ],
   "source": [
    "con = pymssql.connect(server='WINDOWS-7KG9G4T', database='portfolio')\n",
    "cursor = con.cursor()\n",
    "\n",
    "moving_avg = \"\"\"\n",
    "SELECT stock_timestamp, moving_average_10, moving_average_100, stock_ticker\n",
    "FROM StockAndETFMetrics\n",
    "ORDER BY stock_timestamp;\n",
    "\"\"\"\n",
    "market_idx  = \"\"\"\n",
    "SELECT time_stamp, comparision_stockMarket10, comparision_stockMarket100\n",
    "FROM IndexMetrics;\n",
    "\"\"\"\n",
    "\n",
    "df_moving = pandas.io.sql.read_sql(moving_avg, con)\n",
    "df_market = pandas.io.sql.read_sql(market_idx, con)\n",
    "df_market['stock_ticker'] = 'market'\n",
    "df_market['moving_average_10'] = df_market['comparision_stockMarket10']\n",
    "df_market['moving_average_100'] = df_market['comparision_stockMarket100']\n",
    "df_market.drop(labels='comparision_stockMarket10', inplace=True, axis='columns')\n",
    "df_market.drop(labels='comparision_stockMarket100', inplace=True, axis='columns')\n",
    "df_market['stock_timestamp'] = df_market['time_stamp']\n",
    "df_market.drop(labels='time_stamp', inplace=True, axis='columns')\n",
    "df_moving_market = pd.concat([df_moving, df_market], axis=0)\n",
    "\n",
    "sns.lineplot(\n",
    "    data =  df_moving_market,\n",
    "    x='stock_timestamp',\n",
    "    y='moving_average_10',\n",
    "    hue='stock_ticker'\n",
    ")\n"
   ]
  },
  {
   "cell_type": "markdown",
   "metadata": {},
   "source": [
    "From the 10 day average graph we can see that the luxh is a very volitile stock as the 10 day average return is constantly changing. We can also see that gme becomes fairly volitile towards the end of 2023 and through 2024 as there are a lot of large changes in the average return. Finally We can see that our other stocks are fairly \"safe\" stocks as they approximately followed the trend of the market index."
   ]
  },
  {
   "cell_type": "code",
   "execution_count": 126,
   "metadata": {},
   "outputs": [
    {
     "data": {
      "text/plain": [
       "<Axes: xlabel='stock_timestamp', ylabel='moving_average_100'>"
      ]
     },
     "execution_count": 126,
     "metadata": {},
     "output_type": "execute_result"
    },
    {
     "data": {
      "image/png": "[encoded data removed]",
      "text/plain": [
       "<Figure size 640x480 with 1 Axes>"
      ]
     },
     "metadata": {},
     "output_type": "display_data"
    }
   ],
   "source": [
    "sns.lineplot(\n",
    "    data =  df_moving_market,\n",
    "    x='stock_timestamp',\n",
    "    y='moving_average_100',\n",
    "    hue='stock_ticker'\n",
    ")"
   ]
  },
  {
   "cell_type": "markdown",
   "metadata": {},
   "source": [
    "From this graph we can see that, both luxh and gme change a lot over the course of their 100 day averages. We can also see that lulu and aapl are the most stable and \"safe\" investments in relation to the Market index over a 100 day average. dfsi 100 day average stays fairly stable over the course of our investment, but this is not great as the market increased over the course of the investment"
   ]
  },
  {
   "cell_type": "markdown",
   "metadata": {},
   "source": [
    "### Now lets graph our daily sharp ratio per stock and ETF over time to see how our stocks compared to eachother"
   ]
  },
  {
   "cell_type": "code",
   "execution_count": 104,
   "metadata": {},
   "outputs": [
    {
     "name": "stderr",
     "output_type": "stream",
     "text": [
      "C:\\Users\\asmit\\AppData\\Local\\Temp\\ipykernel_26088\\3007279447.py:10: UserWarning: pandas only supports SQLAlchemy connectable (engine/connection) or database string URI or sqlite3 DBAPI2 connection. Other DBAPI2 objects are not tested. Please consider using SQLAlchemy.\n",
      "  df_sharpe = pandas.io.sql.read_sql(sharpe, con)\n"
     ]
    },
    {
     "data": {
      "text/plain": [
       "<Axes: xlabel='stock_timestamp', ylabel='sharpe_ratio'>"
      ]
     },
     "execution_count": 104,
     "metadata": {},
     "output_type": "execute_result"
    },
    {
     "data": {
      "image/png": "[encoded data removed]",
      "text/plain": [
       "<Figure size 640x480 with 1 Axes>"
      ]
     },
     "metadata": {},
     "output_type": "display_data"
    }
   ],
   "source": [
    "con = pymssql.connect(server='WINDOWS-7KG9G4T', database='portfolio')\n",
    "cursor = con.cursor()\n",
    "\n",
    "sharpe = \"\"\"\n",
    "SELECT stock_timestamp, sharpe_ratio, stock_ticker\n",
    "FROM StockAndETFMetrics\n",
    "ORDER BY stock_timestamp;\n",
    "\"\"\"\n",
    "\n",
    "df_sharpe = pandas.io.sql.read_sql(sharpe, con)\n",
    "\n",
    "sns.lineplot(\n",
    "    data =  df_sharpe,\n",
    "    x='stock_timestamp',\n",
    "    y='sharpe_ratio',\n",
    "    hue='stock_ticker'\n",
    ")"
   ]
  },
  {
   "cell_type": "markdown",
   "metadata": {},
   "source": [
    "From this graph we can see which of our stocks and ETFs had a high enough return to be worth the instability. Knowing that a sharpe ratio of less than 1 is poor, we can see that gme, dfsi, and luxh are under preforming at all less than .5 consistently. We can also see that aaple and lulu are very good stocks to invest in.\n"
   ]
  },
  {
   "cell_type": "markdown",
   "metadata": {},
   "source": [
    "## Indices"
   ]
  },
  {
   "cell_type": "markdown",
   "metadata": {},
   "source": [
    "### Now lets graph our total stockmarket Index and our price index over time"
   ]
  },
  {
   "cell_type": "code",
   "execution_count": 133,
   "metadata": {},
   "outputs": [
    {
     "name": "stderr",
     "output_type": "stream",
     "text": [
      "C:\\Users\\asmit\\AppData\\Local\\Temp\\ipykernel_26088\\1113923897.py:13: UserWarning: pandas only supports SQLAlchemy connectable (engine/connection) or database string URI or sqlite3 DBAPI2 connection. Other DBAPI2 objects are not tested. Please consider using SQLAlchemy.\n",
      "  df_price_indx = pandas.io.sql.read_sql(price_indx, con)\n",
      "C:\\Users\\asmit\\AppData\\Local\\Temp\\ipykernel_26088\\1113923897.py:18: UserWarning: pandas only supports SQLAlchemy connectable (engine/connection) or database string URI or sqlite3 DBAPI2 connection. Other DBAPI2 objects are not tested. Please consider using SQLAlchemy.\n",
      "  df_market_indx = pandas.io.sql.read_sql(market_indx, con)\n"
     ]
    },
    {
     "data": {
      "text/plain": [
       "<Axes: xlabel='time_stamp', ylabel='index'>"
      ]
     },
     "execution_count": 133,
     "metadata": {},
     "output_type": "execute_result"
    },
    {
     "data": {
      "image/png": "[encoded data removed]",
      "text/plain": [
       "<Figure size 640x480 with 1 Axes>"
      ]
     },
     "metadata": {},
     "output_type": "display_data"
    }
   ],
   "source": [
    "con = pymssql.connect(server='WINDOWS-7KG9G4T', database='portfolio')\n",
    "cursor = con.cursor()\n",
    "\n",
    "price_indx = \"\"\"\n",
    "SELECT time_stamp, price_index\n",
    "FROM IndexMetrics;\n",
    "\"\"\"\n",
    "market_indx = \"\"\"\n",
    "SELECT time_stamp, comparision_stockMarket10\n",
    "FROM IndexMetrics;\n",
    "\"\"\"\n",
    "\n",
    "df_price_indx = pandas.io.sql.read_sql(price_indx, con)\n",
    "df_price_indx['ticker'] = 'price'\n",
    "df_price_indx['index'] = df_price_indx['price_index']\n",
    "df_price_indx.drop(labels='price_index', inplace=True, axis='columns')\n",
    "\n",
    "df_market_indx = pandas.io.sql.read_sql(market_indx, con)\n",
    "df_market_indx['ticker'] = 'market'\n",
    "df_market_indx['index'] = df_market_indx['comparision_stockMarket10']\n",
    "df_market_indx.drop(labels='comparision_stockMarket10', inplace=True, axis='columns')\n",
    "\n",
    "df_market_price = pd.concat([df_price_indx, df_market_indx], axis=0)\n",
    "\n",
    "sns.lineplot(\n",
    "    data =  df_market_price,\n",
    "    x='time_stamp',\n",
    "    y='index',\n",
    "    hue='ticker'\n",
    ")"
   ]
  },
  {
   "cell_type": "markdown",
   "metadata": {},
   "source": [
    "From this graph we can see that the market price and Whole Market Index followed almost the same trend over the course of our investment."
   ]
  },
  {
   "cell_type": "markdown",
   "metadata": {},
   "source": [
    "## Forex\n",
    "### First lets graph our cumulative return over time"
   ]
  },
  {
   "cell_type": "code",
   "execution_count": 136,
   "metadata": {},
   "outputs": [
    {
     "name": "stderr",
     "output_type": "stream",
     "text": [
      "C:\\Users\\asmit\\AppData\\Local\\Temp\\ipykernel_26088\\1194922861.py:9: UserWarning: pandas only supports SQLAlchemy connectable (engine/connection) or database string URI or sqlite3 DBAPI2 connection. Other DBAPI2 objects are not tested. Please consider using SQLAlchemy.\n",
      "  df_forex_cum_ret = pandas.io.sql.read_sql(forex_cum, con)\n"
     ]
    },
    {
     "data": {
      "text/plain": [
       "<Axes: xlabel='eurousd_timestamp', ylabel='cumulative_return'>"
      ]
     },
     "execution_count": 136,
     "metadata": {},
     "output_type": "execute_result"
    },
    {
     "data": {
      "image/png": "[encoded data removed]",
      "text/plain": [
       "<Figure size 640x480 with 1 Axes>"
      ]
     },
     "metadata": {},
     "output_type": "display_data"
    }
   ],
   "source": [
    "con = pymssql.connect(server='WINDOWS-7KG9G4T', database='portfolio')\n",
    "cursor = con.cursor()\n",
    "\n",
    "forex_cum = \"\"\"\n",
    "SELECT cumulative_return, eurousd_timestamp\n",
    "FROM forexMetrics;\n",
    "\"\"\"\n",
    "\n",
    "df_forex_cum_ret = pandas.io.sql.read_sql(forex_cum, con)\n",
    "\n",
    "sns.lineplot(\n",
    "    data =  df_forex_cum_ret,\n",
    "    x='eurousd_timestamp',\n",
    "    y='cumulative_return'\n",
    ")"
   ]
  },
  {
   "cell_type": "markdown",
   "metadata": {},
   "source": [
    "From this graph we can see that over the course of our investment we consistantly made money. We can also see that there were periods during our investment period where we lost money, but the overall trend was positive."
   ]
  },
  {
   "cell_type": "markdown",
   "metadata": {},
   "source": [
    "### Next lets graph our percent change over time so that we can see how the exchange rate fluxtuated"
   ]
  },
  {
   "cell_type": "code",
   "execution_count": 137,
   "metadata": {},
   "outputs": [
    {
     "name": "stderr",
     "output_type": "stream",
     "text": [
      "C:\\Users\\asmit\\AppData\\Local\\Temp\\ipykernel_26088\\2811867374.py:9: UserWarning: pandas only supports SQLAlchemy connectable (engine/connection) or database string URI or sqlite3 DBAPI2 connection. Other DBAPI2 objects are not tested. Please consider using SQLAlchemy.\n",
      "  df_forex_cum_ret = pandas.io.sql.read_sql(forex_cum, con)\n"
     ]
    },
    {
     "data": {
      "text/plain": [
       "<Axes: xlabel='eurousd_timestamp', ylabel='percent_change'>"
      ]
     },
     "execution_count": 137,
     "metadata": {},
     "output_type": "execute_result"
    },
    {
     "data": {
      "image/png": "[encoded data removed]",
      "text/plain": [
       "<Figure size 640x480 with 1 Axes>"
      ]
     },
     "metadata": {},
     "output_type": "display_data"
    }
   ],
   "source": [
    "con = pymssql.connect(server='WINDOWS-7KG9G4T', database='portfolio')\n",
    "cursor = con.cursor()\n",
    "\n",
    "forex_cum = \"\"\"\n",
    "SELECT percent_change, eurousd_timestamp\n",
    "FROM forexMetrics;\n",
    "\"\"\"\n",
    "\n",
    "df_forex_cum_ret = pandas.io.sql.read_sql(forex_cum, con)\n",
    "\n",
    "sns.lineplot(\n",
    "    data =  df_forex_cum_ret,\n",
    "    x='eurousd_timestamp',\n",
    "    y='percent_change'\n",
    ")"
   ]
  },
  {
   "cell_type": "markdown",
   "metadata": {},
   "source": [
    "From this fairly chaotic graph was can see that the Euro USD exchange rate was almost constantly fluctuating between positive and negative amounts of about 1 % with a few spikes both up and down to approximately 2%."
   ]
  },
  {
   "cell_type": "markdown",
   "metadata": {},
   "source": [
    "## Overall"
   ]
  },
  {
   "cell_type": "markdown",
   "metadata": {},
   "source": [
    "### Finally lets graph the total return per stock, ETF, and Forex to see how each aspect of our portfolio did individually"
   ]
  },
  {
   "cell_type": "code",
   "execution_count": null,
   "metadata": {},
   "outputs": [
    {
     "name": "stderr",
     "output_type": "stream",
     "text": [
      "C:\\Users\\asmit\\AppData\\Local\\Temp\\ipykernel_26088\\3974406356.py:8: UserWarning: pandas only supports SQLAlchemy connectable (engine/connection) or database string URI or sqlite3 DBAPI2 connection. Other DBAPI2 objects are not tested. Please consider using SQLAlchemy.\n",
      "  df_forex_tot = pandas.io.sql.read_sql(forex_tot, con)\n",
      "C:\\Users\\asmit\\AppData\\Local\\Temp\\ipykernel_26088\\3974406356.py:15: UserWarning: pandas only supports SQLAlchemy connectable (engine/connection) or database string URI or sqlite3 DBAPI2 connection. Other DBAPI2 objects are not tested. Please consider using SQLAlchemy.\n",
      "  df_stock_etf_tot= pandas.io.sql.read_sql(stock_etf_tot, con)\n"
     ]
    },
    {
     "data": {
      "text/plain": [
       "<Axes: xlabel='stock_ticker', ylabel='total_return'>"
      ]
     },
     "metadata": {},
     "output_type": "display_data"
    },
    {
     "data": {
      "image/png": "[encoded data removed]",
      "text/plain": [
       "<Figure size 640x480 with 1 Axes>"
      ]
     },
     "metadata": {},
     "output_type": "display_data"
    }
   ],
   "source": [
    "con = pymssql.connect(server='WINDOWS-7KG9G4T', database='portfolio')\n",
    "cursor = con.cursor()\n",
    "\n",
    "forex_tot = \"\"\"\n",
    "SELECT DISTINCT total_return\n",
    "FROM forexMetrics;\n",
    "\"\"\"\n",
    "df_forex_tot = pandas.io.sql.read_sql(forex_tot, con)\n",
    "df_forex_tot['stock_ticker'] = 'eurusd'\n",
    "\n",
    "stock_etf_tot = \"\"\"\n",
    "SELECT DISTINCT stock_ticker, total_return\n",
    "FROM StockAndETFMetrics;\n",
    "\"\"\"\n",
    "df_stock_etf_tot= pandas.io.sql.read_sql(stock_etf_tot, con)\n",
    "\n",
    "df_total_return = pd.concat([df_forex_tot, df_stock_etf_tot], axis=0)\n",
    "\n",
    "sns.barplot(\n",
    "    data =  df_total_return,\n",
    "    x='stock_ticker',\n",
    "    y='total_return'\n",
    ")"
   ]
  },
  {
   "cell_type": "markdown",
   "metadata": {},
   "source": [
    "From this graph it looks like I should have purchased more luxh stock as it was my highest return. However, from looking at the other graphs it is clear that I should have bought more luxh and then sold the shares in early 2024 when the stock returns tanked. I should have then taken the money made from selling my luxh stock and bough more aapl and dfsi stocks. Look at this portfolio in total for the course of the investment period I also should begin selling my lulu shares as the returns on lulu are going down on average."
   ]
  }
 ],
 "metadata": {
  "kernelspec": {
   "display_name": ".venv",
   "language": "python",
   "name": "python3"
  },
  "language_info": {
   "codemirror_mode": {
    "name": "ipython",
    "version": 3
   },
   "file_extension": ".py",
   "mimetype": "text/x-python",
   "name": "python",
   "nbconvert_exporter": "python",
   "pygments_lexer": "ipython3",
   "version": "3.12.4"
  }
 },
 "nbformat": 4,
 "nbformat_minor": 2
}
