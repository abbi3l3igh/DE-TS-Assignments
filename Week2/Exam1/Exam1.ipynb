{
 "cells": [
  {
   "cell_type": "code",
   "execution_count": 14,
   "metadata": {},
   "outputs": [],
   "source": [
    "class Flight():\n",
    "    def __init__(self, flight_number, departure_city, arrival_city, departure_time, passenger_list = [], seat_capacity = 150) -> None:\n",
    "        self.flight_number = flight_number\n",
    "        self.departure_city = departure_city\n",
    "        self.arrival_city = arrival_city\n",
    "        self.departure_time = departure_time\n",
    "        self.passenger_list = passenger_list\n",
    "        self.seat_capacity = seat_capacity\n",
    "    \n",
    "    def add_passenger(self, name) -> None:\n",
    "        if len(self.passenger_list) < 150:\n",
    "            self.passenger_list.append(name)\n",
    "        else:\n",
    "            print(\"The flight is full, unable to add an additional passenger.\")\n",
    "\n",
    "    def remove_passenger(self, name) -> None:\n",
    "        if name in self.passenger_list:\n",
    "            self.passenger_list.remove(name)\n",
    "        else:\n",
    "            print(\"Passenger is not on this flight.\")\n",
    "\n",
    "    def log_flight(self) -> None:\n",
    "        flight_details = f\"{self.flight_number}, {self.departure_city}, {self.arrival_city}\\n{len(self.passenger_list)}\"\n",
    "        with open(file='flight_logs', mode = \"at\") as f:\n",
    "            f.writelines(flight_details)\n",
    "    \n",
    "    def check_availability(self) -> int:\n",
    "        return self.seat_capacity - len(self.passenger_list)\n",
    "    \n",
    "    def __str__(self) -> str:\n",
    "        return f'Flight {self.flight_number} from {self.departure_city} to {self.arrival_city}'"
   ]
  },
  {
   "cell_type": "code",
   "execution_count": 15,
   "metadata": {},
   "outputs": [
    {
     "name": "stdout",
     "output_type": "stream",
     "text": [
      "150\n",
      "Flight 1234 from Milwaukee to Dallas\n"
     ]
    }
   ],
   "source": [
    "new_flight = Flight(flight_number=1234, departure_city=\"Milwaukee\", arrival_city=\"Dallas\", departure_time=\"10:30\")\n",
    "new_flight.add_passenger(\"abbie\")\n",
    "new_flight.remove_passenger(\"abbie\")\n",
    "new_flight.log_flight()\n",
    "print(new_flight.check_availability())\n",
    "print(new_flight)"
   ]
  },
  {
   "cell_type": "code",
   "execution_count": 18,
   "metadata": {},
   "outputs": [
    {
     "name": "stdout",
     "output_type": "stream",
     "text": [
      "197\n",
      "Flight 54321 from Sarasota to Atlanta\n"
     ]
    }
   ],
   "source": [
    "new_flight = Flight(flight_number=54321, departure_city=\"Sarasota\", arrival_city=\"Atlanta\", departure_time=\"13:00\", seat_capacity=200)\n",
    "new_flight.add_passenger(\"abbie\")\n",
    "#new_flight.remove_passenger(\"abbie\")\n",
    "new_flight.log_flight()\n",
    "print(new_flight.check_availability())\n",
    "print(new_flight)"
   ]
  }
 ],
 "metadata": {
  "kernelspec": {
   "display_name": ".venv",
   "language": "python",
   "name": "python3"
  },
  "language_info": {
   "codemirror_mode": {
    "name": "ipython",
    "version": 3
   },
   "file_extension": ".py",
   "mimetype": "text/x-python",
   "name": "python",
   "nbconvert_exporter": "python",
   "pygments_lexer": "ipython3",
   "version": "3.12.4"
  }
 },
 "nbformat": 4,
 "nbformat_minor": 2
}
